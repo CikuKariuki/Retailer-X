{
 "cells": [
  {
   "cell_type": "code",
   "execution_count": 1,
   "metadata": {},
   "outputs": [],
   "source": [
    "import pandas as pd"
   ]
  },
  {
   "cell_type": "code",
   "execution_count": 2,
   "metadata": {},
   "outputs": [
    {
     "data": {
      "text/html": [
       "<div>\n",
       "<style scoped>\n",
       "    .dataframe tbody tr th:only-of-type {\n",
       "        vertical-align: middle;\n",
       "    }\n",
       "\n",
       "    .dataframe tbody tr th {\n",
       "        vertical-align: top;\n",
       "    }\n",
       "\n",
       "    .dataframe thead th {\n",
       "        text-align: right;\n",
       "    }\n",
       "</style>\n",
       "<table border=\"1\" class=\"dataframe\">\n",
       "  <thead>\n",
       "    <tr style=\"text-align: right;\">\n",
       "      <th></th>\n",
       "      <th>CUSTOMERID</th>\n",
       "      <th>GENDER</th>\n",
       "      <th>AGE</th>\n",
       "      <th>INCOME</th>\n",
       "      <th>EXPERIENCE SCORE</th>\n",
       "      <th>LOYALTY GROUP</th>\n",
       "      <th>ENROLLMENT DATE</th>\n",
       "      <th>HOUSEHOLD SIZE</th>\n",
       "      <th>MARITAL STATUS</th>\n",
       "    </tr>\n",
       "  </thead>\n",
       "  <tbody>\n",
       "    <tr>\n",
       "      <th>0</th>\n",
       "      <td>10001</td>\n",
       "      <td>0</td>\n",
       "      <td>64</td>\n",
       "      <td>$133,498</td>\n",
       "      <td>5</td>\n",
       "      <td>enrolled</td>\n",
       "      <td>06-03-2013</td>\n",
       "      <td>4</td>\n",
       "      <td>Single</td>\n",
       "    </tr>\n",
       "    <tr>\n",
       "      <th>1</th>\n",
       "      <td>10002</td>\n",
       "      <td>0</td>\n",
       "      <td>42</td>\n",
       "      <td>$94,475</td>\n",
       "      <td>9</td>\n",
       "      <td>notenrolled</td>\n",
       "      <td>NaN</td>\n",
       "      <td>6</td>\n",
       "      <td>Married</td>\n",
       "    </tr>\n",
       "    <tr>\n",
       "      <th>2</th>\n",
       "      <td>10003</td>\n",
       "      <td>0</td>\n",
       "      <td>40</td>\n",
       "      <td>$88,610</td>\n",
       "      <td>9</td>\n",
       "      <td>enrolled</td>\n",
       "      <td>02-09-2010</td>\n",
       "      <td>5</td>\n",
       "      <td>Married</td>\n",
       "    </tr>\n",
       "    <tr>\n",
       "      <th>3</th>\n",
       "      <td>10004</td>\n",
       "      <td>0</td>\n",
       "      <td>38</td>\n",
       "      <td>$84,313</td>\n",
       "      <td>8</td>\n",
       "      <td>enrolled</td>\n",
       "      <td>06-04-2015</td>\n",
       "      <td>1</td>\n",
       "      <td>Single</td>\n",
       "    </tr>\n",
       "    <tr>\n",
       "      <th>4</th>\n",
       "      <td>10005</td>\n",
       "      <td>0</td>\n",
       "      <td>30</td>\n",
       "      <td>$51,498</td>\n",
       "      <td>3</td>\n",
       "      <td>notenrolled</td>\n",
       "      <td>NaN</td>\n",
       "      <td>1</td>\n",
       "      <td>Single</td>\n",
       "    </tr>\n",
       "  </tbody>\n",
       "</table>\n",
       "</div>"
      ],
      "text/plain": [
       "   CUSTOMERID  GENDER  AGE    INCOME  EXPERIENCE SCORE LOYALTY GROUP  \\\n",
       "0       10001       0   64  $133,498                 5      enrolled   \n",
       "1       10002       0   42   $94,475                 9   notenrolled   \n",
       "2       10003       0   40   $88,610                 9      enrolled   \n",
       "3       10004       0   38   $84,313                 8      enrolled   \n",
       "4       10005       0   30   $51,498                 3   notenrolled   \n",
       "\n",
       "  ENROLLMENT DATE  HOUSEHOLD SIZE MARITAL STATUS  \n",
       "0      06-03-2013               4         Single  \n",
       "1             NaN               6        Married  \n",
       "2      02-09-2010               5        Married  \n",
       "3      06-04-2015               1         Single  \n",
       "4             NaN               1         Single  "
      ]
     },
     "execution_count": 2,
     "metadata": {},
     "output_type": "execute_result"
    }
   ],
   "source": [
    "customer_data = pd.read_csv('../data/Customer Data Set - Student 1 of 3.csv')\n",
    "customer_data.head()"
   ]
  },
  {
   "cell_type": "code",
   "execution_count": 3,
   "metadata": {},
   "outputs": [
    {
     "data": {
      "text/html": [
       "<div>\n",
       "<style scoped>\n",
       "    .dataframe tbody tr th:only-of-type {\n",
       "        vertical-align: middle;\n",
       "    }\n",
       "\n",
       "    .dataframe tbody tr th {\n",
       "        vertical-align: top;\n",
       "    }\n",
       "\n",
       "    .dataframe thead th {\n",
       "        text-align: right;\n",
       "    }\n",
       "</style>\n",
       "<table border=\"1\" class=\"dataframe\">\n",
       "  <thead>\n",
       "    <tr style=\"text-align: right;\">\n",
       "      <th></th>\n",
       "      <th>PRODUCT CODE</th>\n",
       "      <th>PRODUCT CATEGORY</th>\n",
       "      <th>UNIT LIST PRICE</th>\n",
       "    </tr>\n",
       "  </thead>\n",
       "  <tbody>\n",
       "    <tr>\n",
       "      <th>0</th>\n",
       "      <td>30001</td>\n",
       "      <td>HEALTH &amp; BEAUTY</td>\n",
       "      <td>$7.45</td>\n",
       "    </tr>\n",
       "    <tr>\n",
       "      <th>1</th>\n",
       "      <td>30002</td>\n",
       "      <td>HEALTH &amp; BEAUTY</td>\n",
       "      <td>$5.35</td>\n",
       "    </tr>\n",
       "    <tr>\n",
       "      <th>2</th>\n",
       "      <td>30003</td>\n",
       "      <td>HEALTH &amp; BEAUTY</td>\n",
       "      <td>$5.49</td>\n",
       "    </tr>\n",
       "    <tr>\n",
       "      <th>3</th>\n",
       "      <td>30004</td>\n",
       "      <td>HEALTH &amp; BEAUTY</td>\n",
       "      <td>$6.46</td>\n",
       "    </tr>\n",
       "    <tr>\n",
       "      <th>4</th>\n",
       "      <td>30005</td>\n",
       "      <td>HEALTH &amp; BEAUTY</td>\n",
       "      <td>$7.33</td>\n",
       "    </tr>\n",
       "  </tbody>\n",
       "</table>\n",
       "</div>"
      ],
      "text/plain": [
       "   PRODUCT CODE PRODUCT CATEGORY UNIT LIST PRICE\n",
       "0         30001  HEALTH & BEAUTY          $7.45 \n",
       "1         30002  HEALTH & BEAUTY          $5.35 \n",
       "2         30003  HEALTH & BEAUTY          $5.49 \n",
       "3         30004  HEALTH & BEAUTY          $6.46 \n",
       "4         30005  HEALTH & BEAUTY          $7.33 "
      ]
     },
     "execution_count": 3,
     "metadata": {},
     "output_type": "execute_result"
    }
   ],
   "source": [
    "product_data = pd.read_csv('../data/Product Data Set - Student 2 of 3.csv', sep = '|')\n",
    "product_data.head()"
   ]
  },
  {
   "cell_type": "code",
   "execution_count": 4,
   "metadata": {},
   "outputs": [
    {
     "data": {
      "text/html": [
       "<div>\n",
       "<style scoped>\n",
       "    .dataframe tbody tr th:only-of-type {\n",
       "        vertical-align: middle;\n",
       "    }\n",
       "\n",
       "    .dataframe tbody tr th {\n",
       "        vertical-align: top;\n",
       "    }\n",
       "\n",
       "    .dataframe thead th {\n",
       "        text-align: right;\n",
       "    }\n",
       "</style>\n",
       "<table border=\"1\" class=\"dataframe\">\n",
       "  <thead>\n",
       "    <tr style=\"text-align: right;\">\n",
       "      <th></th>\n",
       "      <th>CUSTOMER NUM</th>\n",
       "      <th>PRODUCT NUM</th>\n",
       "      <th>QUANTITY PURCHASED</th>\n",
       "      <th>DISCOUNT TAKEN</th>\n",
       "      <th>TRANSACTION DATE</th>\n",
       "      <th>STOCKOUT</th>\n",
       "    </tr>\n",
       "  </thead>\n",
       "  <tbody>\n",
       "    <tr>\n",
       "      <th>0</th>\n",
       "      <td>10114</td>\n",
       "      <td>30011</td>\n",
       "      <td>4</td>\n",
       "      <td>0.0</td>\n",
       "      <td>1/2/2015</td>\n",
       "      <td>0</td>\n",
       "    </tr>\n",
       "    <tr>\n",
       "      <th>1</th>\n",
       "      <td>10217</td>\n",
       "      <td>30016</td>\n",
       "      <td>3</td>\n",
       "      <td>0.0</td>\n",
       "      <td>1/2/2015</td>\n",
       "      <td>0</td>\n",
       "    </tr>\n",
       "    <tr>\n",
       "      <th>2</th>\n",
       "      <td>10224</td>\n",
       "      <td>30013</td>\n",
       "      <td>4</td>\n",
       "      <td>0.0</td>\n",
       "      <td>1/2/2015</td>\n",
       "      <td>0</td>\n",
       "    </tr>\n",
       "    <tr>\n",
       "      <th>3</th>\n",
       "      <td>10103</td>\n",
       "      <td>30012</td>\n",
       "      <td>3</td>\n",
       "      <td>0.2</td>\n",
       "      <td>1/2/2015</td>\n",
       "      <td>0</td>\n",
       "    </tr>\n",
       "    <tr>\n",
       "      <th>4</th>\n",
       "      <td>10037</td>\n",
       "      <td>30010</td>\n",
       "      <td>8</td>\n",
       "      <td>0.0</td>\n",
       "      <td>1/2/2015</td>\n",
       "      <td>0</td>\n",
       "    </tr>\n",
       "  </tbody>\n",
       "</table>\n",
       "</div>"
      ],
      "text/plain": [
       "   CUSTOMER NUM  PRODUCT NUM  QUANTITY PURCHASED  DISCOUNT TAKEN  \\\n",
       "0         10114        30011                   4             0.0   \n",
       "1         10217        30016                   3             0.0   \n",
       "2         10224        30013                   4             0.0   \n",
       "3         10103        30012                   3             0.2   \n",
       "4         10037        30010                   8             0.0   \n",
       "\n",
       "  TRANSACTION DATE  STOCKOUT  \n",
       "0         1/2/2015         0  \n",
       "1         1/2/2015         0  \n",
       "2         1/2/2015         0  \n",
       "3         1/2/2015         0  \n",
       "4         1/2/2015         0  "
      ]
     },
     "execution_count": 4,
     "metadata": {},
     "output_type": "execute_result"
    }
   ],
   "source": [
    "transaction_data = pd.read_csv('../data/Transaction Data Set - Student 3 of 3.csv', sep = '|')\n",
    "transaction_data.head()"
   ]
  },
  {
   "cell_type": "markdown",
   "metadata": {},
   "source": [
    "## Data quality\n",
    "\n",
    "clean the data"
   ]
  },
  {
   "cell_type": "code",
   "execution_count": 5,
   "metadata": {},
   "outputs": [],
   "source": [
    "product_data['UNIT LIST PRICE'] = product_data['UNIT LIST PRICE'].map(lambda x: float(x.replace('$','')))"
   ]
  },
  {
   "cell_type": "code",
   "execution_count": 6,
   "metadata": {},
   "outputs": [],
   "source": [
    "customer_data['INCOME'] = customer_data['INCOME'].map(lambda x: x.replace('$', ''))\n",
    "customer_data['INCOME'] = customer_data['INCOME'].map(lambda x: int(x.replace(',','')))"
   ]
  },
  {
   "cell_type": "code",
   "execution_count": 7,
   "metadata": {},
   "outputs": [
    {
     "name": "stdout",
     "output_type": "stream",
     "text": [
      "False\n",
      "False\n",
      "True\n"
     ]
    }
   ],
   "source": [
    "# check for null values in all datasets\n",
    "print(product_data.isnull().values.any())\n",
    "print(transaction_data.isnull().values.any())\n",
    "print(customer_data.isnull().values.any())"
   ]
  },
  {
   "cell_type": "code",
   "execution_count": 8,
   "metadata": {},
   "outputs": [
    {
     "data": {
      "text/plain": [
       "['ENROLLMENT DATE']"
      ]
     },
     "execution_count": 8,
     "metadata": {},
     "output_type": "execute_result"
    }
   ],
   "source": [
    "customer_data.columns[customer_data.isna().any()].to_list()"
   ]
  },
  {
   "cell_type": "code",
   "execution_count": 9,
   "metadata": {},
   "outputs": [],
   "source": [
    "# replace all NaN values with 0\n",
    "customer_data['ENROLLMENT DATE'] = customer_data['ENROLLMENT DATE'].fillna(0)"
   ]
  },
  {
   "cell_type": "code",
   "execution_count": 10,
   "metadata": {},
   "outputs": [
    {
     "data": {
      "text/html": [
       "<div>\n",
       "<style scoped>\n",
       "    .dataframe tbody tr th:only-of-type {\n",
       "        vertical-align: middle;\n",
       "    }\n",
       "\n",
       "    .dataframe tbody tr th {\n",
       "        vertical-align: top;\n",
       "    }\n",
       "\n",
       "    .dataframe thead th {\n",
       "        text-align: right;\n",
       "    }\n",
       "</style>\n",
       "<table border=\"1\" class=\"dataframe\">\n",
       "  <thead>\n",
       "    <tr style=\"text-align: right;\">\n",
       "      <th></th>\n",
       "      <th>CUSTOMER NUM</th>\n",
       "      <th>PRODUCT NUM</th>\n",
       "      <th>QUANTITY PURCHASED</th>\n",
       "      <th>DISCOUNT TAKEN</th>\n",
       "      <th>TRANSACTION DATE</th>\n",
       "      <th>STOCKOUT</th>\n",
       "      <th>PRODUCT CODE</th>\n",
       "      <th>PRODUCT CATEGORY</th>\n",
       "      <th>UNIT LIST PRICE</th>\n",
       "    </tr>\n",
       "  </thead>\n",
       "  <tbody>\n",
       "    <tr>\n",
       "      <th>0</th>\n",
       "      <td>10114</td>\n",
       "      <td>30011</td>\n",
       "      <td>4</td>\n",
       "      <td>0.0</td>\n",
       "      <td>1/2/2015</td>\n",
       "      <td>0</td>\n",
       "      <td>30011</td>\n",
       "      <td>APPAREL</td>\n",
       "      <td>25.46</td>\n",
       "    </tr>\n",
       "    <tr>\n",
       "      <th>1</th>\n",
       "      <td>10086</td>\n",
       "      <td>30011</td>\n",
       "      <td>6</td>\n",
       "      <td>0.0</td>\n",
       "      <td>1/2/2015</td>\n",
       "      <td>0</td>\n",
       "      <td>30011</td>\n",
       "      <td>APPAREL</td>\n",
       "      <td>25.46</td>\n",
       "    </tr>\n",
       "    <tr>\n",
       "      <th>2</th>\n",
       "      <td>10174</td>\n",
       "      <td>30011</td>\n",
       "      <td>10</td>\n",
       "      <td>0.0</td>\n",
       "      <td>1/2/2015</td>\n",
       "      <td>0</td>\n",
       "      <td>30011</td>\n",
       "      <td>APPAREL</td>\n",
       "      <td>25.46</td>\n",
       "    </tr>\n",
       "    <tr>\n",
       "      <th>3</th>\n",
       "      <td>10401</td>\n",
       "      <td>30011</td>\n",
       "      <td>12</td>\n",
       "      <td>0.0</td>\n",
       "      <td>1/2/2015</td>\n",
       "      <td>0</td>\n",
       "      <td>30011</td>\n",
       "      <td>APPAREL</td>\n",
       "      <td>25.46</td>\n",
       "    </tr>\n",
       "    <tr>\n",
       "      <th>4</th>\n",
       "      <td>10216</td>\n",
       "      <td>30011</td>\n",
       "      <td>12</td>\n",
       "      <td>0.1</td>\n",
       "      <td>1/2/2015</td>\n",
       "      <td>0</td>\n",
       "      <td>30011</td>\n",
       "      <td>APPAREL</td>\n",
       "      <td>25.46</td>\n",
       "    </tr>\n",
       "  </tbody>\n",
       "</table>\n",
       "</div>"
      ],
      "text/plain": [
       "   CUSTOMER NUM  PRODUCT NUM  QUANTITY PURCHASED  DISCOUNT TAKEN  \\\n",
       "0         10114        30011                   4             0.0   \n",
       "1         10086        30011                   6             0.0   \n",
       "2         10174        30011                  10             0.0   \n",
       "3         10401        30011                  12             0.0   \n",
       "4         10216        30011                  12             0.1   \n",
       "\n",
       "  TRANSACTION DATE  STOCKOUT  PRODUCT CODE PRODUCT CATEGORY  UNIT LIST PRICE  \n",
       "0         1/2/2015         0         30011          APPAREL            25.46  \n",
       "1         1/2/2015         0         30011          APPAREL            25.46  \n",
       "2         1/2/2015         0         30011          APPAREL            25.46  \n",
       "3         1/2/2015         0         30011          APPAREL            25.46  \n",
       "4         1/2/2015         0         30011          APPAREL            25.46  "
      ]
     },
     "execution_count": 10,
     "metadata": {},
     "output_type": "execute_result"
    }
   ],
   "source": [
    "# combine tables that will give more information when combined\n",
    "trans_products = transaction_data.merge(product_data, how = 'inner', left_on = 'PRODUCT NUM', right_on='PRODUCT CODE')\n",
    "trans_products.head()"
   ]
  },
  {
   "cell_type": "code",
   "execution_count": 11,
   "metadata": {},
   "outputs": [
    {
     "data": {
      "text/html": [
       "<div>\n",
       "<style scoped>\n",
       "    .dataframe tbody tr th:only-of-type {\n",
       "        vertical-align: middle;\n",
       "    }\n",
       "\n",
       "    .dataframe tbody tr th {\n",
       "        vertical-align: top;\n",
       "    }\n",
       "\n",
       "    .dataframe thead th {\n",
       "        text-align: right;\n",
       "    }\n",
       "</style>\n",
       "<table border=\"1\" class=\"dataframe\">\n",
       "  <thead>\n",
       "    <tr style=\"text-align: right;\">\n",
       "      <th></th>\n",
       "      <th>CUSTOMER NUM</th>\n",
       "      <th>PRODUCT NUM</th>\n",
       "      <th>QUANTITY PURCHASED</th>\n",
       "      <th>DISCOUNT TAKEN</th>\n",
       "      <th>TRANSACTION DATE</th>\n",
       "      <th>STOCKOUT</th>\n",
       "      <th>PRODUCT CODE</th>\n",
       "      <th>PRODUCT CATEGORY</th>\n",
       "      <th>UNIT LIST PRICE</th>\n",
       "      <th>TOTAL BOUGHT</th>\n",
       "    </tr>\n",
       "  </thead>\n",
       "  <tbody>\n",
       "    <tr>\n",
       "      <th>0</th>\n",
       "      <td>10114</td>\n",
       "      <td>30011</td>\n",
       "      <td>4</td>\n",
       "      <td>0.0</td>\n",
       "      <td>1/2/2015</td>\n",
       "      <td>0</td>\n",
       "      <td>30011</td>\n",
       "      <td>APPAREL</td>\n",
       "      <td>25.46</td>\n",
       "      <td>101.840</td>\n",
       "    </tr>\n",
       "    <tr>\n",
       "      <th>1</th>\n",
       "      <td>10086</td>\n",
       "      <td>30011</td>\n",
       "      <td>6</td>\n",
       "      <td>0.0</td>\n",
       "      <td>1/2/2015</td>\n",
       "      <td>0</td>\n",
       "      <td>30011</td>\n",
       "      <td>APPAREL</td>\n",
       "      <td>25.46</td>\n",
       "      <td>152.760</td>\n",
       "    </tr>\n",
       "    <tr>\n",
       "      <th>2</th>\n",
       "      <td>10174</td>\n",
       "      <td>30011</td>\n",
       "      <td>10</td>\n",
       "      <td>0.0</td>\n",
       "      <td>1/2/2015</td>\n",
       "      <td>0</td>\n",
       "      <td>30011</td>\n",
       "      <td>APPAREL</td>\n",
       "      <td>25.46</td>\n",
       "      <td>254.600</td>\n",
       "    </tr>\n",
       "    <tr>\n",
       "      <th>3</th>\n",
       "      <td>10401</td>\n",
       "      <td>30011</td>\n",
       "      <td>12</td>\n",
       "      <td>0.0</td>\n",
       "      <td>1/2/2015</td>\n",
       "      <td>0</td>\n",
       "      <td>30011</td>\n",
       "      <td>APPAREL</td>\n",
       "      <td>25.46</td>\n",
       "      <td>305.520</td>\n",
       "    </tr>\n",
       "    <tr>\n",
       "      <th>4</th>\n",
       "      <td>10216</td>\n",
       "      <td>30011</td>\n",
       "      <td>12</td>\n",
       "      <td>0.1</td>\n",
       "      <td>1/2/2015</td>\n",
       "      <td>0</td>\n",
       "      <td>30011</td>\n",
       "      <td>APPAREL</td>\n",
       "      <td>25.46</td>\n",
       "      <td>274.968</td>\n",
       "    </tr>\n",
       "  </tbody>\n",
       "</table>\n",
       "</div>"
      ],
      "text/plain": [
       "   CUSTOMER NUM  PRODUCT NUM  QUANTITY PURCHASED  DISCOUNT TAKEN  \\\n",
       "0         10114        30011                   4             0.0   \n",
       "1         10086        30011                   6             0.0   \n",
       "2         10174        30011                  10             0.0   \n",
       "3         10401        30011                  12             0.0   \n",
       "4         10216        30011                  12             0.1   \n",
       "\n",
       "  TRANSACTION DATE  STOCKOUT  PRODUCT CODE PRODUCT CATEGORY  UNIT LIST PRICE  \\\n",
       "0         1/2/2015         0         30011          APPAREL            25.46   \n",
       "1         1/2/2015         0         30011          APPAREL            25.46   \n",
       "2         1/2/2015         0         30011          APPAREL            25.46   \n",
       "3         1/2/2015         0         30011          APPAREL            25.46   \n",
       "4         1/2/2015         0         30011          APPAREL            25.46   \n",
       "\n",
       "   TOTAL BOUGHT  \n",
       "0       101.840  \n",
       "1       152.760  \n",
       "2       254.600  \n",
       "3       305.520  \n",
       "4       274.968  "
      ]
     },
     "execution_count": 11,
     "metadata": {},
     "output_type": "execute_result"
    }
   ],
   "source": [
    "trans_products['TOTAL BOUGHT'] = trans_products['QUANTITY PURCHASED'] * trans_products['UNIT LIST PRICE'] * (1-trans_products['DISCOUNT TAKEN'])\n",
    "trans_products.head()"
   ]
  },
  {
   "cell_type": "markdown",
   "metadata": {},
   "source": [
    "**There were two important objectives that were set during the business understanding phase:**\n",
    "    1. understanding the factors associated with the loyalty participation.\n",
    "    2. understanding the factors associated with increased spending.\n",
    "       "
   ]
  },
  {
   "cell_type": "code",
   "execution_count": 12,
   "metadata": {},
   "outputs": [
    {
     "data": {
      "text/html": [
       "<div>\n",
       "<style scoped>\n",
       "    .dataframe tbody tr th:only-of-type {\n",
       "        vertical-align: middle;\n",
       "    }\n",
       "\n",
       "    .dataframe tbody tr th {\n",
       "        vertical-align: top;\n",
       "    }\n",
       "\n",
       "    .dataframe thead th {\n",
       "        text-align: right;\n",
       "    }\n",
       "</style>\n",
       "<table border=\"1\" class=\"dataframe\">\n",
       "  <thead>\n",
       "    <tr style=\"text-align: right;\">\n",
       "      <th></th>\n",
       "      <th>TOTAL BOUGHT</th>\n",
       "    </tr>\n",
       "    <tr>\n",
       "      <th>PRODUCT CATEGORY</th>\n",
       "      <th></th>\n",
       "    </tr>\n",
       "  </thead>\n",
       "  <tbody>\n",
       "    <tr>\n",
       "      <th>ELECTRONICS</th>\n",
       "      <td>1607192.422</td>\n",
       "    </tr>\n",
       "    <tr>\n",
       "      <th>APPAREL</th>\n",
       "      <td>936757.914</td>\n",
       "    </tr>\n",
       "    <tr>\n",
       "      <th>FOOD</th>\n",
       "      <td>96044.610</td>\n",
       "    </tr>\n",
       "    <tr>\n",
       "      <th>HEALTH &amp; BEAUTY</th>\n",
       "      <td>54776.312</td>\n",
       "    </tr>\n",
       "  </tbody>\n",
       "</table>\n",
       "</div>"
      ],
      "text/plain": [
       "                  TOTAL BOUGHT\n",
       "PRODUCT CATEGORY              \n",
       "ELECTRONICS        1607192.422\n",
       "APPAREL             936757.914\n",
       "FOOD                 96044.610\n",
       "HEALTH & BEAUTY      54776.312"
      ]
     },
     "execution_count": 12,
     "metadata": {},
     "output_type": "execute_result"
    }
   ],
   "source": [
    "# finding out retailer's X best sellers\n",
    "best_sellers = trans_products.groupby('PRODUCT CATEGORY').agg({'TOTAL BOUGHT': 'sum'}).sort_values('TOTAL BOUGHT', ascending = False)\n",
    "best_sellers"
   ]
  },
  {
   "cell_type": "markdown",
   "metadata": {},
   "source": [
    "In retailer X's shop, elctronics sell best and Health and Beauty sell the worst."
   ]
  },
  {
   "cell_type": "code",
   "execution_count": 13,
   "metadata": {},
   "outputs": [
    {
     "data": {
      "text/html": [
       "<div>\n",
       "<style scoped>\n",
       "    .dataframe tbody tr th:only-of-type {\n",
       "        vertical-align: middle;\n",
       "    }\n",
       "\n",
       "    .dataframe tbody tr th {\n",
       "        vertical-align: top;\n",
       "    }\n",
       "\n",
       "    .dataframe thead th {\n",
       "        text-align: right;\n",
       "    }\n",
       "</style>\n",
       "<table border=\"1\" class=\"dataframe\">\n",
       "  <thead>\n",
       "    <tr style=\"text-align: right;\">\n",
       "      <th></th>\n",
       "      <th></th>\n",
       "      <th>TOTAL BOUGHT</th>\n",
       "    </tr>\n",
       "    <tr>\n",
       "      <th>CUSTOMER NUM</th>\n",
       "      <th>PRODUCT CATEGORY</th>\n",
       "      <th></th>\n",
       "    </tr>\n",
       "  </thead>\n",
       "  <tbody>\n",
       "    <tr>\n",
       "      <th rowspan=\"4\" valign=\"top\">10001</th>\n",
       "      <th>APPAREL</th>\n",
       "      <td>4022.430</td>\n",
       "    </tr>\n",
       "    <tr>\n",
       "      <th>ELECTRONICS</th>\n",
       "      <td>1601.315</td>\n",
       "    </tr>\n",
       "    <tr>\n",
       "      <th>FOOD</th>\n",
       "      <td>68.688</td>\n",
       "    </tr>\n",
       "    <tr>\n",
       "      <th>HEALTH &amp; BEAUTY</th>\n",
       "      <td>1134.337</td>\n",
       "    </tr>\n",
       "    <tr>\n",
       "      <th rowspan=\"3\" valign=\"top\">10002</th>\n",
       "      <th>APPAREL</th>\n",
       "      <td>2312.509</td>\n",
       "    </tr>\n",
       "    <tr>\n",
       "      <th>ELECTRONICS</th>\n",
       "      <td>2473.163</td>\n",
       "    </tr>\n",
       "    <tr>\n",
       "      <th>FOOD</th>\n",
       "      <td>276.779</td>\n",
       "    </tr>\n",
       "    <tr>\n",
       "      <th rowspan=\"3\" valign=\"top\">10003</th>\n",
       "      <th>APPAREL</th>\n",
       "      <td>2887.382</td>\n",
       "    </tr>\n",
       "    <tr>\n",
       "      <th>ELECTRONICS</th>\n",
       "      <td>5414.418</td>\n",
       "    </tr>\n",
       "    <tr>\n",
       "      <th>FOOD</th>\n",
       "      <td>260.640</td>\n",
       "    </tr>\n",
       "  </tbody>\n",
       "</table>\n",
       "</div>"
      ],
      "text/plain": [
       "                               TOTAL BOUGHT\n",
       "CUSTOMER NUM PRODUCT CATEGORY              \n",
       "10001        APPAREL               4022.430\n",
       "             ELECTRONICS           1601.315\n",
       "             FOOD                    68.688\n",
       "             HEALTH & BEAUTY       1134.337\n",
       "10002        APPAREL               2312.509\n",
       "             ELECTRONICS           2473.163\n",
       "             FOOD                   276.779\n",
       "10003        APPAREL               2887.382\n",
       "             ELECTRONICS           5414.418\n",
       "             FOOD                   260.640"
      ]
     },
     "execution_count": 13,
     "metadata": {},
     "output_type": "execute_result"
    }
   ],
   "source": [
    "# creating a table that will tell us more about our customers:\n",
    "customer_prod_category = trans_products.groupby(['CUSTOMER NUM','PRODUCT CATEGORY']).agg({'TOTAL BOUGHT': 'sum'})\n",
    "customer_prod_category[:10]"
   ]
  },
  {
   "cell_type": "code",
   "execution_count": 14,
   "metadata": {},
   "outputs": [
    {
     "data": {
      "text/html": [
       "<div>\n",
       "<style scoped>\n",
       "    .dataframe tbody tr th:only-of-type {\n",
       "        vertical-align: middle;\n",
       "    }\n",
       "\n",
       "    .dataframe tbody tr th {\n",
       "        vertical-align: top;\n",
       "    }\n",
       "\n",
       "    .dataframe thead th {\n",
       "        text-align: right;\n",
       "    }\n",
       "</style>\n",
       "<table border=\"1\" class=\"dataframe\">\n",
       "  <thead>\n",
       "    <tr style=\"text-align: right;\">\n",
       "      <th></th>\n",
       "      <th>CUSTOMER NUM</th>\n",
       "      <th>PRODUCT CATEGORY</th>\n",
       "      <th>TOTAL BOUGHT</th>\n",
       "    </tr>\n",
       "  </thead>\n",
       "  <tbody>\n",
       "    <tr>\n",
       "      <th>0</th>\n",
       "      <td>10001</td>\n",
       "      <td>APPAREL</td>\n",
       "      <td>4022.430</td>\n",
       "    </tr>\n",
       "    <tr>\n",
       "      <th>1</th>\n",
       "      <td>10001</td>\n",
       "      <td>ELECTRONICS</td>\n",
       "      <td>1601.315</td>\n",
       "    </tr>\n",
       "    <tr>\n",
       "      <th>2</th>\n",
       "      <td>10001</td>\n",
       "      <td>FOOD</td>\n",
       "      <td>68.688</td>\n",
       "    </tr>\n",
       "    <tr>\n",
       "      <th>3</th>\n",
       "      <td>10001</td>\n",
       "      <td>HEALTH &amp; BEAUTY</td>\n",
       "      <td>1134.337</td>\n",
       "    </tr>\n",
       "    <tr>\n",
       "      <th>4</th>\n",
       "      <td>10002</td>\n",
       "      <td>APPAREL</td>\n",
       "      <td>2312.509</td>\n",
       "    </tr>\n",
       "  </tbody>\n",
       "</table>\n",
       "</div>"
      ],
      "text/plain": [
       "   CUSTOMER NUM PRODUCT CATEGORY  TOTAL BOUGHT\n",
       "0         10001          APPAREL      4022.430\n",
       "1         10001      ELECTRONICS      1601.315\n",
       "2         10001             FOOD        68.688\n",
       "3         10001  HEALTH & BEAUTY      1134.337\n",
       "4         10002          APPAREL      2312.509"
      ]
     },
     "execution_count": 14,
     "metadata": {},
     "output_type": "execute_result"
    }
   ],
   "source": [
    "customer_prod_category = customer_prod_category.reset_index()\n",
    "customer_prod_category.head()"
   ]
  },
  {
   "cell_type": "code",
   "execution_count": 15,
   "metadata": {},
   "outputs": [
    {
     "data": {
      "text/html": [
       "<div>\n",
       "<style scoped>\n",
       "    .dataframe tbody tr th:only-of-type {\n",
       "        vertical-align: middle;\n",
       "    }\n",
       "\n",
       "    .dataframe tbody tr th {\n",
       "        vertical-align: top;\n",
       "    }\n",
       "\n",
       "    .dataframe thead th {\n",
       "        text-align: right;\n",
       "    }\n",
       "</style>\n",
       "<table border=\"1\" class=\"dataframe\">\n",
       "  <thead>\n",
       "    <tr style=\"text-align: right;\">\n",
       "      <th>PRODUCT CATEGORY</th>\n",
       "      <th>APPAREL</th>\n",
       "      <th>ELECTRONICS</th>\n",
       "      <th>FOOD</th>\n",
       "      <th>HEALTH &amp; BEAUTY</th>\n",
       "    </tr>\n",
       "    <tr>\n",
       "      <th>CUSTOMER NUM</th>\n",
       "      <th></th>\n",
       "      <th></th>\n",
       "      <th></th>\n",
       "      <th></th>\n",
       "    </tr>\n",
       "  </thead>\n",
       "  <tbody>\n",
       "    <tr>\n",
       "      <th>10001</th>\n",
       "      <td>4022.430</td>\n",
       "      <td>1601.315</td>\n",
       "      <td>68.688</td>\n",
       "      <td>1134.337</td>\n",
       "    </tr>\n",
       "    <tr>\n",
       "      <th>10002</th>\n",
       "      <td>2312.509</td>\n",
       "      <td>2473.163</td>\n",
       "      <td>276.779</td>\n",
       "      <td>NaN</td>\n",
       "    </tr>\n",
       "    <tr>\n",
       "      <th>10003</th>\n",
       "      <td>2887.382</td>\n",
       "      <td>5414.418</td>\n",
       "      <td>260.640</td>\n",
       "      <td>NaN</td>\n",
       "    </tr>\n",
       "    <tr>\n",
       "      <th>10004</th>\n",
       "      <td>3637.213</td>\n",
       "      <td>1840.211</td>\n",
       "      <td>45.270</td>\n",
       "      <td>NaN</td>\n",
       "    </tr>\n",
       "    <tr>\n",
       "      <th>10005</th>\n",
       "      <td>213.512</td>\n",
       "      <td>NaN</td>\n",
       "      <td>NaN</td>\n",
       "      <td>NaN</td>\n",
       "    </tr>\n",
       "  </tbody>\n",
       "</table>\n",
       "</div>"
      ],
      "text/plain": [
       "PRODUCT CATEGORY   APPAREL  ELECTRONICS     FOOD  HEALTH & BEAUTY\n",
       "CUSTOMER NUM                                                     \n",
       "10001             4022.430     1601.315   68.688         1134.337\n",
       "10002             2312.509     2473.163  276.779              NaN\n",
       "10003             2887.382     5414.418  260.640              NaN\n",
       "10004             3637.213     1840.211   45.270              NaN\n",
       "10005              213.512          NaN      NaN              NaN"
      ]
     },
     "execution_count": 15,
     "metadata": {},
     "output_type": "execute_result"
    }
   ],
   "source": [
    "# reorganize as per customer\n",
    "customer_pivot = customer_prod_category.pivot(index='CUSTOMER NUM', columns='PRODUCT CATEGORY', values = 'TOTAL BOUGHT')\n",
    "customer_pivot.head()"
   ]
  },
  {
   "cell_type": "code",
   "execution_count": 16,
   "metadata": {},
   "outputs": [
    {
     "data": {
      "text/html": [
       "<div>\n",
       "<style scoped>\n",
       "    .dataframe tbody tr th:only-of-type {\n",
       "        vertical-align: middle;\n",
       "    }\n",
       "\n",
       "    .dataframe tbody tr th {\n",
       "        vertical-align: top;\n",
       "    }\n",
       "\n",
       "    .dataframe thead th {\n",
       "        text-align: right;\n",
       "    }\n",
       "</style>\n",
       "<table border=\"1\" class=\"dataframe\">\n",
       "  <thead>\n",
       "    <tr style=\"text-align: right;\">\n",
       "      <th>PRODUCT CATEGORY</th>\n",
       "      <th>APPAREL</th>\n",
       "      <th>ELECTRONICS</th>\n",
       "      <th>FOOD</th>\n",
       "      <th>HEALTH &amp; BEAUTY</th>\n",
       "    </tr>\n",
       "    <tr>\n",
       "      <th>CUSTOMER NUM</th>\n",
       "      <th></th>\n",
       "      <th></th>\n",
       "      <th></th>\n",
       "      <th></th>\n",
       "    </tr>\n",
       "  </thead>\n",
       "  <tbody>\n",
       "    <tr>\n",
       "      <th>10001</th>\n",
       "      <td>4022.430</td>\n",
       "      <td>1601.315</td>\n",
       "      <td>68.688</td>\n",
       "      <td>1134.337</td>\n",
       "    </tr>\n",
       "    <tr>\n",
       "      <th>10002</th>\n",
       "      <td>2312.509</td>\n",
       "      <td>2473.163</td>\n",
       "      <td>276.779</td>\n",
       "      <td>0.000</td>\n",
       "    </tr>\n",
       "    <tr>\n",
       "      <th>10003</th>\n",
       "      <td>2887.382</td>\n",
       "      <td>5414.418</td>\n",
       "      <td>260.640</td>\n",
       "      <td>0.000</td>\n",
       "    </tr>\n",
       "    <tr>\n",
       "      <th>10004</th>\n",
       "      <td>3637.213</td>\n",
       "      <td>1840.211</td>\n",
       "      <td>45.270</td>\n",
       "      <td>0.000</td>\n",
       "    </tr>\n",
       "    <tr>\n",
       "      <th>10005</th>\n",
       "      <td>213.512</td>\n",
       "      <td>0.000</td>\n",
       "      <td>0.000</td>\n",
       "      <td>0.000</td>\n",
       "    </tr>\n",
       "  </tbody>\n",
       "</table>\n",
       "</div>"
      ],
      "text/plain": [
       "PRODUCT CATEGORY   APPAREL  ELECTRONICS     FOOD  HEALTH & BEAUTY\n",
       "CUSTOMER NUM                                                     \n",
       "10001             4022.430     1601.315   68.688         1134.337\n",
       "10002             2312.509     2473.163  276.779            0.000\n",
       "10003             2887.382     5414.418  260.640            0.000\n",
       "10004             3637.213     1840.211   45.270            0.000\n",
       "10005              213.512        0.000    0.000            0.000"
      ]
     },
     "execution_count": 16,
     "metadata": {},
     "output_type": "execute_result"
    }
   ],
   "source": [
    "customer_pivot = customer_pivot.fillna(0)\n",
    "customer_pivot.head()"
   ]
  },
  {
   "cell_type": "markdown",
   "metadata": {},
   "source": [
    "Business understanding\n",
    "\n",
    "Data understanding\n",
    "\n",
    "Data preparation, we're combining tables that will help us work better and create an ultimate table or ultimate tables. \n",
    "\n",
    "Modelling\n",
    "\n",
    "Evaluation \n",
    "\n",
    "Feedback/Report on way forward"
   ]
  },
  {
   "cell_type": "code",
   "execution_count": 17,
   "metadata": {},
   "outputs": [
    {
     "data": {
      "text/html": [
       "<div>\n",
       "<style scoped>\n",
       "    .dataframe tbody tr th:only-of-type {\n",
       "        vertical-align: middle;\n",
       "    }\n",
       "\n",
       "    .dataframe tbody tr th {\n",
       "        vertical-align: top;\n",
       "    }\n",
       "\n",
       "    .dataframe thead th {\n",
       "        text-align: right;\n",
       "    }\n",
       "</style>\n",
       "<table border=\"1\" class=\"dataframe\">\n",
       "  <thead>\n",
       "    <tr style=\"text-align: right;\">\n",
       "      <th></th>\n",
       "      <th>TOTAL BOUGHT</th>\n",
       "    </tr>\n",
       "    <tr>\n",
       "      <th>CUSTOMER NUM</th>\n",
       "      <th></th>\n",
       "    </tr>\n",
       "  </thead>\n",
       "  <tbody>\n",
       "    <tr>\n",
       "      <th>10001</th>\n",
       "      <td>6826.770</td>\n",
       "    </tr>\n",
       "    <tr>\n",
       "      <th>10002</th>\n",
       "      <td>5062.451</td>\n",
       "    </tr>\n",
       "    <tr>\n",
       "      <th>10003</th>\n",
       "      <td>8562.440</td>\n",
       "    </tr>\n",
       "    <tr>\n",
       "      <th>10004</th>\n",
       "      <td>5522.694</td>\n",
       "    </tr>\n",
       "    <tr>\n",
       "      <th>10005</th>\n",
       "      <td>213.512</td>\n",
       "    </tr>\n",
       "  </tbody>\n",
       "</table>\n",
       "</div>"
      ],
      "text/plain": [
       "              TOTAL BOUGHT\n",
       "CUSTOMER NUM              \n",
       "10001             6826.770\n",
       "10002             5062.451\n",
       "10003             8562.440\n",
       "10004             5522.694\n",
       "10005              213.512"
      ]
     },
     "execution_count": 17,
     "metadata": {},
     "output_type": "execute_result"
    }
   ],
   "source": [
    "# calculate transaction per customer:\n",
    "customer_total_spent = trans_products.groupby('CUSTOMER NUM').agg({'TOTAL BOUGHT': 'sum'})\n",
    "customer_total_spent.head()"
   ]
  },
  {
   "cell_type": "code",
   "execution_count": 18,
   "metadata": {},
   "outputs": [
    {
     "data": {
      "text/html": [
       "<div>\n",
       "<style scoped>\n",
       "    .dataframe tbody tr th:only-of-type {\n",
       "        vertical-align: middle;\n",
       "    }\n",
       "\n",
       "    .dataframe tbody tr th {\n",
       "        vertical-align: top;\n",
       "    }\n",
       "\n",
       "    .dataframe thead th {\n",
       "        text-align: right;\n",
       "    }\n",
       "</style>\n",
       "<table border=\"1\" class=\"dataframe\">\n",
       "  <thead>\n",
       "    <tr style=\"text-align: right;\">\n",
       "      <th></th>\n",
       "      <th>APPAREL</th>\n",
       "      <th>ELECTRONICS</th>\n",
       "      <th>FOOD</th>\n",
       "      <th>HEALTH &amp; BEAUTY</th>\n",
       "      <th>TOTAL SPENT</th>\n",
       "    </tr>\n",
       "    <tr>\n",
       "      <th>CUSTOMER NUM</th>\n",
       "      <th></th>\n",
       "      <th></th>\n",
       "      <th></th>\n",
       "      <th></th>\n",
       "      <th></th>\n",
       "    </tr>\n",
       "  </thead>\n",
       "  <tbody>\n",
       "    <tr>\n",
       "      <th>10001</th>\n",
       "      <td>4022.430</td>\n",
       "      <td>1601.315</td>\n",
       "      <td>68.688</td>\n",
       "      <td>1134.337</td>\n",
       "      <td>6826.770</td>\n",
       "    </tr>\n",
       "    <tr>\n",
       "      <th>10002</th>\n",
       "      <td>2312.509</td>\n",
       "      <td>2473.163</td>\n",
       "      <td>276.779</td>\n",
       "      <td>0.000</td>\n",
       "      <td>5062.451</td>\n",
       "    </tr>\n",
       "    <tr>\n",
       "      <th>10003</th>\n",
       "      <td>2887.382</td>\n",
       "      <td>5414.418</td>\n",
       "      <td>260.640</td>\n",
       "      <td>0.000</td>\n",
       "      <td>8562.440</td>\n",
       "    </tr>\n",
       "    <tr>\n",
       "      <th>10004</th>\n",
       "      <td>3637.213</td>\n",
       "      <td>1840.211</td>\n",
       "      <td>45.270</td>\n",
       "      <td>0.000</td>\n",
       "      <td>5522.694</td>\n",
       "    </tr>\n",
       "    <tr>\n",
       "      <th>10005</th>\n",
       "      <td>213.512</td>\n",
       "      <td>0.000</td>\n",
       "      <td>0.000</td>\n",
       "      <td>0.000</td>\n",
       "      <td>213.512</td>\n",
       "    </tr>\n",
       "  </tbody>\n",
       "</table>\n",
       "</div>"
      ],
      "text/plain": [
       "               APPAREL  ELECTRONICS     FOOD  HEALTH & BEAUTY  TOTAL SPENT\n",
       "CUSTOMER NUM                                                              \n",
       "10001         4022.430     1601.315   68.688         1134.337     6826.770\n",
       "10002         2312.509     2473.163  276.779            0.000     5062.451\n",
       "10003         2887.382     5414.418  260.640            0.000     8562.440\n",
       "10004         3637.213     1840.211   45.270            0.000     5522.694\n",
       "10005          213.512        0.000    0.000            0.000      213.512"
      ]
     },
     "execution_count": 18,
     "metadata": {},
     "output_type": "execute_result"
    }
   ],
   "source": [
    "# create a table that each customer alongside what they bought in each category and how much they've spent in total.\n",
    "customer_transactions = customer_pivot.merge(customer_total_spent, how = 'inner', left_index=True, right_index=True)\n",
    "customer_transactions = customer_transactions.rename(columns = {'TOTAL BOUGHT':'TOTAL SPENT'})\n",
    "customer_transactions.head()"
   ]
  },
  {
   "cell_type": "code",
   "execution_count": 19,
   "metadata": {},
   "outputs": [
    {
     "data": {
      "text/html": [
       "<div>\n",
       "<style scoped>\n",
       "    .dataframe tbody tr th:only-of-type {\n",
       "        vertical-align: middle;\n",
       "    }\n",
       "\n",
       "    .dataframe tbody tr th {\n",
       "        vertical-align: top;\n",
       "    }\n",
       "\n",
       "    .dataframe thead th {\n",
       "        text-align: right;\n",
       "    }\n",
       "</style>\n",
       "<table border=\"1\" class=\"dataframe\">\n",
       "  <thead>\n",
       "    <tr style=\"text-align: right;\">\n",
       "      <th></th>\n",
       "      <th>CUSTOMERID</th>\n",
       "      <th>GENDER</th>\n",
       "      <th>AGE</th>\n",
       "      <th>INCOME</th>\n",
       "      <th>EXPERIENCE SCORE</th>\n",
       "      <th>LOYALTY GROUP</th>\n",
       "      <th>ENROLLMENT DATE</th>\n",
       "      <th>HOUSEHOLD SIZE</th>\n",
       "      <th>MARITAL STATUS</th>\n",
       "      <th>APPAREL</th>\n",
       "      <th>ELECTRONICS</th>\n",
       "      <th>FOOD</th>\n",
       "      <th>HEALTH &amp; BEAUTY</th>\n",
       "      <th>TOTAL SPENT</th>\n",
       "    </tr>\n",
       "  </thead>\n",
       "  <tbody>\n",
       "    <tr>\n",
       "      <th>0</th>\n",
       "      <td>10001</td>\n",
       "      <td>0</td>\n",
       "      <td>64</td>\n",
       "      <td>133498</td>\n",
       "      <td>5</td>\n",
       "      <td>enrolled</td>\n",
       "      <td>06-03-2013</td>\n",
       "      <td>4</td>\n",
       "      <td>Single</td>\n",
       "      <td>4022.430</td>\n",
       "      <td>1601.315</td>\n",
       "      <td>68.688</td>\n",
       "      <td>1134.337</td>\n",
       "      <td>6826.770</td>\n",
       "    </tr>\n",
       "    <tr>\n",
       "      <th>1</th>\n",
       "      <td>10002</td>\n",
       "      <td>0</td>\n",
       "      <td>42</td>\n",
       "      <td>94475</td>\n",
       "      <td>9</td>\n",
       "      <td>notenrolled</td>\n",
       "      <td>0</td>\n",
       "      <td>6</td>\n",
       "      <td>Married</td>\n",
       "      <td>2312.509</td>\n",
       "      <td>2473.163</td>\n",
       "      <td>276.779</td>\n",
       "      <td>0.000</td>\n",
       "      <td>5062.451</td>\n",
       "    </tr>\n",
       "    <tr>\n",
       "      <th>2</th>\n",
       "      <td>10003</td>\n",
       "      <td>0</td>\n",
       "      <td>40</td>\n",
       "      <td>88610</td>\n",
       "      <td>9</td>\n",
       "      <td>enrolled</td>\n",
       "      <td>02-09-2010</td>\n",
       "      <td>5</td>\n",
       "      <td>Married</td>\n",
       "      <td>2887.382</td>\n",
       "      <td>5414.418</td>\n",
       "      <td>260.640</td>\n",
       "      <td>0.000</td>\n",
       "      <td>8562.440</td>\n",
       "    </tr>\n",
       "    <tr>\n",
       "      <th>3</th>\n",
       "      <td>10004</td>\n",
       "      <td>0</td>\n",
       "      <td>38</td>\n",
       "      <td>84313</td>\n",
       "      <td>8</td>\n",
       "      <td>enrolled</td>\n",
       "      <td>06-04-2015</td>\n",
       "      <td>1</td>\n",
       "      <td>Single</td>\n",
       "      <td>3637.213</td>\n",
       "      <td>1840.211</td>\n",
       "      <td>45.270</td>\n",
       "      <td>0.000</td>\n",
       "      <td>5522.694</td>\n",
       "    </tr>\n",
       "    <tr>\n",
       "      <th>4</th>\n",
       "      <td>10005</td>\n",
       "      <td>0</td>\n",
       "      <td>30</td>\n",
       "      <td>51498</td>\n",
       "      <td>3</td>\n",
       "      <td>notenrolled</td>\n",
       "      <td>0</td>\n",
       "      <td>1</td>\n",
       "      <td>Single</td>\n",
       "      <td>213.512</td>\n",
       "      <td>0.000</td>\n",
       "      <td>0.000</td>\n",
       "      <td>0.000</td>\n",
       "      <td>213.512</td>\n",
       "    </tr>\n",
       "  </tbody>\n",
       "</table>\n",
       "</div>"
      ],
      "text/plain": [
       "   CUSTOMERID  GENDER  AGE  INCOME  EXPERIENCE SCORE LOYALTY GROUP  \\\n",
       "0       10001       0   64  133498                 5      enrolled   \n",
       "1       10002       0   42   94475                 9   notenrolled   \n",
       "2       10003       0   40   88610                 9      enrolled   \n",
       "3       10004       0   38   84313                 8      enrolled   \n",
       "4       10005       0   30   51498                 3   notenrolled   \n",
       "\n",
       "  ENROLLMENT DATE  HOUSEHOLD SIZE MARITAL STATUS   APPAREL  ELECTRONICS  \\\n",
       "0      06-03-2013               4         Single  4022.430     1601.315   \n",
       "1               0               6        Married  2312.509     2473.163   \n",
       "2      02-09-2010               5        Married  2887.382     5414.418   \n",
       "3      06-04-2015               1         Single  3637.213     1840.211   \n",
       "4               0               1         Single   213.512        0.000   \n",
       "\n",
       "      FOOD  HEALTH & BEAUTY  TOTAL SPENT  \n",
       "0   68.688         1134.337     6826.770  \n",
       "1  276.779            0.000     5062.451  \n",
       "2  260.640            0.000     8562.440  \n",
       "3   45.270            0.000     5522.694  \n",
       "4    0.000            0.000      213.512  "
      ]
     },
     "execution_count": 19,
     "metadata": {},
     "output_type": "execute_result"
    }
   ],
   "source": [
    "# combine customer data table with customer transactions to get a wider view.\n",
    "customer_all_view = customer_data.merge(customer_transactions, left_on='CUSTOMERID', right_index = True)\n",
    "customer_all_view.head()"
   ]
  },
  {
   "cell_type": "markdown",
   "metadata": {},
   "source": [
    "Now proceed to explore what causes loyalty and increased spending in retailer X's store.\n",
    "\n",
    "\n",
    "### Loyalty analysis"
   ]
  },
  {
   "cell_type": "code",
   "execution_count": 20,
   "metadata": {},
   "outputs": [
    {
     "data": {
      "text/html": [
       "<div>\n",
       "<style scoped>\n",
       "    .dataframe tbody tr th:only-of-type {\n",
       "        vertical-align: middle;\n",
       "    }\n",
       "\n",
       "    .dataframe tbody tr th {\n",
       "        vertical-align: top;\n",
       "    }\n",
       "\n",
       "    .dataframe thead th {\n",
       "        text-align: right;\n",
       "    }\n",
       "</style>\n",
       "<table border=\"1\" class=\"dataframe\">\n",
       "  <thead>\n",
       "    <tr style=\"text-align: right;\">\n",
       "      <th>LOYALTY GROUP</th>\n",
       "      <th>enrolled</th>\n",
       "      <th>notenrolled</th>\n",
       "    </tr>\n",
       "    <tr>\n",
       "      <th>GENDER</th>\n",
       "      <th></th>\n",
       "      <th></th>\n",
       "    </tr>\n",
       "  </thead>\n",
       "  <tbody>\n",
       "    <tr>\n",
       "      <th>0</th>\n",
       "      <td>131</td>\n",
       "      <td>120</td>\n",
       "    </tr>\n",
       "    <tr>\n",
       "      <th>1</th>\n",
       "      <td>133</td>\n",
       "      <td>116</td>\n",
       "    </tr>\n",
       "  </tbody>\n",
       "</table>\n",
       "</div>"
      ],
      "text/plain": [
       "LOYALTY GROUP  enrolled  notenrolled\n",
       "GENDER                              \n",
       "0                   131          120\n",
       "1                   133          116"
      ]
     },
     "execution_count": 20,
     "metadata": {},
     "output_type": "execute_result"
    }
   ],
   "source": [
    "loyalty_table = pd.crosstab(customer_all_view['GENDER'], customer_all_view['LOYALTY GROUP'])\n",
    "loyalty_table"
   ]
  },
  {
   "cell_type": "code",
   "execution_count": 21,
   "metadata": {},
   "outputs": [],
   "source": [
    "import matplotlib.pyplot as plt"
   ]
  },
  {
   "cell_type": "code",
   "execution_count": 22,
   "metadata": {},
   "outputs": [
    {
     "data": {
      "text/plain": [
       "<matplotlib.axes._subplots.AxesSubplot at 0x7f6bb9181190>"
      ]
     },
     "execution_count": 22,
     "metadata": {},
     "output_type": "execute_result"
    },
    {
     "data": {
      "image/png": "[encoded data removed]",
      "text/plain": [
       "<Figure size 504x360 with 1 Axes>"
      ]
     },
     "metadata": {
      "needs_background": "light"
     },
     "output_type": "display_data"
    }
   ],
   "source": [
    "loyalty_table.plot(kind = 'bar', figsize = (7,5))"
   ]
  },
  {
   "cell_type": "markdown",
   "metadata": {},
   "source": [
    "Gender doesn't seem to affect loyalty at all, we have almost as many people enrolled as not enrolled in both genders."
   ]
  },
  {
   "cell_type": "code",
   "execution_count": 23,
   "metadata": {},
   "outputs": [
    {
     "data": {
      "text/plain": [
       "Text(0, 0.5, 'number of customers')"
      ]
     },
     "execution_count": 23,
     "metadata": {},
     "output_type": "execute_result"
    },
    {
     "data": {
      "image/png": "[encoded data removed]",
      "text/plain": [
       "<Figure size 432x288 with 1 Axes>"
      ]
     },
     "metadata": {
      "needs_background": "light"
     },
     "output_type": "display_data"
    }
   ],
   "source": [
    "# Age vs Loyalty\n",
    "# since age is a continuous variable, put them in bins/categories.\n",
    "customer_all_view['AGE BINNED'] = pd.cut(customer_all_view['AGE'], 10)\n",
    "loyalty_table = pd.crosstab(customer_all_view['AGE BINNED'], customer_all_view['LOYALTY GROUP'])\n",
    "loyalty_table.plot(kind = 'bar')\n",
    "plt.ylabel('number of customers')"
   ]
  },
  {
   "cell_type": "markdown",
   "metadata": {},
   "source": [
    "customers between the ages of 25.2 to 46.8 seem not to be interested in the loyalty program. This is seen from the higher number or 'not enrolled' people compared to those 'enrolled' in that age group. Age is therefore a factor that affects loyalty."
   ]
  },
  {
   "cell_type": "code",
   "execution_count": 24,
   "metadata": {},
   "outputs": [
    {
     "data": {
      "text/plain": [
       "Text(0, 0.5, 'Income')"
      ]
     },
     "execution_count": 24,
     "metadata": {},
     "output_type": "execute_result"
    },
    {
     "data": {
      "image/png": "[encoded data removed]",
      "text/plain": [
       "<Figure size 432x288 with 1 Axes>"
      ]
     },
     "metadata": {
      "needs_background": "light"
     },
     "output_type": "display_data"
    }
   ],
   "source": [
    "plt.scatter(customer_all_view['AGE'], customer_all_view['INCOME'])\n",
    "plt.xlabel(\"Age\")\n",
    "plt.ylabel(\"Income\")"
   ]
  },
  {
   "cell_type": "markdown",
   "metadata": {},
   "source": [
    "Income and age are positively correlated, almost one and the same, we can assume that income and age will have the same relationship with loyalty."
   ]
  },
  {
   "cell_type": "code",
   "execution_count": 25,
   "metadata": {},
   "outputs": [
    {
     "data": {
      "text/plain": [
       "<matplotlib.axes._subplots.AxesSubplot at 0x7f6bb971de50>"
      ]
     },
     "execution_count": 25,
     "metadata": {},
     "output_type": "execute_result"
    },
    {
     "data": {
      "image/png": "[encoded data removed]",
      "text/plain": [
       "<Figure size 432x288 with 1 Axes>"
      ]
     },
     "metadata": {
      "needs_background": "light"
     },
     "output_type": "display_data"
    }
   ],
   "source": [
    "# Experience score vs loyalty\n",
    "loyalty_table = pd.crosstab(customer_all_view['EXPERIENCE SCORE'], customer_all_view['LOYALTY GROUP'])\n",
    "loyalty_table.plot(kind = 'bar')"
   ]
  },
  {
   "cell_type": "markdown",
   "metadata": {},
   "source": [
    "Experience does affect loyalty. The better the experience in the store, i.e. 5 and above, the more the likelihood to be enrolled to the loyalty program"
   ]
  },
  {
   "cell_type": "code",
   "execution_count": 26,
   "metadata": {},
   "outputs": [
    {
     "data": {
      "text/plain": [
       "<matplotlib.axes._subplots.AxesSubplot at 0x7f6bb8782a10>"
      ]
     },
     "execution_count": 26,
     "metadata": {},
     "output_type": "execute_result"
    },
    {
     "data": {
      "image/png": "[encoded data removed]",
      "text/plain": [
       "<Figure size 432x288 with 1 Axes>"
      ]
     },
     "metadata": {
      "needs_background": "light"
     },
     "output_type": "display_data"
    }
   ],
   "source": [
    "# household size vs loyalty \n",
    "loyalty_table = pd.crosstab(customer_all_view['HOUSEHOLD SIZE'], customer_all_view['LOYALTY GROUP'])\n",
    "loyalty_table.plot(kind = 'bar')"
   ]
  },
  {
   "cell_type": "markdown",
   "metadata": {},
   "source": [
    "customers whose household size is between 2 and 4 appear to be more interested in the loyalty program compared to other household sizes(1,5,6) who are indifferent."
   ]
  },
  {
   "cell_type": "code",
   "execution_count": 27,
   "metadata": {},
   "outputs": [
    {
     "data": {
      "text/plain": [
       "<matplotlib.axes._subplots.AxesSubplot at 0x7f6bb8648d50>"
      ]
     },
     "execution_count": 27,
     "metadata": {},
     "output_type": "execute_result"
    },
    {
     "data": {
      "image/png": "[encoded data removed]",
      "text/plain": [
       "<Figure size 432x288 with 1 Axes>"
      ]
     },
     "metadata": {
      "needs_background": "light"
     },
     "output_type": "display_data"
    }
   ],
   "source": [
    "# marital status vs loyalty \n",
    "loyalty_table = pd.crosstab(customer_all_view['MARITAL STATUS'], customer_all_view['LOYALTY GROUP'])\n",
    "loyalty_table.plot(kind = 'bar')"
   ]
  },
  {
   "cell_type": "markdown",
   "metadata": {},
   "source": [
    "There's a small realtionship, small to mean almost indifferent. Customer who are married, single and widowed are more likely to enroll in the loyalty program. Divorced customers are more likely to not enroll in the loyalty program."
   ]
  },
  {
   "cell_type": "code",
   "execution_count": 28,
   "metadata": {},
   "outputs": [
    {
     "data": {
      "text/plain": [
       "Text(0, 0.5, 'Number of customers')"
      ]
     },
     "execution_count": 28,
     "metadata": {},
     "output_type": "execute_result"
    },
    {
     "data": {
      "image/png": "[encoded data removed]",
      "text/plain": [
       "<Figure size 432x288 with 1 Axes>"
      ]
     },
     "metadata": {
      "needs_background": "light"
     },
     "output_type": "display_data"
    }
   ],
   "source": [
    "# total spent vs loyalty\n",
    "customer_all_view['TOTAL SPENT BINNED'] = pd.cut(customer_all_view['TOTAL SPENT'],10)\n",
    "loyalty_table = pd.crosstab(customer_all_view['TOTAL SPENT BINNED'], customer_all_view['LOYALTY GROUP'])\n",
    "loyalty_table.plot(kind = 'bar')\n",
    "plt.ylabel(\"Number of customers\")"
   ]
  },
  {
   "cell_type": "markdown",
   "metadata": {},
   "source": [
    "Those who spend more enroll more. This is supported by the observation that those who spend above $6117.46 have higher numbers of customers enrolled to the loyalty program, compared to those not enrolled."
   ]
  },
  {
   "cell_type": "markdown",
   "metadata": {},
   "source": [
    "### Factors affecting spending"
   ]
  },
  {
   "cell_type": "code",
   "execution_count": 29,
   "metadata": {},
   "outputs": [
    {
     "data": {
      "text/plain": [
       "<matplotlib.axes._subplots.AxesSubplot at 0x7f6bb8575510>"
      ]
     },
     "execution_count": 29,
     "metadata": {},
     "output_type": "execute_result"
    },
    {
     "data": {
      "image/png": "[encoded data removed]",
      "text/plain": [
       "<Figure size 432x288 with 1 Axes>"
      ]
     },
     "metadata": {
      "needs_background": "light"
     },
     "output_type": "display_data"
    }
   ],
   "source": [
    "# gender vs total spent\n",
    "spending_table = pd.crosstab(customer_all_view['TOTAL SPENT BINNED'], customer_all_view['GENDER'])\n",
    "spending_table.plot(kind = 'bar')"
   ]
  },
  {
   "cell_type": "markdown",
   "metadata": {},
   "source": [
    "Gender shows no clear relationship between spending and being male or female.In 4/10 of the bins gender 0 spent more in 6/10 gender 1 spent more so from the above chart we cannot say that being of gender 0 or 1 will determine how much you'll spend in general."
   ]
  },
  {
   "cell_type": "code",
   "execution_count": 30,
   "metadata": {},
   "outputs": [
    {
     "data": {
      "text/plain": [
       "Text(0, 0.5, 'Total spent')"
      ]
     },
     "execution_count": 30,
     "metadata": {},
     "output_type": "execute_result"
    },
    {
     "data": {
      "image/png": "[encoded data removed]",
      "text/plain": [
       "<Figure size 432x288 with 1 Axes>"
      ]
     },
     "metadata": {
      "needs_background": "light"
     },
     "output_type": "display_data"
    }
   ],
   "source": [
    "# income vs Total spent. Income is continuous hence we use a scatterplot\n",
    "plt.scatter(customer_all_view['INCOME'], customer_all_view['TOTAL SPENT'])\n",
    "plt.xlabel(\"Income\")\n",
    "plt.ylabel(\"Total spent\")"
   ]
  },
  {
   "cell_type": "code",
   "execution_count": 31,
   "metadata": {},
   "outputs": [
    {
     "data": {
      "text/plain": [
       "(0.6880311084625118, 2.3226326963807324e-71)"
      ]
     },
     "execution_count": 31,
     "metadata": {},
     "output_type": "execute_result"
    }
   ],
   "source": [
    "# measure correlation using pearson correlation.\n",
    "from scipy.stats import pearsonr\n",
    "pearsonr(customer_all_view['INCOME'], customer_all_view['TOTAL SPENT'])"
   ]
  },
  {
   "cell_type": "markdown",
   "metadata": {},
   "source": [
    "0.688 is an indication of a strong positive correlation; which then means as income increases so does spending. Income is a factor that affects spending."
   ]
  },
  {
   "cell_type": "code",
   "execution_count": 32,
   "metadata": {},
   "outputs": [
    {
     "data": {
      "text/plain": [
       "(0.9417989049786017, 6.452902105194393e-238)"
      ]
     },
     "execution_count": 32,
     "metadata": {},
     "output_type": "execute_result"
    }
   ],
   "source": [
    "pearsonr(customer_all_view['AGE'], customer_all_view['INCOME'])"
   ]
  },
  {
   "cell_type": "markdown",
   "metadata": {},
   "source": [
    "The relationship between age and income is very strong as proven by the pearson correlation."
   ]
  },
  {
   "cell_type": "code",
   "execution_count": 33,
   "metadata": {},
   "outputs": [
    {
     "data": {
      "text/plain": [
       "Text(0, 0.5, 'Total spent')"
      ]
     },
     "execution_count": 33,
     "metadata": {},
     "output_type": "execute_result"
    },
    {
     "data": {
      "image/png": "[encoded data removed]",
      "text/plain": [
       "<Figure size 432x288 with 1 Axes>"
      ]
     },
     "metadata": {
      "needs_background": "light"
     },
     "output_type": "display_data"
    }
   ],
   "source": [
    "# age vs total spent. Age is continuous hence scatterplot\n",
    "plt.scatter(customer_all_view['AGE'], customer_all_view['TOTAL SPENT'])\n",
    "plt.xlabel(\"Age\")\n",
    "plt.ylabel(\"Total spent\")"
   ]
  },
  {
   "cell_type": "code",
   "execution_count": 34,
   "metadata": {},
   "outputs": [
    {
     "data": {
      "text/plain": [
       "(0.5760170677259264, 1.560821750278272e-45)"
      ]
     },
     "execution_count": 34,
     "metadata": {},
     "output_type": "execute_result"
    }
   ],
   "source": [
    "pearsonr(customer_all_view['AGE'], customer_all_view['TOTAL SPENT'])"
   ]
  },
  {
   "cell_type": "markdown",
   "metadata": {},
   "source": [
    "0.576 indicates a moderately strong. It indicates that as customers grow older they tend to spend more, which is quite normal in every society. As seen before age is highly correlated to income and therefore makes sense to see as age increases so does spending."
   ]
  },
  {
   "cell_type": "code",
   "execution_count": 35,
   "metadata": {},
   "outputs": [
    {
     "data": {
      "text/plain": [
       "Text(0, 0.5, 'TOTAL SPENT')"
      ]
     },
     "execution_count": 35,
     "metadata": {},
     "output_type": "execute_result"
    },
    {
     "data": {
      "image/png": "[encoded data removed]",
      "text/plain": [
       "<Figure size 432x288 with 1 Axes>"
      ]
     },
     "metadata": {
      "needs_background": "light"
     },
     "output_type": "display_data"
    }
   ],
   "source": [
    "'''\n",
    "experience score vs total spent. The data would be too messy to plot since we have 500 customers all with  \n",
    "different experience scores therefore we sum up all that was spent by people who shared an experience score.\n",
    "'''\n",
    "spending_table = customer_all_view.groupby('EXPERIENCE SCORE').agg({'TOTAL SPENT': 'sum'})\n",
    "spending_table.plot(kind = 'line')\n",
    "plt.ylabel(\"TOTAL SPENT\")"
   ]
  },
  {
   "cell_type": "markdown",
   "metadata": {},
   "source": [
    "It is very clear that customers who had a good experience at the store spent more at the store. This is shown by the steep hike after the 4th score."
   ]
  },
  {
   "cell_type": "code",
   "execution_count": 36,
   "metadata": {},
   "outputs": [
    {
     "data": {
      "text/plain": [
       "Text(0, 0.5, 'Number of customers')"
      ]
     },
     "execution_count": 36,
     "metadata": {},
     "output_type": "execute_result"
    },
    {
     "data": {
      "image/png": "[encoded data removed]",
      "text/plain": [
       "<Figure size 432x288 with 1 Axes>"
      ]
     },
     "metadata": {
      "needs_background": "light"
     },
     "output_type": "display_data"
    }
   ],
   "source": [
    "# marital status vs total spent\n",
    "spending_table = pd.crosstab(customer_all_view['TOTAL SPENT BINNED'], customer_all_view['MARITAL STATUS'])\n",
    "spending_table.plot(kind = 'bar')\n",
    "plt.ylabel(\"Number of customers\")"
   ]
  },
  {
   "cell_type": "markdown",
   "metadata": {},
   "source": [
    "Divorced customers are the least spenders, followed by widowed customers. Retailer X's best customers are either married or single."
   ]
  },
  {
   "cell_type": "code",
   "execution_count": 37,
   "metadata": {},
   "outputs": [
    {
     "data": {
      "text/plain": [
       "Text(0, 0.5, 'TOTAL SPENT')"
      ]
     },
     "execution_count": 37,
     "metadata": {},
     "output_type": "execute_result"
    },
    {
     "data": {
      "image/png": "[encoded data removed]",
      "text/plain": [
       "<Figure size 432x288 with 1 Axes>"
      ]
     },
     "metadata": {
      "needs_background": "light"
     },
     "output_type": "display_data"
    }
   ],
   "source": [
    "# household size vs total spent\n",
    "spending_table = customer_all_view.groupby(\"HOUSEHOLD SIZE\").agg({'TOTAL SPENT': 'sum'})\n",
    "spending_table.plot(kind = 'line')\n",
    "plt.ylabel(\"TOTAL SPENT\")"
   ]
  },
  {
   "cell_type": "markdown",
   "metadata": {},
   "source": [
    "Amount spent decreases with number of people in a household. Customer who come from households with 5 people spend the least, and customers from households with 3 people spend the most.\n",
    "\n",
    "### CONCLUSION\n",
    "\n",
    "**Factors affecting spending are:**\n",
    "1. Household size\n",
    "2. Marital status\n",
    "3. Experience score\n",
    "4. Age\n",
    "5. Income\n",
    "\n",
    "\n",
    "**Factors affecting loyalty are**\n",
    "1. Total spent\n",
    "2. Household size\n",
    "3. Marital status\n",
    "4. Experience score\n",
    "5. Age"
   ]
  },
  {
   "cell_type": "markdown",
   "metadata": {},
   "source": [
    "## Next we find the best model\n",
    "### CLUSTERING\n",
    "##### K-MEANS CLUSTERING"
   ]
  },
  {
   "cell_type": "code",
   "execution_count": 65,
   "metadata": {},
   "outputs": [],
   "source": [
    "from sklearn.cluster import KMeans"
   ]
  },
  {
   "cell_type": "code",
   "execution_count": 66,
   "metadata": {},
   "outputs": [
    {
     "data": {
      "text/html": [
       "<div>\n",
       "<style scoped>\n",
       "    .dataframe tbody tr th:only-of-type {\n",
       "        vertical-align: middle;\n",
       "    }\n",
       "\n",
       "    .dataframe tbody tr th {\n",
       "        vertical-align: top;\n",
       "    }\n",
       "\n",
       "    .dataframe thead th {\n",
       "        text-align: right;\n",
       "    }\n",
       "</style>\n",
       "<table border=\"1\" class=\"dataframe\">\n",
       "  <thead>\n",
       "    <tr style=\"text-align: right;\">\n",
       "      <th></th>\n",
       "      <th>INCOME</th>\n",
       "      <th>TOTAL SPENT</th>\n",
       "    </tr>\n",
       "  </thead>\n",
       "  <tbody>\n",
       "    <tr>\n",
       "      <th>0</th>\n",
       "      <td>133498</td>\n",
       "      <td>6826.770</td>\n",
       "    </tr>\n",
       "    <tr>\n",
       "      <th>1</th>\n",
       "      <td>94475</td>\n",
       "      <td>5062.451</td>\n",
       "    </tr>\n",
       "    <tr>\n",
       "      <th>2</th>\n",
       "      <td>88610</td>\n",
       "      <td>8562.440</td>\n",
       "    </tr>\n",
       "    <tr>\n",
       "      <th>3</th>\n",
       "      <td>84313</td>\n",
       "      <td>5522.694</td>\n",
       "    </tr>\n",
       "    <tr>\n",
       "      <th>4</th>\n",
       "      <td>51498</td>\n",
       "      <td>213.512</td>\n",
       "    </tr>\n",
       "  </tbody>\n",
       "</table>\n",
       "</div>"
      ],
      "text/plain": [
       "   INCOME  TOTAL SPENT\n",
       "0  133498     6826.770\n",
       "1   94475     5062.451\n",
       "2   88610     8562.440\n",
       "3   84313     5522.694\n",
       "4   51498      213.512"
      ]
     },
     "execution_count": 66,
     "metadata": {},
     "output_type": "execute_result"
    }
   ],
   "source": [
    "# 1st grouping is according to income and total spent\n",
    "cluster_input = customer_all_view[['INCOME', 'TOTAL SPENT']]\n",
    "cluster_input.head()"
   ]
  },
  {
   "cell_type": "code",
   "execution_count": 126,
   "metadata": {},
   "outputs": [],
   "source": [
    "# The retailer insists on 4 groups of customers so divide into 4 clusters.\n",
    "kmeans_model = KMeans(n_clusters = 4)"
   ]
  },
  {
   "cell_type": "code",
   "execution_count": 127,
   "metadata": {},
   "outputs": [
    {
     "data": {
      "text/plain": [
       "array([2, 0, 0, 0, 1, 2, 0, 3, 3, 0, 1, 3, 0, 0, 1, 0, 0, 3, 2, 0, 3, 3,\n",
       "       3, 1, 3, 3, 0, 1, 1, 2, 0, 1, 1, 3, 1, 1, 1, 3, 3, 1, 1, 0, 0, 0,\n",
       "       2, 1, 1, 0, 2, 1, 3, 1, 1, 1, 3, 1, 3, 3, 3, 1, 0, 3, 2, 3, 2, 0,\n",
       "       0, 3, 1, 0, 0, 1, 0, 0, 2, 1, 0, 1, 0, 2, 0, 3, 2, 3, 1, 3, 2, 1,\n",
       "       0, 1, 3, 2, 3, 3, 3, 0, 3, 1, 2, 3, 1, 1, 1, 1, 0, 3, 3, 1, 0, 1,\n",
       "       1, 1, 0, 1, 3, 1, 2, 2, 0, 0, 1, 3, 3, 1, 0, 0, 3, 0, 1, 2, 0, 0,\n",
       "       1, 0, 2, 3, 2, 2, 3, 0, 0, 1, 1, 1, 0, 3, 3, 1, 3, 0, 0, 3, 3, 3,\n",
       "       0, 3, 1, 1, 3, 1, 2, 1, 2, 3, 1, 0, 1, 2, 0, 1, 2, 1, 3, 3, 2, 1,\n",
       "       2, 2, 3, 1, 2, 1, 0, 1, 3, 2, 3, 3, 1, 2, 1, 3, 3, 2, 3, 2, 3, 2,\n",
       "       3, 0, 3, 1, 2, 2, 3, 1, 0, 2, 2, 2, 2, 1, 3, 0, 2, 3, 1, 3, 0, 1,\n",
       "       0, 1, 3, 1, 1, 1, 3, 1, 1, 0, 3, 0, 3, 0, 0, 1, 3, 2, 1, 1, 1, 0,\n",
       "       0, 0, 0, 1, 3, 3, 2, 1, 0, 3, 1, 3, 1, 0, 1, 2, 3, 3, 1, 2, 1, 0,\n",
       "       0, 2, 3, 0, 0, 3, 2, 1, 2, 1, 1, 1, 2, 0, 3, 3, 3, 0, 0, 0, 2, 0,\n",
       "       3, 0, 3, 2, 2, 1, 1, 2, 1, 1, 1, 1, 0, 0, 1, 0, 0, 2, 1, 2, 1, 1,\n",
       "       2, 1, 1, 3, 0, 0, 0, 0, 1, 2, 3, 1, 3, 0, 1, 0, 1, 1, 0, 1, 3, 1,\n",
       "       1, 3, 1, 0, 0, 1, 1, 3, 3, 3, 3, 2, 3, 0, 3, 3, 0, 2, 3, 0, 1, 0,\n",
       "       1, 3, 2, 2, 3, 0, 1, 0, 2, 0, 1, 3, 0, 1, 0, 3, 3, 0, 3, 0, 0, 2,\n",
       "       0, 2, 3, 0, 1, 3, 0, 1, 1, 1, 2, 0, 1, 0, 2, 1, 2, 1, 0, 2, 1, 3,\n",
       "       2, 0, 2, 0, 3, 2, 1, 0, 2, 0, 1, 2, 0, 0, 2, 3, 1, 0, 2, 1, 3, 3,\n",
       "       2, 1, 1, 0, 0, 0, 3, 0, 2, 3, 0, 1, 3, 0, 0, 1, 2, 0, 3, 3, 0, 3,\n",
       "       3, 1, 0, 2, 1, 0, 2, 1, 1, 0, 1, 1, 1, 1, 2, 0, 3, 3, 0, 1, 2, 0,\n",
       "       3, 0, 2, 3, 0, 1, 1, 3, 2, 0, 2, 3, 3, 0, 0, 0, 1, 1, 1, 3, 3, 2,\n",
       "       0, 1, 0, 1, 3, 2, 0, 0, 2, 0, 1, 3, 3, 3, 1, 0], dtype=int32)"
      ]
     },
     "execution_count": 127,
     "metadata": {},
     "output_type": "execute_result"
    }
   ],
   "source": [
    "# run the kmeans clustering algorithm on the clusters input:\n",
    "cluster_output = kmeans_model.fit_predict(cluster_input)\n",
    "cluster_output"
   ]
  },
  {
   "cell_type": "code",
   "execution_count": 128,
   "metadata": {},
   "outputs": [
    {
     "data": {
      "text/html": [
       "<div>\n",
       "<style scoped>\n",
       "    .dataframe tbody tr th:only-of-type {\n",
       "        vertical-align: middle;\n",
       "    }\n",
       "\n",
       "    .dataframe tbody tr th {\n",
       "        vertical-align: top;\n",
       "    }\n",
       "\n",
       "    .dataframe thead th {\n",
       "        text-align: right;\n",
       "    }\n",
       "</style>\n",
       "<table border=\"1\" class=\"dataframe\">\n",
       "  <thead>\n",
       "    <tr style=\"text-align: right;\">\n",
       "      <th></th>\n",
       "      <th>CLUSTER</th>\n",
       "    </tr>\n",
       "  </thead>\n",
       "  <tbody>\n",
       "    <tr>\n",
       "      <th>495</th>\n",
       "      <td>3</td>\n",
       "    </tr>\n",
       "    <tr>\n",
       "      <th>496</th>\n",
       "      <td>3</td>\n",
       "    </tr>\n",
       "    <tr>\n",
       "      <th>497</th>\n",
       "      <td>3</td>\n",
       "    </tr>\n",
       "    <tr>\n",
       "      <th>498</th>\n",
       "      <td>1</td>\n",
       "    </tr>\n",
       "    <tr>\n",
       "      <th>499</th>\n",
       "      <td>0</td>\n",
       "    </tr>\n",
       "  </tbody>\n",
       "</table>\n",
       "</div>"
      ],
      "text/plain": [
       "     CLUSTER\n",
       "495        3\n",
       "496        3\n",
       "497        3\n",
       "498        1\n",
       "499        0"
      ]
     },
     "execution_count": 128,
     "metadata": {},
     "output_type": "execute_result"
    }
   ],
   "source": [
    "cluster_output = pd.DataFrame(cluster_output, columns = ['CLUSTER'])\n",
    "cluster_output.tail()"
   ]
  },
  {
   "cell_type": "code",
   "execution_count": 129,
   "metadata": {},
   "outputs": [
    {
     "data": {
      "text/html": [
       "<div>\n",
       "<style scoped>\n",
       "    .dataframe tbody tr th:only-of-type {\n",
       "        vertical-align: middle;\n",
       "    }\n",
       "\n",
       "    .dataframe tbody tr th {\n",
       "        vertical-align: top;\n",
       "    }\n",
       "\n",
       "    .dataframe thead th {\n",
       "        text-align: right;\n",
       "    }\n",
       "</style>\n",
       "<table border=\"1\" class=\"dataframe\">\n",
       "  <thead>\n",
       "    <tr style=\"text-align: right;\">\n",
       "      <th></th>\n",
       "      <th>INCOME</th>\n",
       "      <th>TOTAL SPENT</th>\n",
       "      <th>CLUSTER</th>\n",
       "    </tr>\n",
       "  </thead>\n",
       "  <tbody>\n",
       "    <tr>\n",
       "      <th>495</th>\n",
       "      <td>113125</td>\n",
       "      <td>8501.464</td>\n",
       "      <td>3</td>\n",
       "    </tr>\n",
       "    <tr>\n",
       "      <th>496</th>\n",
       "      <td>118108</td>\n",
       "      <td>9903.658</td>\n",
       "      <td>3</td>\n",
       "    </tr>\n",
       "    <tr>\n",
       "      <th>497</th>\n",
       "      <td>97353</td>\n",
       "      <td>6251.466</td>\n",
       "      <td>3</td>\n",
       "    </tr>\n",
       "    <tr>\n",
       "      <th>498</th>\n",
       "      <td>34424</td>\n",
       "      <td>20.010</td>\n",
       "      <td>1</td>\n",
       "    </tr>\n",
       "    <tr>\n",
       "      <th>499</th>\n",
       "      <td>75114</td>\n",
       "      <td>4182.032</td>\n",
       "      <td>0</td>\n",
       "    </tr>\n",
       "  </tbody>\n",
       "</table>\n",
       "</div>"
      ],
      "text/plain": [
       "     INCOME  TOTAL SPENT  CLUSTER\n",
       "495  113125     8501.464        3\n",
       "496  118108     9903.658        3\n",
       "497   97353     6251.466        3\n",
       "498   34424       20.010        1\n",
       "499   75114     4182.032        0"
      ]
     },
     "execution_count": 129,
     "metadata": {},
     "output_type": "execute_result"
    }
   ],
   "source": [
    "# Now merge the first grouping with the segment:\n",
    "cluster_in_out = pd.concat([cluster_input, cluster_output], axis =1)\n",
    "cluster_in_out.tail()"
   ]
  },
  {
   "cell_type": "code",
   "execution_count": 130,
   "metadata": {},
   "outputs": [
    {
     "data": {
      "text/plain": [
       "array([[ 78670.37681159,   5394.79263043],\n",
       "       [ 39991.43624161,   2424.81889933],\n",
       "       [138629.34482759,   6996.87572414],\n",
       "       [111271.84126984,   7779.87040476]])"
      ]
     },
     "execution_count": 130,
     "metadata": {},
     "output_type": "execute_result"
    }
   ],
   "source": [
    "# centroids\n",
    "kmeans_model.cluster_centers_"
   ]
  },
  {
   "cell_type": "code",
   "execution_count": 131,
   "metadata": {},
   "outputs": [
    {
     "data": {
      "text/plain": [
       "<matplotlib.legend.Legend at 0x7f6bb22658d0>"
      ]
     },
     "execution_count": 131,
     "metadata": {},
     "output_type": "execute_result"
    },
    {
     "data": {
      "image/png": "[encoded data removed]",
      "text/plain": [
       "<Figure size 432x288 with 1 Axes>"
      ]
     },
     "metadata": {
      "needs_background": "light"
     },
     "output_type": "display_data"
    }
   ],
   "source": [
    "# plot the cluster results\n",
    "plt.scatter(cluster_in_out[cluster_in_out.CLUSTER == 0]['INCOME'], cluster_in_out[cluster_in_out.CLUSTER == 0]['TOTAL SPENT'], label = 'Cluster 1')\n",
    "plt.scatter(cluster_in_out[cluster_in_out.CLUSTER == 1]['INCOME'], cluster_in_out[cluster_in_out.CLUSTER == 1]['TOTAL SPENT'], label = 'Cluster 2')\n",
    "plt.scatter(cluster_in_out[cluster_in_out.CLUSTER == 2]['INCOME'], cluster_in_out[cluster_in_out.CLUSTER == 2]['TOTAL SPENT'], label = 'Cluster 3')\n",
    "plt.scatter(cluster_in_out[cluster_in_out.CLUSTER == 3]['INCOME'], cluster_in_out[cluster_in_out.CLUSTER == 3]['TOTAL SPENT'], label = 'Cluster 4')\n",
    "# plot the centroids\n",
    "plt.scatter(kmeans_model.cluster_centers_[:,0], kmeans_model.cluster_centers_[:,1], s = 200, c = 'black', alpha = 0.8, label = \"centroids\")\n",
    "\n",
    "plt.title(\"Customer segmentation using K-MEANS (k = 4)\")\n",
    "plt.xlabel(\"Income\")\n",
    "plt.ylabel(\"Total Spent\")\n",
    "plt.legend()"
   ]
  },
  {
   "cell_type": "markdown",
   "metadata": {},
   "source": [
    "Explore demographics of each cluster i.e. other factors that can give insight such as household size, martial status etc."
   ]
  },
  {
   "cell_type": "code",
   "execution_count": 132,
   "metadata": {},
   "outputs": [
    {
     "data": {
      "text/html": [
       "<div>\n",
       "<style scoped>\n",
       "    .dataframe tbody tr th:only-of-type {\n",
       "        vertical-align: middle;\n",
       "    }\n",
       "\n",
       "    .dataframe tbody tr th {\n",
       "        vertical-align: top;\n",
       "    }\n",
       "\n",
       "    .dataframe thead th {\n",
       "        text-align: right;\n",
       "    }\n",
       "</style>\n",
       "<table border=\"1\" class=\"dataframe\">\n",
       "  <thead>\n",
       "    <tr style=\"text-align: right;\">\n",
       "      <th></th>\n",
       "      <th>CUSTOMERID</th>\n",
       "      <th>GENDER</th>\n",
       "      <th>AGE</th>\n",
       "      <th>INCOME</th>\n",
       "      <th>EXPERIENCE SCORE</th>\n",
       "      <th>LOYALTY GROUP</th>\n",
       "      <th>ENROLLMENT DATE</th>\n",
       "      <th>HOUSEHOLD SIZE</th>\n",
       "      <th>MARITAL STATUS</th>\n",
       "      <th>APPAREL</th>\n",
       "      <th>ELECTRONICS</th>\n",
       "      <th>FOOD</th>\n",
       "      <th>HEALTH &amp; BEAUTY</th>\n",
       "      <th>TOTAL SPENT</th>\n",
       "      <th>AGE BINNED</th>\n",
       "      <th>TOTAL SPENT BINNED</th>\n",
       "      <th>CLUSTER</th>\n",
       "    </tr>\n",
       "  </thead>\n",
       "  <tbody>\n",
       "    <tr>\n",
       "      <th>0</th>\n",
       "      <td>10001</td>\n",
       "      <td>0</td>\n",
       "      <td>64</td>\n",
       "      <td>133498</td>\n",
       "      <td>5</td>\n",
       "      <td>enrolled</td>\n",
       "      <td>06-03-2013</td>\n",
       "      <td>4</td>\n",
       "      <td>Single</td>\n",
       "      <td>4022.430</td>\n",
       "      <td>1601.315</td>\n",
       "      <td>68.688</td>\n",
       "      <td>1134.337</td>\n",
       "      <td>6826.770</td>\n",
       "      <td>(61.2, 68.4]</td>\n",
       "      <td>(6117.455, 7641.817]</td>\n",
       "      <td>2</td>\n",
       "    </tr>\n",
       "    <tr>\n",
       "      <th>1</th>\n",
       "      <td>10002</td>\n",
       "      <td>0</td>\n",
       "      <td>42</td>\n",
       "      <td>94475</td>\n",
       "      <td>9</td>\n",
       "      <td>notenrolled</td>\n",
       "      <td>0</td>\n",
       "      <td>6</td>\n",
       "      <td>Married</td>\n",
       "      <td>2312.509</td>\n",
       "      <td>2473.163</td>\n",
       "      <td>276.779</td>\n",
       "      <td>0.000</td>\n",
       "      <td>5062.451</td>\n",
       "      <td>(39.6, 46.8]</td>\n",
       "      <td>(4593.094, 6117.455]</td>\n",
       "      <td>0</td>\n",
       "    </tr>\n",
       "    <tr>\n",
       "      <th>2</th>\n",
       "      <td>10003</td>\n",
       "      <td>0</td>\n",
       "      <td>40</td>\n",
       "      <td>88610</td>\n",
       "      <td>9</td>\n",
       "      <td>enrolled</td>\n",
       "      <td>02-09-2010</td>\n",
       "      <td>5</td>\n",
       "      <td>Married</td>\n",
       "      <td>2887.382</td>\n",
       "      <td>5414.418</td>\n",
       "      <td>260.640</td>\n",
       "      <td>0.000</td>\n",
       "      <td>8562.440</td>\n",
       "      <td>(39.6, 46.8]</td>\n",
       "      <td>(7641.817, 9166.178]</td>\n",
       "      <td>0</td>\n",
       "    </tr>\n",
       "    <tr>\n",
       "      <th>3</th>\n",
       "      <td>10004</td>\n",
       "      <td>0</td>\n",
       "      <td>38</td>\n",
       "      <td>84313</td>\n",
       "      <td>8</td>\n",
       "      <td>enrolled</td>\n",
       "      <td>06-04-2015</td>\n",
       "      <td>1</td>\n",
       "      <td>Single</td>\n",
       "      <td>3637.213</td>\n",
       "      <td>1840.211</td>\n",
       "      <td>45.270</td>\n",
       "      <td>0.000</td>\n",
       "      <td>5522.694</td>\n",
       "      <td>(32.4, 39.6]</td>\n",
       "      <td>(4593.094, 6117.455]</td>\n",
       "      <td>0</td>\n",
       "    </tr>\n",
       "    <tr>\n",
       "      <th>4</th>\n",
       "      <td>10005</td>\n",
       "      <td>0</td>\n",
       "      <td>30</td>\n",
       "      <td>51498</td>\n",
       "      <td>3</td>\n",
       "      <td>notenrolled</td>\n",
       "      <td>0</td>\n",
       "      <td>1</td>\n",
       "      <td>Single</td>\n",
       "      <td>213.512</td>\n",
       "      <td>0.000</td>\n",
       "      <td>0.000</td>\n",
       "      <td>0.000</td>\n",
       "      <td>213.512</td>\n",
       "      <td>(25.2, 32.4]</td>\n",
       "      <td>(4.766, 1544.371]</td>\n",
       "      <td>1</td>\n",
       "    </tr>\n",
       "  </tbody>\n",
       "</table>\n",
       "</div>"
      ],
      "text/plain": [
       "   CUSTOMERID  GENDER  AGE  INCOME  EXPERIENCE SCORE LOYALTY GROUP  \\\n",
       "0       10001       0   64  133498                 5      enrolled   \n",
       "1       10002       0   42   94475                 9   notenrolled   \n",
       "2       10003       0   40   88610                 9      enrolled   \n",
       "3       10004       0   38   84313                 8      enrolled   \n",
       "4       10005       0   30   51498                 3   notenrolled   \n",
       "\n",
       "  ENROLLMENT DATE  HOUSEHOLD SIZE MARITAL STATUS   APPAREL  ELECTRONICS  \\\n",
       "0      06-03-2013               4         Single  4022.430     1601.315   \n",
       "1               0               6        Married  2312.509     2473.163   \n",
       "2      02-09-2010               5        Married  2887.382     5414.418   \n",
       "3      06-04-2015               1         Single  3637.213     1840.211   \n",
       "4               0               1         Single   213.512        0.000   \n",
       "\n",
       "      FOOD  HEALTH & BEAUTY  TOTAL SPENT    AGE BINNED    TOTAL SPENT BINNED  \\\n",
       "0   68.688         1134.337     6826.770  (61.2, 68.4]  (6117.455, 7641.817]   \n",
       "1  276.779            0.000     5062.451  (39.6, 46.8]  (4593.094, 6117.455]   \n",
       "2  260.640            0.000     8562.440  (39.6, 46.8]  (7641.817, 9166.178]   \n",
       "3   45.270            0.000     5522.694  (32.4, 39.6]  (4593.094, 6117.455]   \n",
       "4    0.000            0.000      213.512  (25.2, 32.4]     (4.766, 1544.371]   \n",
       "\n",
       "   CLUSTER  \n",
       "0        2  \n",
       "1        0  \n",
       "2        0  \n",
       "3        0  \n",
       "4        1  "
      ]
     },
     "execution_count": 132,
     "metadata": {},
     "output_type": "execute_result"
    }
   ],
   "source": [
    "customer_demographics = pd.concat([customer_all_view, cluster_output], axis = 1)\n",
    "customer_demographics.head()"
   ]
  },
  {
   "cell_type": "code",
   "execution_count": 133,
   "metadata": {},
   "outputs": [
    {
     "data": {
      "text/html": [
       "<div>\n",
       "<style scoped>\n",
       "    .dataframe tbody tr th:only-of-type {\n",
       "        vertical-align: middle;\n",
       "    }\n",
       "\n",
       "    .dataframe tbody tr th {\n",
       "        vertical-align: top;\n",
       "    }\n",
       "\n",
       "    .dataframe thead th {\n",
       "        text-align: right;\n",
       "    }\n",
       "</style>\n",
       "<table border=\"1\" class=\"dataframe\">\n",
       "  <thead>\n",
       "    <tr style=\"text-align: right;\">\n",
       "      <th></th>\n",
       "      <th>AGE</th>\n",
       "      <th>HOUSEHOLD SIZE</th>\n",
       "    </tr>\n",
       "    <tr>\n",
       "      <th>CLUSTER</th>\n",
       "      <th></th>\n",
       "      <th></th>\n",
       "    </tr>\n",
       "  </thead>\n",
       "  <tbody>\n",
       "    <tr>\n",
       "      <th>0</th>\n",
       "      <td>36.311594</td>\n",
       "      <td>3</td>\n",
       "    </tr>\n",
       "    <tr>\n",
       "      <th>1</th>\n",
       "      <td>24.932886</td>\n",
       "      <td>2</td>\n",
       "    </tr>\n",
       "    <tr>\n",
       "      <th>2</th>\n",
       "      <td>73.609195</td>\n",
       "      <td>2</td>\n",
       "    </tr>\n",
       "    <tr>\n",
       "      <th>3</th>\n",
       "      <td>47.841270</td>\n",
       "      <td>3</td>\n",
       "    </tr>\n",
       "  </tbody>\n",
       "</table>\n",
       "</div>"
      ],
      "text/plain": [
       "               AGE  HOUSEHOLD SIZE\n",
       "CLUSTER                           \n",
       "0        36.311594               3\n",
       "1        24.932886               2\n",
       "2        73.609195               2\n",
       "3        47.841270               3"
      ]
     },
     "execution_count": 133,
     "metadata": {},
     "output_type": "execute_result"
    }
   ],
   "source": [
    "# Find the average age and household size of each cluster.\n",
    "customer_demographics.groupby('CLUSTER').agg({'AGE':'mean', 'HOUSEHOLD SIZE': 'median'})"
   ]
  },
  {
   "cell_type": "code",
   "execution_count": 134,
   "metadata": {},
   "outputs": [],
   "source": [
    "# check rate of enrollment per cluster:\n",
    "def percent_loyalty(series):\n",
    "    percent = ((series.value_counts()['enrolled']/series.count())*100).round(2)\n",
    "    return percent"
   ]
  },
  {
   "cell_type": "code",
   "execution_count": 167,
   "metadata": {},
   "outputs": [
    {
     "data": {
      "text/html": [
       "<div>\n",
       "<style scoped>\n",
       "    .dataframe tbody tr th:only-of-type {\n",
       "        vertical-align: middle;\n",
       "    }\n",
       "\n",
       "    .dataframe tbody tr th {\n",
       "        vertical-align: top;\n",
       "    }\n",
       "\n",
       "    .dataframe thead th {\n",
       "        text-align: right;\n",
       "    }\n",
       "</style>\n",
       "<table border=\"1\" class=\"dataframe\">\n",
       "  <thead>\n",
       "    <tr style=\"text-align: right;\">\n",
       "      <th></th>\n",
       "      <th>AGE</th>\n",
       "      <th>INCOME</th>\n",
       "      <th>EXPERIENCE SCORE</th>\n",
       "      <th>HOUSEHOLD SIZE</th>\n",
       "      <th>LOYALTY GROUP</th>\n",
       "    </tr>\n",
       "    <tr>\n",
       "      <th>CLUSTER</th>\n",
       "      <th></th>\n",
       "      <th></th>\n",
       "      <th></th>\n",
       "      <th></th>\n",
       "      <th></th>\n",
       "    </tr>\n",
       "  </thead>\n",
       "  <tbody>\n",
       "    <tr>\n",
       "      <th>0</th>\n",
       "      <td>36.311594</td>\n",
       "      <td>78670.376812</td>\n",
       "      <td>6</td>\n",
       "      <td>3</td>\n",
       "      <td>34.06</td>\n",
       "    </tr>\n",
       "    <tr>\n",
       "      <th>1</th>\n",
       "      <td>24.932886</td>\n",
       "      <td>39991.436242</td>\n",
       "      <td>7</td>\n",
       "      <td>2</td>\n",
       "      <td>50.34</td>\n",
       "    </tr>\n",
       "    <tr>\n",
       "      <th>2</th>\n",
       "      <td>73.609195</td>\n",
       "      <td>138629.344828</td>\n",
       "      <td>7</td>\n",
       "      <td>2</td>\n",
       "      <td>65.52</td>\n",
       "    </tr>\n",
       "    <tr>\n",
       "      <th>3</th>\n",
       "      <td>47.841270</td>\n",
       "      <td>111271.841270</td>\n",
       "      <td>7</td>\n",
       "      <td>3</td>\n",
       "      <td>67.46</td>\n",
       "    </tr>\n",
       "  </tbody>\n",
       "</table>\n",
       "</div>"
      ],
      "text/plain": [
       "               AGE         INCOME  EXPERIENCE SCORE  HOUSEHOLD SIZE  \\\n",
       "CLUSTER                                                               \n",
       "0        36.311594   78670.376812                 6               3   \n",
       "1        24.932886   39991.436242                 7               2   \n",
       "2        73.609195  138629.344828                 7               2   \n",
       "3        47.841270  111271.841270                 7               3   \n",
       "\n",
       "         LOYALTY GROUP  \n",
       "CLUSTER                 \n",
       "0                34.06  \n",
       "1                50.34  \n",
       "2                65.52  \n",
       "3                67.46  "
      ]
     },
     "execution_count": 167,
     "metadata": {},
     "output_type": "execute_result"
    }
   ],
   "source": [
    "customer_demographics.groupby(\"CLUSTER\").agg({'AGE':'mean','INCOME': 'mean', 'EXPERIENCE SCORE': 'median','HOUSEHOLD SIZE': 'median','LOYALTY GROUP': percent_loyalty})"
   ]
  },
  {
   "cell_type": "markdown",
   "metadata": {},
   "source": [
    "**Cluster 0:** made up of people averagely around 36.31 years old, live in a household of approximately 3 people. Only 34.06% of people in this cluster are interested in the loyalty program.\n",
    "\n",
    "**Cluster 1:** made up of people around the age of 24.93, live in a household of approximately 2 people. 50.34% of people in this cluster are interested in the loyalty program.\n",
    "\n",
    "**Cluster 2:** made up of people around the age of 73.61, live in a household of approximately 2 people. 65.52% of people in this cluster are interested in the loyalty program.\n",
    "\n",
    "**Cluster 3:** made up of people around the age of 47.84, live in a household of approximately 3 people. 67.46% of people in this cluster are interested in the loyalty program.\n",
    "\n",
    "\n",
    "**Retailer X should lighlty market to clusters 3 and 1(ages 47.84 and 73.61) to increase the number of customers in the loyalty group. They should however look for better ways to market the loyalty program better to the clusters clusters 0 and 2(ages 34.31 and 24.93).** It can also be observed that the groups with a higher income have enrolled more compared to those with a lower income.\n",
    "\n",
    "Experience in the store does not g\n",
    "\n",
    "\n",
    "\n",
    "## Hierarchical Clustering"
   ]
  },
  {
   "cell_type": "code",
   "execution_count": 81,
   "metadata": {},
   "outputs": [],
   "source": [
    "from sklearn.cluster import AgglomerativeClustering"
   ]
  },
  {
   "cell_type": "code",
   "execution_count": 144,
   "metadata": {},
   "outputs": [
    {
     "data": {
      "text/plain": [
       "AgglomerativeClustering(affinity='euclidean', compute_full_tree='auto',\n",
       "                        connectivity=None, distance_threshold=None,\n",
       "                        linkage='ward', memory=None, n_clusters=4)"
      ]
     },
     "execution_count": 144,
     "metadata": {},
     "output_type": "execute_result"
    }
   ],
   "source": [
    "agglomerative_model = AgglomerativeClustering(n_clusters = 4)\n",
    "agglomerative_model"
   ]
  },
  {
   "cell_type": "code",
   "execution_count": 145,
   "metadata": {},
   "outputs": [
    {
     "data": {
      "text/plain": [
       "array([0, 3, 3, 3, 1, 0, 1, 0, 3, 1, 2, 3, 3, 3, 1, 3, 3, 0, 0, 1, 0, 0,\n",
       "       0, 1, 0, 0, 1, 2, 2, 0, 1, 2, 2, 3, 2, 2, 1, 0, 0, 1, 2, 1, 1, 1,\n",
       "       0, 2, 2, 1, 0, 1, 0, 2, 1, 1, 3, 2, 0, 0, 0, 2, 3, 0, 0, 0, 0, 1,\n",
       "       3, 0, 2, 1, 1, 2, 1, 1, 0, 2, 3, 2, 1, 0, 1, 0, 0, 0, 1, 3, 0, 1,\n",
       "       3, 2, 0, 0, 0, 0, 0, 1, 3, 1, 0, 0, 2, 2, 1, 2, 1, 3, 0, 2, 1, 1,\n",
       "       2, 2, 1, 2, 3, 1, 0, 0, 1, 1, 2, 3, 0, 2, 3, 1, 0, 1, 2, 0, 1, 3,\n",
       "       1, 3, 0, 3, 0, 0, 0, 1, 1, 2, 1, 2, 1, 0, 3, 2, 3, 1, 3, 0, 0, 0,\n",
       "       3, 3, 1, 1, 0, 2, 0, 2, 0, 0, 1, 1, 2, 0, 1, 2, 0, 2, 0, 3, 0, 1,\n",
       "       0, 0, 3, 2, 0, 1, 1, 2, 0, 0, 0, 0, 2, 0, 2, 0, 0, 0, 3, 0, 0, 0,\n",
       "       0, 3, 3, 2, 0, 0, 3, 2, 3, 0, 0, 0, 0, 2, 0, 1, 0, 0, 1, 3, 1, 1,\n",
       "       1, 2, 0, 1, 1, 1, 0, 2, 2, 3, 3, 1, 0, 3, 3, 2, 0, 0, 1, 1, 2, 1,\n",
       "       3, 3, 1, 2, 0, 0, 0, 2, 1, 0, 1, 0, 2, 1, 2, 0, 0, 3, 2, 0, 1, 3,\n",
       "       3, 0, 3, 1, 1, 0, 0, 1, 0, 1, 2, 1, 0, 1, 0, 0, 3, 3, 1, 3, 0, 1,\n",
       "       0, 3, 0, 0, 0, 2, 2, 0, 2, 1, 2, 2, 1, 3, 2, 1, 3, 0, 1, 0, 2, 2,\n",
       "       0, 2, 1, 3, 1, 3, 3, 1, 2, 0, 3, 1, 3, 1, 2, 1, 2, 1, 1, 2, 0, 1,\n",
       "       2, 3, 2, 1, 3, 2, 2, 0, 3, 3, 3, 0, 0, 1, 3, 0, 1, 0, 0, 1, 2, 3,\n",
       "       1, 0, 0, 0, 0, 1, 1, 3, 0, 3, 2, 0, 3, 2, 1, 0, 0, 3, 0, 1, 1, 0,\n",
       "       1, 0, 0, 1, 1, 3, 3, 2, 2, 2, 0, 1, 2, 3, 0, 2, 0, 1, 3, 0, 2, 0,\n",
       "       0, 3, 0, 1, 0, 0, 1, 1, 0, 1, 1, 0, 3, 3, 0, 3, 2, 1, 0, 2, 0, 0,\n",
       "       0, 1, 2, 3, 1, 3, 0, 1, 0, 0, 1, 2, 0, 1, 1, 2, 0, 3, 0, 0, 3, 3,\n",
       "       0, 2, 1, 0, 2, 1, 0, 2, 1, 3, 1, 2, 2, 2, 0, 3, 0, 0, 3, 2, 0, 3,\n",
       "       0, 1, 0, 0, 1, 2, 2, 0, 0, 1, 0, 0, 0, 3, 3, 1, 2, 2, 2, 0, 0, 0,\n",
       "       3, 2, 3, 2, 0, 0, 3, 1, 0, 1, 1, 0, 0, 3, 2, 1])"
      ]
     },
     "execution_count": 145,
     "metadata": {},
     "output_type": "execute_result"
    }
   ],
   "source": [
    "# same cluster input as before: income and total spent\n",
    "h_cluster_output = agglomerative_model.fit_predict(cluster_input)\n",
    "h_cluster_output"
   ]
  },
  {
   "cell_type": "code",
   "execution_count": 146,
   "metadata": {},
   "outputs": [
    {
     "data": {
      "text/html": [
       "<div>\n",
       "<style scoped>\n",
       "    .dataframe tbody tr th:only-of-type {\n",
       "        vertical-align: middle;\n",
       "    }\n",
       "\n",
       "    .dataframe tbody tr th {\n",
       "        vertical-align: top;\n",
       "    }\n",
       "\n",
       "    .dataframe thead th {\n",
       "        text-align: right;\n",
       "    }\n",
       "</style>\n",
       "<table border=\"1\" class=\"dataframe\">\n",
       "  <thead>\n",
       "    <tr style=\"text-align: right;\">\n",
       "      <th></th>\n",
       "      <th>CLUSTER</th>\n",
       "    </tr>\n",
       "  </thead>\n",
       "  <tbody>\n",
       "    <tr>\n",
       "      <th>0</th>\n",
       "      <td>0</td>\n",
       "    </tr>\n",
       "    <tr>\n",
       "      <th>1</th>\n",
       "      <td>3</td>\n",
       "    </tr>\n",
       "    <tr>\n",
       "      <th>2</th>\n",
       "      <td>3</td>\n",
       "    </tr>\n",
       "    <tr>\n",
       "      <th>3</th>\n",
       "      <td>3</td>\n",
       "    </tr>\n",
       "    <tr>\n",
       "      <th>4</th>\n",
       "      <td>1</td>\n",
       "    </tr>\n",
       "  </tbody>\n",
       "</table>\n",
       "</div>"
      ],
      "text/plain": [
       "   CLUSTER\n",
       "0        0\n",
       "1        3\n",
       "2        3\n",
       "3        3\n",
       "4        1"
      ]
     },
     "execution_count": 146,
     "metadata": {},
     "output_type": "execute_result"
    }
   ],
   "source": [
    "h_cluster_output = pd.DataFrame(h_cluster_output, columns = ['CLUSTER'])\n",
    "h_cluster_output.head()"
   ]
  },
  {
   "cell_type": "code",
   "execution_count": 147,
   "metadata": {},
   "outputs": [
    {
     "data": {
      "text/html": [
       "<div>\n",
       "<style scoped>\n",
       "    .dataframe tbody tr th:only-of-type {\n",
       "        vertical-align: middle;\n",
       "    }\n",
       "\n",
       "    .dataframe tbody tr th {\n",
       "        vertical-align: top;\n",
       "    }\n",
       "\n",
       "    .dataframe thead th {\n",
       "        text-align: right;\n",
       "    }\n",
       "</style>\n",
       "<table border=\"1\" class=\"dataframe\">\n",
       "  <thead>\n",
       "    <tr style=\"text-align: right;\">\n",
       "      <th></th>\n",
       "      <th>INCOME</th>\n",
       "      <th>TOTAL SPENT</th>\n",
       "      <th>CLUSTER</th>\n",
       "    </tr>\n",
       "  </thead>\n",
       "  <tbody>\n",
       "    <tr>\n",
       "      <th>0</th>\n",
       "      <td>133498</td>\n",
       "      <td>6826.770</td>\n",
       "      <td>0</td>\n",
       "    </tr>\n",
       "    <tr>\n",
       "      <th>1</th>\n",
       "      <td>94475</td>\n",
       "      <td>5062.451</td>\n",
       "      <td>3</td>\n",
       "    </tr>\n",
       "    <tr>\n",
       "      <th>2</th>\n",
       "      <td>88610</td>\n",
       "      <td>8562.440</td>\n",
       "      <td>3</td>\n",
       "    </tr>\n",
       "    <tr>\n",
       "      <th>3</th>\n",
       "      <td>84313</td>\n",
       "      <td>5522.694</td>\n",
       "      <td>3</td>\n",
       "    </tr>\n",
       "    <tr>\n",
       "      <th>4</th>\n",
       "      <td>51498</td>\n",
       "      <td>213.512</td>\n",
       "      <td>1</td>\n",
       "    </tr>\n",
       "  </tbody>\n",
       "</table>\n",
       "</div>"
      ],
      "text/plain": [
       "   INCOME  TOTAL SPENT  CLUSTER\n",
       "0  133498     6826.770        0\n",
       "1   94475     5062.451        3\n",
       "2   88610     8562.440        3\n",
       "3   84313     5522.694        3\n",
       "4   51498      213.512        1"
      ]
     },
     "execution_count": 147,
     "metadata": {},
     "output_type": "execute_result"
    }
   ],
   "source": [
    "h_cluster_in_out = pd.concat([cluster_input, h_cluster_output], axis =1)\n",
    "h_cluster_in_out.head()"
   ]
  },
  {
   "cell_type": "code",
   "execution_count": 148,
   "metadata": {},
   "outputs": [
    {
     "data": {
      "text/html": [
       "<div>\n",
       "<style scoped>\n",
       "    .dataframe tbody tr th:only-of-type {\n",
       "        vertical-align: middle;\n",
       "    }\n",
       "\n",
       "    .dataframe tbody tr th {\n",
       "        vertical-align: top;\n",
       "    }\n",
       "\n",
       "    .dataframe thead th {\n",
       "        text-align: right;\n",
       "    }\n",
       "</style>\n",
       "<table border=\"1\" class=\"dataframe\">\n",
       "  <thead>\n",
       "    <tr style=\"text-align: right;\">\n",
       "      <th></th>\n",
       "      <th>CUSTOMERID</th>\n",
       "      <th>GENDER</th>\n",
       "      <th>AGE</th>\n",
       "      <th>INCOME</th>\n",
       "      <th>EXPERIENCE SCORE</th>\n",
       "      <th>LOYALTY GROUP</th>\n",
       "      <th>ENROLLMENT DATE</th>\n",
       "      <th>HOUSEHOLD SIZE</th>\n",
       "      <th>MARITAL STATUS</th>\n",
       "      <th>APPAREL</th>\n",
       "      <th>ELECTRONICS</th>\n",
       "      <th>FOOD</th>\n",
       "      <th>HEALTH &amp; BEAUTY</th>\n",
       "      <th>TOTAL SPENT</th>\n",
       "      <th>AGE BINNED</th>\n",
       "      <th>TOTAL SPENT BINNED</th>\n",
       "      <th>CLUSTER</th>\n",
       "    </tr>\n",
       "  </thead>\n",
       "  <tbody>\n",
       "    <tr>\n",
       "      <th>0</th>\n",
       "      <td>10001</td>\n",
       "      <td>0</td>\n",
       "      <td>64</td>\n",
       "      <td>133498</td>\n",
       "      <td>5</td>\n",
       "      <td>enrolled</td>\n",
       "      <td>06-03-2013</td>\n",
       "      <td>4</td>\n",
       "      <td>Single</td>\n",
       "      <td>4022.430</td>\n",
       "      <td>1601.315</td>\n",
       "      <td>68.688</td>\n",
       "      <td>1134.337</td>\n",
       "      <td>6826.770</td>\n",
       "      <td>(61.2, 68.4]</td>\n",
       "      <td>(6117.455, 7641.817]</td>\n",
       "      <td>0</td>\n",
       "    </tr>\n",
       "    <tr>\n",
       "      <th>1</th>\n",
       "      <td>10002</td>\n",
       "      <td>0</td>\n",
       "      <td>42</td>\n",
       "      <td>94475</td>\n",
       "      <td>9</td>\n",
       "      <td>notenrolled</td>\n",
       "      <td>0</td>\n",
       "      <td>6</td>\n",
       "      <td>Married</td>\n",
       "      <td>2312.509</td>\n",
       "      <td>2473.163</td>\n",
       "      <td>276.779</td>\n",
       "      <td>0.000</td>\n",
       "      <td>5062.451</td>\n",
       "      <td>(39.6, 46.8]</td>\n",
       "      <td>(4593.094, 6117.455]</td>\n",
       "      <td>3</td>\n",
       "    </tr>\n",
       "    <tr>\n",
       "      <th>2</th>\n",
       "      <td>10003</td>\n",
       "      <td>0</td>\n",
       "      <td>40</td>\n",
       "      <td>88610</td>\n",
       "      <td>9</td>\n",
       "      <td>enrolled</td>\n",
       "      <td>02-09-2010</td>\n",
       "      <td>5</td>\n",
       "      <td>Married</td>\n",
       "      <td>2887.382</td>\n",
       "      <td>5414.418</td>\n",
       "      <td>260.640</td>\n",
       "      <td>0.000</td>\n",
       "      <td>8562.440</td>\n",
       "      <td>(39.6, 46.8]</td>\n",
       "      <td>(7641.817, 9166.178]</td>\n",
       "      <td>3</td>\n",
       "    </tr>\n",
       "    <tr>\n",
       "      <th>3</th>\n",
       "      <td>10004</td>\n",
       "      <td>0</td>\n",
       "      <td>38</td>\n",
       "      <td>84313</td>\n",
       "      <td>8</td>\n",
       "      <td>enrolled</td>\n",
       "      <td>06-04-2015</td>\n",
       "      <td>1</td>\n",
       "      <td>Single</td>\n",
       "      <td>3637.213</td>\n",
       "      <td>1840.211</td>\n",
       "      <td>45.270</td>\n",
       "      <td>0.000</td>\n",
       "      <td>5522.694</td>\n",
       "      <td>(32.4, 39.6]</td>\n",
       "      <td>(4593.094, 6117.455]</td>\n",
       "      <td>3</td>\n",
       "    </tr>\n",
       "    <tr>\n",
       "      <th>4</th>\n",
       "      <td>10005</td>\n",
       "      <td>0</td>\n",
       "      <td>30</td>\n",
       "      <td>51498</td>\n",
       "      <td>3</td>\n",
       "      <td>notenrolled</td>\n",
       "      <td>0</td>\n",
       "      <td>1</td>\n",
       "      <td>Single</td>\n",
       "      <td>213.512</td>\n",
       "      <td>0.000</td>\n",
       "      <td>0.000</td>\n",
       "      <td>0.000</td>\n",
       "      <td>213.512</td>\n",
       "      <td>(25.2, 32.4]</td>\n",
       "      <td>(4.766, 1544.371]</td>\n",
       "      <td>1</td>\n",
       "    </tr>\n",
       "  </tbody>\n",
       "</table>\n",
       "</div>"
      ],
      "text/plain": [
       "   CUSTOMERID  GENDER  AGE  INCOME  EXPERIENCE SCORE LOYALTY GROUP  \\\n",
       "0       10001       0   64  133498                 5      enrolled   \n",
       "1       10002       0   42   94475                 9   notenrolled   \n",
       "2       10003       0   40   88610                 9      enrolled   \n",
       "3       10004       0   38   84313                 8      enrolled   \n",
       "4       10005       0   30   51498                 3   notenrolled   \n",
       "\n",
       "  ENROLLMENT DATE  HOUSEHOLD SIZE MARITAL STATUS   APPAREL  ELECTRONICS  \\\n",
       "0      06-03-2013               4         Single  4022.430     1601.315   \n",
       "1               0               6        Married  2312.509     2473.163   \n",
       "2      02-09-2010               5        Married  2887.382     5414.418   \n",
       "3      06-04-2015               1         Single  3637.213     1840.211   \n",
       "4               0               1         Single   213.512        0.000   \n",
       "\n",
       "      FOOD  HEALTH & BEAUTY  TOTAL SPENT    AGE BINNED    TOTAL SPENT BINNED  \\\n",
       "0   68.688         1134.337     6826.770  (61.2, 68.4]  (6117.455, 7641.817]   \n",
       "1  276.779            0.000     5062.451  (39.6, 46.8]  (4593.094, 6117.455]   \n",
       "2  260.640            0.000     8562.440  (39.6, 46.8]  (7641.817, 9166.178]   \n",
       "3   45.270            0.000     5522.694  (32.4, 39.6]  (4593.094, 6117.455]   \n",
       "4    0.000            0.000      213.512  (25.2, 32.4]     (4.766, 1544.371]   \n",
       "\n",
       "   CLUSTER  \n",
       "0        0  \n",
       "1        3  \n",
       "2        3  \n",
       "3        3  \n",
       "4        1  "
      ]
     },
     "execution_count": 148,
     "metadata": {},
     "output_type": "execute_result"
    }
   ],
   "source": [
    "# explore relationships per cluster\n",
    "h_customer_demographics = pd.concat([customer_all_view, h_cluster_output], axis = 1)\n",
    "h_customer_demographics.head()"
   ]
  },
  {
   "cell_type": "code",
   "execution_count": 149,
   "metadata": {},
   "outputs": [
    {
     "data": {
      "text/html": [
       "<div>\n",
       "<style scoped>\n",
       "    .dataframe tbody tr th:only-of-type {\n",
       "        vertical-align: middle;\n",
       "    }\n",
       "\n",
       "    .dataframe tbody tr th {\n",
       "        vertical-align: top;\n",
       "    }\n",
       "\n",
       "    .dataframe thead th {\n",
       "        text-align: right;\n",
       "    }\n",
       "</style>\n",
       "<table border=\"1\" class=\"dataframe\">\n",
       "  <thead>\n",
       "    <tr style=\"text-align: right;\">\n",
       "      <th></th>\n",
       "      <th>AGE</th>\n",
       "      <th>HOUSEHOLD SIZE</th>\n",
       "    </tr>\n",
       "    <tr>\n",
       "      <th>CLUSTER</th>\n",
       "      <th></th>\n",
       "      <th></th>\n",
       "    </tr>\n",
       "  </thead>\n",
       "  <tbody>\n",
       "    <tr>\n",
       "      <th>0</th>\n",
       "      <td>61.382022</td>\n",
       "      <td>3</td>\n",
       "    </tr>\n",
       "    <tr>\n",
       "      <th>1</th>\n",
       "      <td>32.430769</td>\n",
       "      <td>3</td>\n",
       "    </tr>\n",
       "    <tr>\n",
       "      <th>2</th>\n",
       "      <td>22.620000</td>\n",
       "      <td>2</td>\n",
       "    </tr>\n",
       "    <tr>\n",
       "      <th>3</th>\n",
       "      <td>40.804348</td>\n",
       "      <td>4</td>\n",
       "    </tr>\n",
       "  </tbody>\n",
       "</table>\n",
       "</div>"
      ],
      "text/plain": [
       "               AGE  HOUSEHOLD SIZE\n",
       "CLUSTER                           \n",
       "0        61.382022               3\n",
       "1        32.430769               3\n",
       "2        22.620000               2\n",
       "3        40.804348               4"
      ]
     },
     "execution_count": 149,
     "metadata": {},
     "output_type": "execute_result"
    }
   ],
   "source": [
    "h_customer_demographics.groupby('CLUSTER').agg({'AGE':'mean', 'HOUSEHOLD SIZE': 'median'})"
   ]
  },
  {
   "cell_type": "code",
   "execution_count": 163,
   "metadata": {},
   "outputs": [
    {
     "data": {
      "text/html": [
       "<div>\n",
       "<style scoped>\n",
       "    .dataframe tbody tr th:only-of-type {\n",
       "        vertical-align: middle;\n",
       "    }\n",
       "\n",
       "    .dataframe tbody tr th {\n",
       "        vertical-align: top;\n",
       "    }\n",
       "\n",
       "    .dataframe thead th {\n",
       "        text-align: right;\n",
       "    }\n",
       "</style>\n",
       "<table border=\"1\" class=\"dataframe\">\n",
       "  <thead>\n",
       "    <tr style=\"text-align: right;\">\n",
       "      <th></th>\n",
       "      <th>AGE</th>\n",
       "      <th>HOUSEHOLD SIZE</th>\n",
       "      <th>LOYALTY GROUP</th>\n",
       "    </tr>\n",
       "    <tr>\n",
       "      <th>CLUSTER</th>\n",
       "      <th></th>\n",
       "      <th></th>\n",
       "      <th></th>\n",
       "    </tr>\n",
       "  </thead>\n",
       "  <tbody>\n",
       "    <tr>\n",
       "      <th>0</th>\n",
       "      <td>61.382022</td>\n",
       "      <td>3</td>\n",
       "      <td>70.22</td>\n",
       "    </tr>\n",
       "    <tr>\n",
       "      <th>1</th>\n",
       "      <td>32.430769</td>\n",
       "      <td>3</td>\n",
       "      <td>33.85</td>\n",
       "    </tr>\n",
       "    <tr>\n",
       "      <th>2</th>\n",
       "      <td>22.620000</td>\n",
       "      <td>2</td>\n",
       "      <td>58.00</td>\n",
       "    </tr>\n",
       "    <tr>\n",
       "      <th>3</th>\n",
       "      <td>40.804348</td>\n",
       "      <td>4</td>\n",
       "      <td>40.22</td>\n",
       "    </tr>\n",
       "  </tbody>\n",
       "</table>\n",
       "</div>"
      ],
      "text/plain": [
       "               AGE  HOUSEHOLD SIZE  LOYALTY GROUP\n",
       "CLUSTER                                          \n",
       "0        61.382022               3          70.22\n",
       "1        32.430769               3          33.85\n",
       "2        22.620000               2          58.00\n",
       "3        40.804348               4          40.22"
      ]
     },
     "execution_count": 163,
     "metadata": {},
     "output_type": "execute_result"
    }
   ],
   "source": [
    "h_customer_demographics.groupby('CLUSTER').agg({'AGE':'mean', 'HOUSEHOLD SIZE': 'median', 'LOYALTY GROUP': percent_loyalty})"
   ]
  },
  {
   "cell_type": "markdown",
   "metadata": {},
   "source": [
    "**Cluster 0:** made up of people averagely aged 61.38 years, have the highest income among the 4 clusters and live in a household with approximately 3 people. 70.22% of customers in this cluster are enrolled in the loyalty program.\n",
    "\n",
    "**Cluster 1:** made up of customers averagely aged 32.43, live in a household with approximately 3 people and only 33.85% of customers in this cluster have enrolled in the loyalty program.\n",
    "\n",
    "**Cluster 2:** made up customers averagely aged 22.62, have the least income among the 4 clusters and live in a household with approximately 2 people. 58% of people in this group are enrolled in the loyalty program.\n",
    "\n",
    "**Cluster 3:** made up of people averagely aged 40.80, live in a household with approximately 4 people. 40.22% of customers in this cluster have enrolled in the loyalty program.\n",
    "\n",
    "**From Hierarchical clustering, the results indicate that the loyalty program should be lightly marketed to clusters 0 and 2(ages 61.38 and 22.62), to increase their numbers because they are more receptive to the program. More should be invested in marketing to people in clusters 1 and 3(ages 32.43 and 40.80).**\n",
    "\n",
    "\n",
    "The other factors affecting loyalty don't seem to give any meaningful insight, i.e. Marital status, total spent and experience score."
   ]
  },
  {
   "cell_type": "markdown",
   "metadata": {},
   "source": [
    "## Classification"
   ]
  },
  {
   "cell_type": "code",
   "execution_count": null,
   "metadata": {},
   "outputs": [],
   "source": []
  }
 ],
 "metadata": {
  "kernelspec": {
   "display_name": "Python 3",
   "language": "python",
   "name": "python3"
  },
  "language_info": {
   "codemirror_mode": {
    "name": "ipython",
    "version": 3
   },
   "file_extension": ".py",
   "mimetype": "text/x-python",
   "name": "python",
   "nbconvert_exporter": "python",
   "pygments_lexer": "ipython3",
   "version": "3.7.6"
  }
 },
 "nbformat": 4,
 "nbformat_minor": 4
}
