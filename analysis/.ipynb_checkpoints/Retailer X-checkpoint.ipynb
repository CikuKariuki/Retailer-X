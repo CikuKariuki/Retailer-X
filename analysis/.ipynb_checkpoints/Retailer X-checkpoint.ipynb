{
 "cells": [
  {
   "cell_type": "code",
   "execution_count": 1,
   "metadata": {},
   "outputs": [],
   "source": [
    "import pandas as pd"
   ]
  },
  {
   "cell_type": "code",
   "execution_count": 2,
   "metadata": {},
   "outputs": [
    {
     "data": {
      "text/html": [
       "<div>\n",
       "<style scoped>\n",
       "    .dataframe tbody tr th:only-of-type {\n",
       "        vertical-align: middle;\n",
       "    }\n",
       "\n",
       "    .dataframe tbody tr th {\n",
       "        vertical-align: top;\n",
       "    }\n",
       "\n",
       "    .dataframe thead th {\n",
       "        text-align: right;\n",
       "    }\n",
       "</style>\n",
       "<table border=\"1\" class=\"dataframe\">\n",
       "  <thead>\n",
       "    <tr style=\"text-align: right;\">\n",
       "      <th></th>\n",
       "      <th>CUSTOMERID</th>\n",
       "      <th>GENDER</th>\n",
       "      <th>AGE</th>\n",
       "      <th>INCOME</th>\n",
       "      <th>EXPERIENCE SCORE</th>\n",
       "      <th>LOYALTY GROUP</th>\n",
       "      <th>ENROLLMENT DATE</th>\n",
       "      <th>HOUSEHOLD SIZE</th>\n",
       "      <th>MARITAL STATUS</th>\n",
       "    </tr>\n",
       "  </thead>\n",
       "  <tbody>\n",
       "    <tr>\n",
       "      <th>0</th>\n",
       "      <td>10001</td>\n",
       "      <td>0</td>\n",
       "      <td>64</td>\n",
       "      <td>$133,498</td>\n",
       "      <td>5</td>\n",
       "      <td>enrolled</td>\n",
       "      <td>06-03-2013</td>\n",
       "      <td>4</td>\n",
       "      <td>Single</td>\n",
       "    </tr>\n",
       "    <tr>\n",
       "      <th>1</th>\n",
       "      <td>10002</td>\n",
       "      <td>0</td>\n",
       "      <td>42</td>\n",
       "      <td>$94,475</td>\n",
       "      <td>9</td>\n",
       "      <td>notenrolled</td>\n",
       "      <td>NaN</td>\n",
       "      <td>6</td>\n",
       "      <td>Married</td>\n",
       "    </tr>\n",
       "    <tr>\n",
       "      <th>2</th>\n",
       "      <td>10003</td>\n",
       "      <td>0</td>\n",
       "      <td>40</td>\n",
       "      <td>$88,610</td>\n",
       "      <td>9</td>\n",
       "      <td>enrolled</td>\n",
       "      <td>02-09-2010</td>\n",
       "      <td>5</td>\n",
       "      <td>Married</td>\n",
       "    </tr>\n",
       "    <tr>\n",
       "      <th>3</th>\n",
       "      <td>10004</td>\n",
       "      <td>0</td>\n",
       "      <td>38</td>\n",
       "      <td>$84,313</td>\n",
       "      <td>8</td>\n",
       "      <td>enrolled</td>\n",
       "      <td>06-04-2015</td>\n",
       "      <td>1</td>\n",
       "      <td>Single</td>\n",
       "    </tr>\n",
       "    <tr>\n",
       "      <th>4</th>\n",
       "      <td>10005</td>\n",
       "      <td>0</td>\n",
       "      <td>30</td>\n",
       "      <td>$51,498</td>\n",
       "      <td>3</td>\n",
       "      <td>notenrolled</td>\n",
       "      <td>NaN</td>\n",
       "      <td>1</td>\n",
       "      <td>Single</td>\n",
       "    </tr>\n",
       "    <tr>\n",
       "      <th>5</th>\n",
       "      <td>10006</td>\n",
       "      <td>1</td>\n",
       "      <td>63</td>\n",
       "      <td>$132,893</td>\n",
       "      <td>1</td>\n",
       "      <td>notenrolled</td>\n",
       "      <td>NaN</td>\n",
       "      <td>4</td>\n",
       "      <td>Married</td>\n",
       "    </tr>\n",
       "  </tbody>\n",
       "</table>\n",
       "</div>"
      ],
      "text/plain": [
       "   CUSTOMERID  GENDER  AGE    INCOME  EXPERIENCE SCORE LOYALTY GROUP  \\\n",
       "0       10001       0   64  $133,498                 5      enrolled   \n",
       "1       10002       0   42   $94,475                 9   notenrolled   \n",
       "2       10003       0   40   $88,610                 9      enrolled   \n",
       "3       10004       0   38   $84,313                 8      enrolled   \n",
       "4       10005       0   30   $51,498                 3   notenrolled   \n",
       "5       10006       1   63  $132,893                 1   notenrolled   \n",
       "\n",
       "  ENROLLMENT DATE  HOUSEHOLD SIZE MARITAL STATUS  \n",
       "0      06-03-2013               4         Single  \n",
       "1             NaN               6        Married  \n",
       "2      02-09-2010               5        Married  \n",
       "3      06-04-2015               1         Single  \n",
       "4             NaN               1         Single  \n",
       "5             NaN               4        Married  "
      ]
     },
     "execution_count": 2,
     "metadata": {},
     "output_type": "execute_result"
    }
   ],
   "source": [
    "customer_data = pd.read_csv('../data/Customer Data Set - Student 1 of 3.csv')\n",
    "customer_data.head(6)"
   ]
  },
  {
   "cell_type": "code",
   "execution_count": 3,
   "metadata": {},
   "outputs": [
    {
     "data": {
      "text/html": [
       "<div>\n",
       "<style scoped>\n",
       "    .dataframe tbody tr th:only-of-type {\n",
       "        vertical-align: middle;\n",
       "    }\n",
       "\n",
       "    .dataframe tbody tr th {\n",
       "        vertical-align: top;\n",
       "    }\n",
       "\n",
       "    .dataframe thead th {\n",
       "        text-align: right;\n",
       "    }\n",
       "</style>\n",
       "<table border=\"1\" class=\"dataframe\">\n",
       "  <thead>\n",
       "    <tr style=\"text-align: right;\">\n",
       "      <th></th>\n",
       "      <th>PRODUCT CODE</th>\n",
       "      <th>PRODUCT CATEGORY</th>\n",
       "      <th>UNIT LIST PRICE</th>\n",
       "    </tr>\n",
       "  </thead>\n",
       "  <tbody>\n",
       "    <tr>\n",
       "      <th>0</th>\n",
       "      <td>30001</td>\n",
       "      <td>HEALTH &amp; BEAUTY</td>\n",
       "      <td>$7.45</td>\n",
       "    </tr>\n",
       "    <tr>\n",
       "      <th>1</th>\n",
       "      <td>30002</td>\n",
       "      <td>HEALTH &amp; BEAUTY</td>\n",
       "      <td>$5.35</td>\n",
       "    </tr>\n",
       "    <tr>\n",
       "      <th>2</th>\n",
       "      <td>30003</td>\n",
       "      <td>HEALTH &amp; BEAUTY</td>\n",
       "      <td>$5.49</td>\n",
       "    </tr>\n",
       "    <tr>\n",
       "      <th>3</th>\n",
       "      <td>30004</td>\n",
       "      <td>HEALTH &amp; BEAUTY</td>\n",
       "      <td>$6.46</td>\n",
       "    </tr>\n",
       "    <tr>\n",
       "      <th>4</th>\n",
       "      <td>30005</td>\n",
       "      <td>HEALTH &amp; BEAUTY</td>\n",
       "      <td>$7.33</td>\n",
       "    </tr>\n",
       "  </tbody>\n",
       "</table>\n",
       "</div>"
      ],
      "text/plain": [
       "   PRODUCT CODE PRODUCT CATEGORY UNIT LIST PRICE\n",
       "0         30001  HEALTH & BEAUTY          $7.45 \n",
       "1         30002  HEALTH & BEAUTY          $5.35 \n",
       "2         30003  HEALTH & BEAUTY          $5.49 \n",
       "3         30004  HEALTH & BEAUTY          $6.46 \n",
       "4         30005  HEALTH & BEAUTY          $7.33 "
      ]
     },
     "execution_count": 3,
     "metadata": {},
     "output_type": "execute_result"
    }
   ],
   "source": [
    "product_data = pd.read_csv('../data/Product Data Set - Student 2 of 3.csv', sep = '|')\n",
    "product_data.head()"
   ]
  },
  {
   "cell_type": "code",
   "execution_count": 4,
   "metadata": {},
   "outputs": [
    {
     "data": {
      "text/html": [
       "<div>\n",
       "<style scoped>\n",
       "    .dataframe tbody tr th:only-of-type {\n",
       "        vertical-align: middle;\n",
       "    }\n",
       "\n",
       "    .dataframe tbody tr th {\n",
       "        vertical-align: top;\n",
       "    }\n",
       "\n",
       "    .dataframe thead th {\n",
       "        text-align: right;\n",
       "    }\n",
       "</style>\n",
       "<table border=\"1\" class=\"dataframe\">\n",
       "  <thead>\n",
       "    <tr style=\"text-align: right;\">\n",
       "      <th></th>\n",
       "      <th>CUSTOMER NUM</th>\n",
       "      <th>PRODUCT NUM</th>\n",
       "      <th>QUANTITY PURCHASED</th>\n",
       "      <th>DISCOUNT TAKEN</th>\n",
       "      <th>TRANSACTION DATE</th>\n",
       "      <th>STOCKOUT</th>\n",
       "    </tr>\n",
       "  </thead>\n",
       "  <tbody>\n",
       "    <tr>\n",
       "      <th>0</th>\n",
       "      <td>10114</td>\n",
       "      <td>30011</td>\n",
       "      <td>4</td>\n",
       "      <td>0.0</td>\n",
       "      <td>1/2/2015</td>\n",
       "      <td>0</td>\n",
       "    </tr>\n",
       "    <tr>\n",
       "      <th>1</th>\n",
       "      <td>10217</td>\n",
       "      <td>30016</td>\n",
       "      <td>3</td>\n",
       "      <td>0.0</td>\n",
       "      <td>1/2/2015</td>\n",
       "      <td>0</td>\n",
       "    </tr>\n",
       "    <tr>\n",
       "      <th>2</th>\n",
       "      <td>10224</td>\n",
       "      <td>30013</td>\n",
       "      <td>4</td>\n",
       "      <td>0.0</td>\n",
       "      <td>1/2/2015</td>\n",
       "      <td>0</td>\n",
       "    </tr>\n",
       "    <tr>\n",
       "      <th>3</th>\n",
       "      <td>10103</td>\n",
       "      <td>30012</td>\n",
       "      <td>3</td>\n",
       "      <td>0.2</td>\n",
       "      <td>1/2/2015</td>\n",
       "      <td>0</td>\n",
       "    </tr>\n",
       "    <tr>\n",
       "      <th>4</th>\n",
       "      <td>10037</td>\n",
       "      <td>30010</td>\n",
       "      <td>8</td>\n",
       "      <td>0.0</td>\n",
       "      <td>1/2/2015</td>\n",
       "      <td>0</td>\n",
       "    </tr>\n",
       "  </tbody>\n",
       "</table>\n",
       "</div>"
      ],
      "text/plain": [
       "   CUSTOMER NUM  PRODUCT NUM  QUANTITY PURCHASED  DISCOUNT TAKEN  \\\n",
       "0         10114        30011                   4             0.0   \n",
       "1         10217        30016                   3             0.0   \n",
       "2         10224        30013                   4             0.0   \n",
       "3         10103        30012                   3             0.2   \n",
       "4         10037        30010                   8             0.0   \n",
       "\n",
       "  TRANSACTION DATE  STOCKOUT  \n",
       "0         1/2/2015         0  \n",
       "1         1/2/2015         0  \n",
       "2         1/2/2015         0  \n",
       "3         1/2/2015         0  \n",
       "4         1/2/2015         0  "
      ]
     },
     "execution_count": 4,
     "metadata": {},
     "output_type": "execute_result"
    }
   ],
   "source": [
    "transaction_data = pd.read_csv('../data/Transaction Data Set - Student 3 of 3.csv', sep = '|')\n",
    "transaction_data.head()"
   ]
  },
  {
   "cell_type": "markdown",
   "metadata": {},
   "source": [
    "## Data quality\n",
    "\n",
    "clean the data"
   ]
  },
  {
   "cell_type": "code",
   "execution_count": 5,
   "metadata": {},
   "outputs": [],
   "source": [
    "product_data['UNIT LIST PRICE'] = product_data['UNIT LIST PRICE'].map(lambda x: float(x.replace('$','')))"
   ]
  },
  {
   "cell_type": "code",
   "execution_count": 6,
   "metadata": {},
   "outputs": [],
   "source": [
    "customer_data['INCOME'] = customer_data['INCOME'].map(lambda x: x.replace('$', ''))\n",
    "customer_data['INCOME'] = customer_data['INCOME'].map(lambda x: int(x.replace(',','')))"
   ]
  },
  {
   "cell_type": "code",
   "execution_count": 7,
   "metadata": {},
   "outputs": [
    {
     "name": "stdout",
     "output_type": "stream",
     "text": [
      "False\n",
      "False\n",
      "True\n"
     ]
    }
   ],
   "source": [
    "# check for null values in all datasets\n",
    "print(product_data.isnull().values.any())\n",
    "print(transaction_data.isnull().values.any())\n",
    "print(customer_data.isnull().values.any())"
   ]
  },
  {
   "cell_type": "code",
   "execution_count": 8,
   "metadata": {},
   "outputs": [
    {
     "data": {
      "text/plain": [
       "['ENROLLMENT DATE']"
      ]
     },
     "execution_count": 8,
     "metadata": {},
     "output_type": "execute_result"
    }
   ],
   "source": [
    "customer_data.columns[customer_data.isnull().any()].to_list()"
   ]
  },
  {
   "cell_type": "code",
   "execution_count": 9,
   "metadata": {},
   "outputs": [],
   "source": [
    "# replace all NaN values with 0\n",
    "customer_data['ENROLLMENT DATE'] = customer_data['ENROLLMENT DATE'].fillna(0)"
   ]
  },
  {
   "cell_type": "code",
   "execution_count": 10,
   "metadata": {},
   "outputs": [
    {
     "data": {
      "text/plain": [
       "False"
      ]
     },
     "execution_count": 10,
     "metadata": {},
     "output_type": "execute_result"
    }
   ],
   "source": [
    "customer_data['ENROLLMENT DATE'].isnull().any()"
   ]
  },
  {
   "cell_type": "code",
   "execution_count": 11,
   "metadata": {},
   "outputs": [
    {
     "data": {
      "text/html": [
       "<div>\n",
       "<style scoped>\n",
       "    .dataframe tbody tr th:only-of-type {\n",
       "        vertical-align: middle;\n",
       "    }\n",
       "\n",
       "    .dataframe tbody tr th {\n",
       "        vertical-align: top;\n",
       "    }\n",
       "\n",
       "    .dataframe thead th {\n",
       "        text-align: right;\n",
       "    }\n",
       "</style>\n",
       "<table border=\"1\" class=\"dataframe\">\n",
       "  <thead>\n",
       "    <tr style=\"text-align: right;\">\n",
       "      <th></th>\n",
       "      <th>CUSTOMER NUM</th>\n",
       "      <th>PRODUCT NUM</th>\n",
       "      <th>QUANTITY PURCHASED</th>\n",
       "      <th>DISCOUNT TAKEN</th>\n",
       "      <th>TRANSACTION DATE</th>\n",
       "      <th>STOCKOUT</th>\n",
       "      <th>PRODUCT CODE</th>\n",
       "      <th>PRODUCT CATEGORY</th>\n",
       "      <th>UNIT LIST PRICE</th>\n",
       "    </tr>\n",
       "  </thead>\n",
       "  <tbody>\n",
       "    <tr>\n",
       "      <th>0</th>\n",
       "      <td>10114</td>\n",
       "      <td>30011</td>\n",
       "      <td>4</td>\n",
       "      <td>0.0</td>\n",
       "      <td>1/2/2015</td>\n",
       "      <td>0</td>\n",
       "      <td>30011</td>\n",
       "      <td>APPAREL</td>\n",
       "      <td>25.46</td>\n",
       "    </tr>\n",
       "    <tr>\n",
       "      <th>1</th>\n",
       "      <td>10086</td>\n",
       "      <td>30011</td>\n",
       "      <td>6</td>\n",
       "      <td>0.0</td>\n",
       "      <td>1/2/2015</td>\n",
       "      <td>0</td>\n",
       "      <td>30011</td>\n",
       "      <td>APPAREL</td>\n",
       "      <td>25.46</td>\n",
       "    </tr>\n",
       "    <tr>\n",
       "      <th>2</th>\n",
       "      <td>10174</td>\n",
       "      <td>30011</td>\n",
       "      <td>10</td>\n",
       "      <td>0.0</td>\n",
       "      <td>1/2/2015</td>\n",
       "      <td>0</td>\n",
       "      <td>30011</td>\n",
       "      <td>APPAREL</td>\n",
       "      <td>25.46</td>\n",
       "    </tr>\n",
       "    <tr>\n",
       "      <th>3</th>\n",
       "      <td>10401</td>\n",
       "      <td>30011</td>\n",
       "      <td>12</td>\n",
       "      <td>0.0</td>\n",
       "      <td>1/2/2015</td>\n",
       "      <td>0</td>\n",
       "      <td>30011</td>\n",
       "      <td>APPAREL</td>\n",
       "      <td>25.46</td>\n",
       "    </tr>\n",
       "    <tr>\n",
       "      <th>4</th>\n",
       "      <td>10216</td>\n",
       "      <td>30011</td>\n",
       "      <td>12</td>\n",
       "      <td>0.1</td>\n",
       "      <td>1/2/2015</td>\n",
       "      <td>0</td>\n",
       "      <td>30011</td>\n",
       "      <td>APPAREL</td>\n",
       "      <td>25.46</td>\n",
       "    </tr>\n",
       "  </tbody>\n",
       "</table>\n",
       "</div>"
      ],
      "text/plain": [
       "   CUSTOMER NUM  PRODUCT NUM  QUANTITY PURCHASED  DISCOUNT TAKEN  \\\n",
       "0         10114        30011                   4             0.0   \n",
       "1         10086        30011                   6             0.0   \n",
       "2         10174        30011                  10             0.0   \n",
       "3         10401        30011                  12             0.0   \n",
       "4         10216        30011                  12             0.1   \n",
       "\n",
       "  TRANSACTION DATE  STOCKOUT  PRODUCT CODE PRODUCT CATEGORY  UNIT LIST PRICE  \n",
       "0         1/2/2015         0         30011          APPAREL            25.46  \n",
       "1         1/2/2015         0         30011          APPAREL            25.46  \n",
       "2         1/2/2015         0         30011          APPAREL            25.46  \n",
       "3         1/2/2015         0         30011          APPAREL            25.46  \n",
       "4         1/2/2015         0         30011          APPAREL            25.46  "
      ]
     },
     "execution_count": 11,
     "metadata": {},
     "output_type": "execute_result"
    }
   ],
   "source": [
    "# combine tables that will give more information when combined\n",
    "trans_products = transaction_data.merge(product_data, how = 'inner', left_on = 'PRODUCT NUM', right_on='PRODUCT CODE')\n",
    "trans_products.head()"
   ]
  },
  {
   "cell_type": "code",
   "execution_count": 12,
   "metadata": {},
   "outputs": [
    {
     "data": {
      "text/html": [
       "<div>\n",
       "<style scoped>\n",
       "    .dataframe tbody tr th:only-of-type {\n",
       "        vertical-align: middle;\n",
       "    }\n",
       "\n",
       "    .dataframe tbody tr th {\n",
       "        vertical-align: top;\n",
       "    }\n",
       "\n",
       "    .dataframe thead th {\n",
       "        text-align: right;\n",
       "    }\n",
       "</style>\n",
       "<table border=\"1\" class=\"dataframe\">\n",
       "  <thead>\n",
       "    <tr style=\"text-align: right;\">\n",
       "      <th></th>\n",
       "      <th>CUSTOMER NUM</th>\n",
       "      <th>PRODUCT NUM</th>\n",
       "      <th>QUANTITY PURCHASED</th>\n",
       "      <th>DISCOUNT TAKEN</th>\n",
       "      <th>TRANSACTION DATE</th>\n",
       "      <th>STOCKOUT</th>\n",
       "      <th>PRODUCT CODE</th>\n",
       "      <th>PRODUCT CATEGORY</th>\n",
       "      <th>UNIT LIST PRICE</th>\n",
       "      <th>TOTAL BOUGHT</th>\n",
       "    </tr>\n",
       "  </thead>\n",
       "  <tbody>\n",
       "    <tr>\n",
       "      <th>0</th>\n",
       "      <td>10114</td>\n",
       "      <td>30011</td>\n",
       "      <td>4</td>\n",
       "      <td>0.0</td>\n",
       "      <td>1/2/2015</td>\n",
       "      <td>0</td>\n",
       "      <td>30011</td>\n",
       "      <td>APPAREL</td>\n",
       "      <td>25.46</td>\n",
       "      <td>101.840</td>\n",
       "    </tr>\n",
       "    <tr>\n",
       "      <th>1</th>\n",
       "      <td>10086</td>\n",
       "      <td>30011</td>\n",
       "      <td>6</td>\n",
       "      <td>0.0</td>\n",
       "      <td>1/2/2015</td>\n",
       "      <td>0</td>\n",
       "      <td>30011</td>\n",
       "      <td>APPAREL</td>\n",
       "      <td>25.46</td>\n",
       "      <td>152.760</td>\n",
       "    </tr>\n",
       "    <tr>\n",
       "      <th>2</th>\n",
       "      <td>10174</td>\n",
       "      <td>30011</td>\n",
       "      <td>10</td>\n",
       "      <td>0.0</td>\n",
       "      <td>1/2/2015</td>\n",
       "      <td>0</td>\n",
       "      <td>30011</td>\n",
       "      <td>APPAREL</td>\n",
       "      <td>25.46</td>\n",
       "      <td>254.600</td>\n",
       "    </tr>\n",
       "    <tr>\n",
       "      <th>3</th>\n",
       "      <td>10401</td>\n",
       "      <td>30011</td>\n",
       "      <td>12</td>\n",
       "      <td>0.0</td>\n",
       "      <td>1/2/2015</td>\n",
       "      <td>0</td>\n",
       "      <td>30011</td>\n",
       "      <td>APPAREL</td>\n",
       "      <td>25.46</td>\n",
       "      <td>305.520</td>\n",
       "    </tr>\n",
       "    <tr>\n",
       "      <th>4</th>\n",
       "      <td>10216</td>\n",
       "      <td>30011</td>\n",
       "      <td>12</td>\n",
       "      <td>0.1</td>\n",
       "      <td>1/2/2015</td>\n",
       "      <td>0</td>\n",
       "      <td>30011</td>\n",
       "      <td>APPAREL</td>\n",
       "      <td>25.46</td>\n",
       "      <td>274.968</td>\n",
       "    </tr>\n",
       "  </tbody>\n",
       "</table>\n",
       "</div>"
      ],
      "text/plain": [
       "   CUSTOMER NUM  PRODUCT NUM  QUANTITY PURCHASED  DISCOUNT TAKEN  \\\n",
       "0         10114        30011                   4             0.0   \n",
       "1         10086        30011                   6             0.0   \n",
       "2         10174        30011                  10             0.0   \n",
       "3         10401        30011                  12             0.0   \n",
       "4         10216        30011                  12             0.1   \n",
       "\n",
       "  TRANSACTION DATE  STOCKOUT  PRODUCT CODE PRODUCT CATEGORY  UNIT LIST PRICE  \\\n",
       "0         1/2/2015         0         30011          APPAREL            25.46   \n",
       "1         1/2/2015         0         30011          APPAREL            25.46   \n",
       "2         1/2/2015         0         30011          APPAREL            25.46   \n",
       "3         1/2/2015         0         30011          APPAREL            25.46   \n",
       "4         1/2/2015         0         30011          APPAREL            25.46   \n",
       "\n",
       "   TOTAL BOUGHT  \n",
       "0       101.840  \n",
       "1       152.760  \n",
       "2       254.600  \n",
       "3       305.520  \n",
       "4       274.968  "
      ]
     },
     "execution_count": 12,
     "metadata": {},
     "output_type": "execute_result"
    }
   ],
   "source": [
    "trans_products['TOTAL BOUGHT'] = trans_products['QUANTITY PURCHASED'] * trans_products['UNIT LIST PRICE'] * (1-trans_products['DISCOUNT TAKEN'])\n",
    "trans_products.head()"
   ]
  },
  {
   "cell_type": "markdown",
   "metadata": {},
   "source": [
    "**There were two important objectives that were set during the business understanding phase:**\n",
    "    1. understanding the factors associated with the loyalty participation.\n",
    "    2. understanding the factors associated with increased spending.\n",
    "       "
   ]
  },
  {
   "cell_type": "code",
   "execution_count": 13,
   "metadata": {},
   "outputs": [
    {
     "data": {
      "text/html": [
       "<div>\n",
       "<style scoped>\n",
       "    .dataframe tbody tr th:only-of-type {\n",
       "        vertical-align: middle;\n",
       "    }\n",
       "\n",
       "    .dataframe tbody tr th {\n",
       "        vertical-align: top;\n",
       "    }\n",
       "\n",
       "    .dataframe thead th {\n",
       "        text-align: right;\n",
       "    }\n",
       "</style>\n",
       "<table border=\"1\" class=\"dataframe\">\n",
       "  <thead>\n",
       "    <tr style=\"text-align: right;\">\n",
       "      <th></th>\n",
       "      <th>TOTAL BOUGHT</th>\n",
       "    </tr>\n",
       "    <tr>\n",
       "      <th>PRODUCT CATEGORY</th>\n",
       "      <th></th>\n",
       "    </tr>\n",
       "  </thead>\n",
       "  <tbody>\n",
       "    <tr>\n",
       "      <th>ELECTRONICS</th>\n",
       "      <td>1607192.422</td>\n",
       "    </tr>\n",
       "    <tr>\n",
       "      <th>APPAREL</th>\n",
       "      <td>936757.914</td>\n",
       "    </tr>\n",
       "    <tr>\n",
       "      <th>FOOD</th>\n",
       "      <td>96044.610</td>\n",
       "    </tr>\n",
       "    <tr>\n",
       "      <th>HEALTH &amp; BEAUTY</th>\n",
       "      <td>54776.312</td>\n",
       "    </tr>\n",
       "  </tbody>\n",
       "</table>\n",
       "</div>"
      ],
      "text/plain": [
       "                  TOTAL BOUGHT\n",
       "PRODUCT CATEGORY              \n",
       "ELECTRONICS        1607192.422\n",
       "APPAREL             936757.914\n",
       "FOOD                 96044.610\n",
       "HEALTH & BEAUTY      54776.312"
      ]
     },
     "execution_count": 13,
     "metadata": {},
     "output_type": "execute_result"
    }
   ],
   "source": [
    "# finding out retailer's X best sellers\n",
    "best_sellers = trans_products.groupby('PRODUCT CATEGORY').agg({'TOTAL BOUGHT': 'sum'}).sort_values('TOTAL BOUGHT', ascending = False)\n",
    "best_sellers"
   ]
  },
  {
   "cell_type": "markdown",
   "metadata": {},
   "source": [
    "In retailer X's shop, electronics is the highest source of revenue and Health and Beauty is the least source of revenue."
   ]
  },
  {
   "cell_type": "code",
   "execution_count": 14,
   "metadata": {
    "scrolled": true
   },
   "outputs": [
    {
     "name": "stdout",
     "output_type": "stream",
     "text": [
      "Best customers               TOTAL BOUGHT\n",
      "CUSTOMER NUM              \n",
      "10465            15263.623\n",
      "10493            15017.240\n",
      "10193            14428.118\n",
      "10017            13715.841\n",
      "10248            13702.019\n",
      "\n",
      "Worst customers               TOTAL BOUGHT\n",
      "CUSTOMER NUM              \n",
      "10453                43.52\n",
      "10144                39.00\n",
      "10468                37.62\n",
      "10028                35.11\n",
      "10499                20.01\n"
     ]
    }
   ],
   "source": [
    "best_customers = trans_products.groupby(\"CUSTOMER NUM\").agg({\"TOTAL BOUGHT\": 'sum'}).sort_values(\"TOTAL BOUGHT\",ascending = False)\n",
    "print(\"Best customers\",best_customers.head())\n",
    "print(\"\\nWorst customers\",best_customers.tail())"
   ]
  },
  {
   "cell_type": "markdown",
   "metadata": {},
   "source": [
    "Such data can be used to study what the customers who spent the most in the store like buying, so the products and related products can be marketed to them when there's new stock or price changes, and also see what the customers who spent the least in the store, bought and their experience scores to determine what can be improved."
   ]
  },
  {
   "cell_type": "code",
   "execution_count": 15,
   "metadata": {},
   "outputs": [
    {
     "data": {
      "text/html": [
       "<div>\n",
       "<style scoped>\n",
       "    .dataframe tbody tr th:only-of-type {\n",
       "        vertical-align: middle;\n",
       "    }\n",
       "\n",
       "    .dataframe tbody tr th {\n",
       "        vertical-align: top;\n",
       "    }\n",
       "\n",
       "    .dataframe thead th {\n",
       "        text-align: right;\n",
       "    }\n",
       "</style>\n",
       "<table border=\"1\" class=\"dataframe\">\n",
       "  <thead>\n",
       "    <tr style=\"text-align: right;\">\n",
       "      <th></th>\n",
       "      <th></th>\n",
       "      <th>TOTAL BOUGHT</th>\n",
       "    </tr>\n",
       "    <tr>\n",
       "      <th>CUSTOMER NUM</th>\n",
       "      <th>PRODUCT CATEGORY</th>\n",
       "      <th></th>\n",
       "    </tr>\n",
       "  </thead>\n",
       "  <tbody>\n",
       "    <tr>\n",
       "      <th rowspan=\"4\" valign=\"top\">10001</th>\n",
       "      <th>APPAREL</th>\n",
       "      <td>4022.430</td>\n",
       "    </tr>\n",
       "    <tr>\n",
       "      <th>ELECTRONICS</th>\n",
       "      <td>1601.315</td>\n",
       "    </tr>\n",
       "    <tr>\n",
       "      <th>FOOD</th>\n",
       "      <td>68.688</td>\n",
       "    </tr>\n",
       "    <tr>\n",
       "      <th>HEALTH &amp; BEAUTY</th>\n",
       "      <td>1134.337</td>\n",
       "    </tr>\n",
       "    <tr>\n",
       "      <th rowspan=\"3\" valign=\"top\">10002</th>\n",
       "      <th>APPAREL</th>\n",
       "      <td>2312.509</td>\n",
       "    </tr>\n",
       "    <tr>\n",
       "      <th>ELECTRONICS</th>\n",
       "      <td>2473.163</td>\n",
       "    </tr>\n",
       "    <tr>\n",
       "      <th>FOOD</th>\n",
       "      <td>276.779</td>\n",
       "    </tr>\n",
       "    <tr>\n",
       "      <th rowspan=\"3\" valign=\"top\">10003</th>\n",
       "      <th>APPAREL</th>\n",
       "      <td>2887.382</td>\n",
       "    </tr>\n",
       "    <tr>\n",
       "      <th>ELECTRONICS</th>\n",
       "      <td>5414.418</td>\n",
       "    </tr>\n",
       "    <tr>\n",
       "      <th>FOOD</th>\n",
       "      <td>260.640</td>\n",
       "    </tr>\n",
       "  </tbody>\n",
       "</table>\n",
       "</div>"
      ],
      "text/plain": [
       "                               TOTAL BOUGHT\n",
       "CUSTOMER NUM PRODUCT CATEGORY              \n",
       "10001        APPAREL               4022.430\n",
       "             ELECTRONICS           1601.315\n",
       "             FOOD                    68.688\n",
       "             HEALTH & BEAUTY       1134.337\n",
       "10002        APPAREL               2312.509\n",
       "             ELECTRONICS           2473.163\n",
       "             FOOD                   276.779\n",
       "10003        APPAREL               2887.382\n",
       "             ELECTRONICS           5414.418\n",
       "             FOOD                   260.640"
      ]
     },
     "execution_count": 15,
     "metadata": {},
     "output_type": "execute_result"
    }
   ],
   "source": [
    "# creating a table that will tell us what customers buy most.\n",
    "customer_prod_category = trans_products.groupby(['CUSTOMER NUM','PRODUCT CATEGORY']).agg({'TOTAL BOUGHT': 'sum'})\n",
    "customer_prod_category[:10]"
   ]
  },
  {
   "cell_type": "code",
   "execution_count": 16,
   "metadata": {},
   "outputs": [
    {
     "data": {
      "text/html": [
       "<div>\n",
       "<style scoped>\n",
       "    .dataframe tbody tr th:only-of-type {\n",
       "        vertical-align: middle;\n",
       "    }\n",
       "\n",
       "    .dataframe tbody tr th {\n",
       "        vertical-align: top;\n",
       "    }\n",
       "\n",
       "    .dataframe thead th {\n",
       "        text-align: right;\n",
       "    }\n",
       "</style>\n",
       "<table border=\"1\" class=\"dataframe\">\n",
       "  <thead>\n",
       "    <tr style=\"text-align: right;\">\n",
       "      <th></th>\n",
       "      <th>CUSTOMER NUM</th>\n",
       "      <th>PRODUCT CATEGORY</th>\n",
       "      <th>TOTAL BOUGHT</th>\n",
       "    </tr>\n",
       "  </thead>\n",
       "  <tbody>\n",
       "    <tr>\n",
       "      <th>0</th>\n",
       "      <td>10001</td>\n",
       "      <td>APPAREL</td>\n",
       "      <td>4022.430</td>\n",
       "    </tr>\n",
       "    <tr>\n",
       "      <th>1</th>\n",
       "      <td>10001</td>\n",
       "      <td>ELECTRONICS</td>\n",
       "      <td>1601.315</td>\n",
       "    </tr>\n",
       "    <tr>\n",
       "      <th>2</th>\n",
       "      <td>10001</td>\n",
       "      <td>FOOD</td>\n",
       "      <td>68.688</td>\n",
       "    </tr>\n",
       "    <tr>\n",
       "      <th>3</th>\n",
       "      <td>10001</td>\n",
       "      <td>HEALTH &amp; BEAUTY</td>\n",
       "      <td>1134.337</td>\n",
       "    </tr>\n",
       "    <tr>\n",
       "      <th>4</th>\n",
       "      <td>10002</td>\n",
       "      <td>APPAREL</td>\n",
       "      <td>2312.509</td>\n",
       "    </tr>\n",
       "  </tbody>\n",
       "</table>\n",
       "</div>"
      ],
      "text/plain": [
       "   CUSTOMER NUM PRODUCT CATEGORY  TOTAL BOUGHT\n",
       "0         10001          APPAREL      4022.430\n",
       "1         10001      ELECTRONICS      1601.315\n",
       "2         10001             FOOD        68.688\n",
       "3         10001  HEALTH & BEAUTY      1134.337\n",
       "4         10002          APPAREL      2312.509"
      ]
     },
     "execution_count": 16,
     "metadata": {},
     "output_type": "execute_result"
    }
   ],
   "source": [
    "customer_prod_category = customer_prod_category.reset_index()\n",
    "customer_prod_category.head()"
   ]
  },
  {
   "cell_type": "code",
   "execution_count": 17,
   "metadata": {},
   "outputs": [
    {
     "data": {
      "text/html": [
       "<div>\n",
       "<style scoped>\n",
       "    .dataframe tbody tr th:only-of-type {\n",
       "        vertical-align: middle;\n",
       "    }\n",
       "\n",
       "    .dataframe tbody tr th {\n",
       "        vertical-align: top;\n",
       "    }\n",
       "\n",
       "    .dataframe thead th {\n",
       "        text-align: right;\n",
       "    }\n",
       "</style>\n",
       "<table border=\"1\" class=\"dataframe\">\n",
       "  <thead>\n",
       "    <tr style=\"text-align: right;\">\n",
       "      <th>PRODUCT CATEGORY</th>\n",
       "      <th>APPAREL</th>\n",
       "      <th>ELECTRONICS</th>\n",
       "      <th>FOOD</th>\n",
       "      <th>HEALTH &amp; BEAUTY</th>\n",
       "    </tr>\n",
       "    <tr>\n",
       "      <th>CUSTOMER NUM</th>\n",
       "      <th></th>\n",
       "      <th></th>\n",
       "      <th></th>\n",
       "      <th></th>\n",
       "    </tr>\n",
       "  </thead>\n",
       "  <tbody>\n",
       "    <tr>\n",
       "      <th>10001</th>\n",
       "      <td>4022.430</td>\n",
       "      <td>1601.315</td>\n",
       "      <td>68.688</td>\n",
       "      <td>1134.337</td>\n",
       "    </tr>\n",
       "    <tr>\n",
       "      <th>10002</th>\n",
       "      <td>2312.509</td>\n",
       "      <td>2473.163</td>\n",
       "      <td>276.779</td>\n",
       "      <td>NaN</td>\n",
       "    </tr>\n",
       "    <tr>\n",
       "      <th>10003</th>\n",
       "      <td>2887.382</td>\n",
       "      <td>5414.418</td>\n",
       "      <td>260.640</td>\n",
       "      <td>NaN</td>\n",
       "    </tr>\n",
       "    <tr>\n",
       "      <th>10004</th>\n",
       "      <td>3637.213</td>\n",
       "      <td>1840.211</td>\n",
       "      <td>45.270</td>\n",
       "      <td>NaN</td>\n",
       "    </tr>\n",
       "    <tr>\n",
       "      <th>10005</th>\n",
       "      <td>213.512</td>\n",
       "      <td>NaN</td>\n",
       "      <td>NaN</td>\n",
       "      <td>NaN</td>\n",
       "    </tr>\n",
       "  </tbody>\n",
       "</table>\n",
       "</div>"
      ],
      "text/plain": [
       "PRODUCT CATEGORY   APPAREL  ELECTRONICS     FOOD  HEALTH & BEAUTY\n",
       "CUSTOMER NUM                                                     \n",
       "10001             4022.430     1601.315   68.688         1134.337\n",
       "10002             2312.509     2473.163  276.779              NaN\n",
       "10003             2887.382     5414.418  260.640              NaN\n",
       "10004             3637.213     1840.211   45.270              NaN\n",
       "10005              213.512          NaN      NaN              NaN"
      ]
     },
     "execution_count": 17,
     "metadata": {},
     "output_type": "execute_result"
    }
   ],
   "source": [
    "# reorganize as per customer\n",
    "customer_pivot = customer_prod_category.pivot(index='CUSTOMER NUM', columns='PRODUCT CATEGORY', values = 'TOTAL BOUGHT')\n",
    "customer_pivot.head()"
   ]
  },
  {
   "cell_type": "code",
   "execution_count": 18,
   "metadata": {},
   "outputs": [
    {
     "data": {
      "text/html": [
       "<div>\n",
       "<style scoped>\n",
       "    .dataframe tbody tr th:only-of-type {\n",
       "        vertical-align: middle;\n",
       "    }\n",
       "\n",
       "    .dataframe tbody tr th {\n",
       "        vertical-align: top;\n",
       "    }\n",
       "\n",
       "    .dataframe thead th {\n",
       "        text-align: right;\n",
       "    }\n",
       "</style>\n",
       "<table border=\"1\" class=\"dataframe\">\n",
       "  <thead>\n",
       "    <tr style=\"text-align: right;\">\n",
       "      <th>PRODUCT CATEGORY</th>\n",
       "      <th>APPAREL</th>\n",
       "      <th>ELECTRONICS</th>\n",
       "      <th>FOOD</th>\n",
       "      <th>HEALTH &amp; BEAUTY</th>\n",
       "    </tr>\n",
       "    <tr>\n",
       "      <th>CUSTOMER NUM</th>\n",
       "      <th></th>\n",
       "      <th></th>\n",
       "      <th></th>\n",
       "      <th></th>\n",
       "    </tr>\n",
       "  </thead>\n",
       "  <tbody>\n",
       "    <tr>\n",
       "      <th>10001</th>\n",
       "      <td>4022.430</td>\n",
       "      <td>1601.315</td>\n",
       "      <td>68.688</td>\n",
       "      <td>1134.337</td>\n",
       "    </tr>\n",
       "    <tr>\n",
       "      <th>10002</th>\n",
       "      <td>2312.509</td>\n",
       "      <td>2473.163</td>\n",
       "      <td>276.779</td>\n",
       "      <td>0.000</td>\n",
       "    </tr>\n",
       "    <tr>\n",
       "      <th>10003</th>\n",
       "      <td>2887.382</td>\n",
       "      <td>5414.418</td>\n",
       "      <td>260.640</td>\n",
       "      <td>0.000</td>\n",
       "    </tr>\n",
       "    <tr>\n",
       "      <th>10004</th>\n",
       "      <td>3637.213</td>\n",
       "      <td>1840.211</td>\n",
       "      <td>45.270</td>\n",
       "      <td>0.000</td>\n",
       "    </tr>\n",
       "    <tr>\n",
       "      <th>10005</th>\n",
       "      <td>213.512</td>\n",
       "      <td>0.000</td>\n",
       "      <td>0.000</td>\n",
       "      <td>0.000</td>\n",
       "    </tr>\n",
       "  </tbody>\n",
       "</table>\n",
       "</div>"
      ],
      "text/plain": [
       "PRODUCT CATEGORY   APPAREL  ELECTRONICS     FOOD  HEALTH & BEAUTY\n",
       "CUSTOMER NUM                                                     \n",
       "10001             4022.430     1601.315   68.688         1134.337\n",
       "10002             2312.509     2473.163  276.779            0.000\n",
       "10003             2887.382     5414.418  260.640            0.000\n",
       "10004             3637.213     1840.211   45.270            0.000\n",
       "10005              213.512        0.000    0.000            0.000"
      ]
     },
     "execution_count": 18,
     "metadata": {},
     "output_type": "execute_result"
    }
   ],
   "source": [
    "customer_pivot = customer_pivot.fillna(0)\n",
    "customer_pivot.head()"
   ]
  },
  {
   "cell_type": "code",
   "execution_count": 19,
   "metadata": {},
   "outputs": [
    {
     "data": {
      "text/html": [
       "<div>\n",
       "<style scoped>\n",
       "    .dataframe tbody tr th:only-of-type {\n",
       "        vertical-align: middle;\n",
       "    }\n",
       "\n",
       "    .dataframe tbody tr th {\n",
       "        vertical-align: top;\n",
       "    }\n",
       "\n",
       "    .dataframe thead th {\n",
       "        text-align: right;\n",
       "    }\n",
       "</style>\n",
       "<table border=\"1\" class=\"dataframe\">\n",
       "  <thead>\n",
       "    <tr style=\"text-align: right;\">\n",
       "      <th>PRODUCT CATEGORY</th>\n",
       "      <th>APPAREL</th>\n",
       "      <th>ELECTRONICS</th>\n",
       "      <th>FOOD</th>\n",
       "      <th>HEALTH &amp; BEAUTY</th>\n",
       "      <th>TOTAL SPENT</th>\n",
       "    </tr>\n",
       "    <tr>\n",
       "      <th>CUSTOMER NUM</th>\n",
       "      <th></th>\n",
       "      <th></th>\n",
       "      <th></th>\n",
       "      <th></th>\n",
       "      <th></th>\n",
       "    </tr>\n",
       "  </thead>\n",
       "  <tbody>\n",
       "    <tr>\n",
       "      <th>10001</th>\n",
       "      <td>4022.430</td>\n",
       "      <td>1601.315</td>\n",
       "      <td>68.688</td>\n",
       "      <td>1134.337</td>\n",
       "      <td>6826.770</td>\n",
       "    </tr>\n",
       "    <tr>\n",
       "      <th>10002</th>\n",
       "      <td>2312.509</td>\n",
       "      <td>2473.163</td>\n",
       "      <td>276.779</td>\n",
       "      <td>0.000</td>\n",
       "      <td>5062.451</td>\n",
       "    </tr>\n",
       "    <tr>\n",
       "      <th>10003</th>\n",
       "      <td>2887.382</td>\n",
       "      <td>5414.418</td>\n",
       "      <td>260.640</td>\n",
       "      <td>0.000</td>\n",
       "      <td>8562.440</td>\n",
       "    </tr>\n",
       "    <tr>\n",
       "      <th>10004</th>\n",
       "      <td>3637.213</td>\n",
       "      <td>1840.211</td>\n",
       "      <td>45.270</td>\n",
       "      <td>0.000</td>\n",
       "      <td>5522.694</td>\n",
       "    </tr>\n",
       "    <tr>\n",
       "      <th>10005</th>\n",
       "      <td>213.512</td>\n",
       "      <td>0.000</td>\n",
       "      <td>0.000</td>\n",
       "      <td>0.000</td>\n",
       "      <td>213.512</td>\n",
       "    </tr>\n",
       "  </tbody>\n",
       "</table>\n",
       "</div>"
      ],
      "text/plain": [
       "PRODUCT CATEGORY   APPAREL  ELECTRONICS     FOOD  HEALTH & BEAUTY  TOTAL SPENT\n",
       "CUSTOMER NUM                                                                  \n",
       "10001             4022.430     1601.315   68.688         1134.337     6826.770\n",
       "10002             2312.509     2473.163  276.779            0.000     5062.451\n",
       "10003             2887.382     5414.418  260.640            0.000     8562.440\n",
       "10004             3637.213     1840.211   45.270            0.000     5522.694\n",
       "10005              213.512        0.000    0.000            0.000      213.512"
      ]
     },
     "execution_count": 19,
     "metadata": {},
     "output_type": "execute_result"
    }
   ],
   "source": [
    "customer_pivot['TOTAL SPENT']= customer_pivot['APPAREL'] + customer_pivot['ELECTRONICS']+customer_pivot['FOOD']+customer_pivot['HEALTH & BEAUTY']\n",
    "customer_pivot.head()"
   ]
  },
  {
   "cell_type": "markdown",
   "metadata": {},
   "source": [
    "Business understanding\n",
    "\n",
    "Data understanding\n",
    "\n",
    "Data preparation, we're combining tables that will help us work better and create an ultimate table or ultimate tables. \n",
    "\n",
    "Modelling\n",
    "\n",
    "Evaluation \n",
    "\n",
    "Feedback/Report on way forward"
   ]
  },
  {
   "cell_type": "code",
   "execution_count": 20,
   "metadata": {},
   "outputs": [
    {
     "data": {
      "text/html": [
       "<div>\n",
       "<style scoped>\n",
       "    .dataframe tbody tr th:only-of-type {\n",
       "        vertical-align: middle;\n",
       "    }\n",
       "\n",
       "    .dataframe tbody tr th {\n",
       "        vertical-align: top;\n",
       "    }\n",
       "\n",
       "    .dataframe thead th {\n",
       "        text-align: right;\n",
       "    }\n",
       "</style>\n",
       "<table border=\"1\" class=\"dataframe\">\n",
       "  <thead>\n",
       "    <tr style=\"text-align: right;\">\n",
       "      <th></th>\n",
       "      <th>CUSTOMERID</th>\n",
       "      <th>EXPERIENCE SCORE</th>\n",
       "    </tr>\n",
       "  </thead>\n",
       "  <tbody>\n",
       "    <tr>\n",
       "      <th>0</th>\n",
       "      <td>10001</td>\n",
       "      <td>5</td>\n",
       "    </tr>\n",
       "    <tr>\n",
       "      <th>1</th>\n",
       "      <td>10002</td>\n",
       "      <td>9</td>\n",
       "    </tr>\n",
       "    <tr>\n",
       "      <th>2</th>\n",
       "      <td>10003</td>\n",
       "      <td>9</td>\n",
       "    </tr>\n",
       "    <tr>\n",
       "      <th>3</th>\n",
       "      <td>10004</td>\n",
       "      <td>8</td>\n",
       "    </tr>\n",
       "    <tr>\n",
       "      <th>4</th>\n",
       "      <td>10005</td>\n",
       "      <td>3</td>\n",
       "    </tr>\n",
       "  </tbody>\n",
       "</table>\n",
       "</div>"
      ],
      "text/plain": [
       "   CUSTOMERID  EXPERIENCE SCORE\n",
       "0       10001                 5\n",
       "1       10002                 9\n",
       "2       10003                 9\n",
       "3       10004                 8\n",
       "4       10005                 3"
      ]
     },
     "execution_count": 20,
     "metadata": {},
     "output_type": "execute_result"
    }
   ],
   "source": [
    "# Group customers against their experience scores\n",
    "customer_experience = customer_data[['CUSTOMERID','EXPERIENCE SCORE']]\n",
    "customer_experience.head()"
   ]
  },
  {
   "cell_type": "code",
   "execution_count": 21,
   "metadata": {},
   "outputs": [
    {
     "data": {
      "text/html": [
       "<div>\n",
       "<style scoped>\n",
       "    .dataframe tbody tr th:only-of-type {\n",
       "        vertical-align: middle;\n",
       "    }\n",
       "\n",
       "    .dataframe tbody tr th {\n",
       "        vertical-align: top;\n",
       "    }\n",
       "\n",
       "    .dataframe thead th {\n",
       "        text-align: right;\n",
       "    }\n",
       "</style>\n",
       "<table border=\"1\" class=\"dataframe\">\n",
       "  <thead>\n",
       "    <tr style=\"text-align: right;\">\n",
       "      <th></th>\n",
       "      <th>CUSTOMERID</th>\n",
       "      <th>APPAREL</th>\n",
       "      <th>ELECTRONICS</th>\n",
       "      <th>FOOD</th>\n",
       "      <th>HEALTH &amp; BEAUTY</th>\n",
       "      <th>TOTAL SPENT</th>\n",
       "      <th>EXPERIENCE SCORE</th>\n",
       "    </tr>\n",
       "  </thead>\n",
       "  <tbody>\n",
       "    <tr>\n",
       "      <th>0</th>\n",
       "      <td>10001</td>\n",
       "      <td>4022.430</td>\n",
       "      <td>1601.315</td>\n",
       "      <td>68.688</td>\n",
       "      <td>1134.337</td>\n",
       "      <td>6826.770</td>\n",
       "      <td>5</td>\n",
       "    </tr>\n",
       "    <tr>\n",
       "      <th>1</th>\n",
       "      <td>10002</td>\n",
       "      <td>2312.509</td>\n",
       "      <td>2473.163</td>\n",
       "      <td>276.779</td>\n",
       "      <td>0.000</td>\n",
       "      <td>5062.451</td>\n",
       "      <td>9</td>\n",
       "    </tr>\n",
       "    <tr>\n",
       "      <th>2</th>\n",
       "      <td>10003</td>\n",
       "      <td>2887.382</td>\n",
       "      <td>5414.418</td>\n",
       "      <td>260.640</td>\n",
       "      <td>0.000</td>\n",
       "      <td>8562.440</td>\n",
       "      <td>9</td>\n",
       "    </tr>\n",
       "    <tr>\n",
       "      <th>3</th>\n",
       "      <td>10004</td>\n",
       "      <td>3637.213</td>\n",
       "      <td>1840.211</td>\n",
       "      <td>45.270</td>\n",
       "      <td>0.000</td>\n",
       "      <td>5522.694</td>\n",
       "      <td>8</td>\n",
       "    </tr>\n",
       "    <tr>\n",
       "      <th>4</th>\n",
       "      <td>10005</td>\n",
       "      <td>213.512</td>\n",
       "      <td>0.000</td>\n",
       "      <td>0.000</td>\n",
       "      <td>0.000</td>\n",
       "      <td>213.512</td>\n",
       "      <td>3</td>\n",
       "    </tr>\n",
       "  </tbody>\n",
       "</table>\n",
       "</div>"
      ],
      "text/plain": [
       "   CUSTOMERID   APPAREL  ELECTRONICS     FOOD  HEALTH & BEAUTY  TOTAL SPENT  \\\n",
       "0       10001  4022.430     1601.315   68.688         1134.337     6826.770   \n",
       "1       10002  2312.509     2473.163  276.779            0.000     5062.451   \n",
       "2       10003  2887.382     5414.418  260.640            0.000     8562.440   \n",
       "3       10004  3637.213     1840.211   45.270            0.000     5522.694   \n",
       "4       10005   213.512        0.000    0.000            0.000      213.512   \n",
       "\n",
       "   EXPERIENCE SCORE  \n",
       "0                 5  \n",
       "1                 9  \n",
       "2                 9  \n",
       "3                 8  \n",
       "4                 3  "
      ]
     },
     "execution_count": 21,
     "metadata": {},
     "output_type": "execute_result"
    }
   ],
   "source": [
    "# Group customer experience with items bought.\n",
    "customer_experience = customer_pivot.merge(customer_experience, left_on=\"CUSTOMER NUM\", right_on='CUSTOMERID')\n",
    "customer_experience = customer_experience.reindex(['CUSTOMERID','APPAREL','ELECTRONICS','FOOD','HEALTH & BEAUTY','TOTAL SPENT', 'EXPERIENCE SCORE'], axis = 1)\n",
    "customer_experience.head()"
   ]
  },
  {
   "cell_type": "code",
   "execution_count": 22,
   "metadata": {},
   "outputs": [
    {
     "data": {
      "text/plain": [
       "(87, 7)"
      ]
     },
     "execution_count": 22,
     "metadata": {},
     "output_type": "execute_result"
    }
   ],
   "source": [
    "# How many customers had a less than average experience?\n",
    "customer_experience[customer_experience['EXPERIENCE SCORE']<5].shape"
   ]
  },
  {
   "cell_type": "markdown",
   "metadata": {},
   "source": [
    "Out of 500 customers only 87 had a bad experience in the store. This bad experience is said to be driven by the lack of adequate stock."
   ]
  },
  {
   "cell_type": "code",
   "execution_count": 23,
   "metadata": {},
   "outputs": [
    {
     "data": {
      "text/html": [
       "<div>\n",
       "<style scoped>\n",
       "    .dataframe tbody tr th:only-of-type {\n",
       "        vertical-align: middle;\n",
       "    }\n",
       "\n",
       "    .dataframe tbody tr th {\n",
       "        vertical-align: top;\n",
       "    }\n",
       "\n",
       "    .dataframe thead th {\n",
       "        text-align: right;\n",
       "    }\n",
       "</style>\n",
       "<table border=\"1\" class=\"dataframe\">\n",
       "  <thead>\n",
       "    <tr style=\"text-align: right;\">\n",
       "      <th></th>\n",
       "      <th>CUSTOMERID</th>\n",
       "      <th>APPAREL</th>\n",
       "      <th>ELECTRONICS</th>\n",
       "      <th>FOOD</th>\n",
       "      <th>HEALTH &amp; BEAUTY</th>\n",
       "      <th>TOTAL SPENT</th>\n",
       "      <th>EXPERIENCE SCORE</th>\n",
       "    </tr>\n",
       "  </thead>\n",
       "  <tbody>\n",
       "    <tr>\n",
       "      <th>4</th>\n",
       "      <td>10005</td>\n",
       "      <td>213.512</td>\n",
       "      <td>0.000</td>\n",
       "      <td>0.000</td>\n",
       "      <td>0.000</td>\n",
       "      <td>213.512</td>\n",
       "      <td>3</td>\n",
       "    </tr>\n",
       "    <tr>\n",
       "      <th>5</th>\n",
       "      <td>10006</td>\n",
       "      <td>1448.330</td>\n",
       "      <td>2785.763</td>\n",
       "      <td>720.379</td>\n",
       "      <td>280.375</td>\n",
       "      <td>5234.847</td>\n",
       "      <td>1</td>\n",
       "    </tr>\n",
       "    <tr>\n",
       "      <th>9</th>\n",
       "      <td>10010</td>\n",
       "      <td>2385.751</td>\n",
       "      <td>4149.670</td>\n",
       "      <td>84.726</td>\n",
       "      <td>0.000</td>\n",
       "      <td>6620.147</td>\n",
       "      <td>2</td>\n",
       "    </tr>\n",
       "    <tr>\n",
       "      <th>11</th>\n",
       "      <td>10012</td>\n",
       "      <td>293.100</td>\n",
       "      <td>0.000</td>\n",
       "      <td>0.000</td>\n",
       "      <td>0.000</td>\n",
       "      <td>293.100</td>\n",
       "      <td>2</td>\n",
       "    </tr>\n",
       "    <tr>\n",
       "      <th>13</th>\n",
       "      <td>10014</td>\n",
       "      <td>2735.990</td>\n",
       "      <td>3926.990</td>\n",
       "      <td>35.210</td>\n",
       "      <td>0.000</td>\n",
       "      <td>6698.190</td>\n",
       "      <td>1</td>\n",
       "    </tr>\n",
       "  </tbody>\n",
       "</table>\n",
       "</div>"
      ],
      "text/plain": [
       "    CUSTOMERID   APPAREL  ELECTRONICS     FOOD  HEALTH & BEAUTY  TOTAL SPENT  \\\n",
       "4        10005   213.512        0.000    0.000            0.000      213.512   \n",
       "5        10006  1448.330     2785.763  720.379          280.375     5234.847   \n",
       "9        10010  2385.751     4149.670   84.726            0.000     6620.147   \n",
       "11       10012   293.100        0.000    0.000            0.000      293.100   \n",
       "13       10014  2735.990     3926.990   35.210            0.000     6698.190   \n",
       "\n",
       "    EXPERIENCE SCORE  \n",
       "4                  3  \n",
       "5                  1  \n",
       "9                  2  \n",
       "11                 2  \n",
       "13                 1  "
      ]
     },
     "execution_count": 23,
     "metadata": {},
     "output_type": "execute_result"
    }
   ],
   "source": [
    "low_customer_experience = customer_experience[customer_experience['EXPERIENCE SCORE']< 5]\n",
    "low_customer_experience.head()"
   ]
  },
  {
   "cell_type": "code",
   "execution_count": 24,
   "metadata": {},
   "outputs": [
    {
     "data": {
      "text/html": [
       "<div>\n",
       "<style scoped>\n",
       "    .dataframe tbody tr th:only-of-type {\n",
       "        vertical-align: middle;\n",
       "    }\n",
       "\n",
       "    .dataframe tbody tr th {\n",
       "        vertical-align: top;\n",
       "    }\n",
       "\n",
       "    .dataframe thead th {\n",
       "        text-align: right;\n",
       "    }\n",
       "</style>\n",
       "<table border=\"1\" class=\"dataframe\">\n",
       "  <thead>\n",
       "    <tr style=\"text-align: right;\">\n",
       "      <th></th>\n",
       "      <th>CUSTOMERID</th>\n",
       "      <th>APPAREL</th>\n",
       "      <th>ELECTRONICS</th>\n",
       "      <th>FOOD</th>\n",
       "      <th>HEALTH &amp; BEAUTY</th>\n",
       "      <th>TOTAL SPENT</th>\n",
       "      <th>EXPERIENCE SCORE</th>\n",
       "    </tr>\n",
       "  </thead>\n",
       "  <tbody>\n",
       "    <tr>\n",
       "      <th>498</th>\n",
       "      <td>10499</td>\n",
       "      <td>0.000</td>\n",
       "      <td>0.000</td>\n",
       "      <td>0.000</td>\n",
       "      <td>20.01</td>\n",
       "      <td>20.010</td>\n",
       "      <td>1</td>\n",
       "    </tr>\n",
       "    <tr>\n",
       "      <th>127</th>\n",
       "      <td>10128</td>\n",
       "      <td>2259.716</td>\n",
       "      <td>3708.368</td>\n",
       "      <td>86.264</td>\n",
       "      <td>0.00</td>\n",
       "      <td>6054.348</td>\n",
       "      <td>1</td>\n",
       "    </tr>\n",
       "    <tr>\n",
       "      <th>131</th>\n",
       "      <td>10132</td>\n",
       "      <td>2112.790</td>\n",
       "      <td>3002.547</td>\n",
       "      <td>154.140</td>\n",
       "      <td>0.00</td>\n",
       "      <td>5269.477</td>\n",
       "      <td>1</td>\n",
       "    </tr>\n",
       "    <tr>\n",
       "      <th>146</th>\n",
       "      <td>10147</td>\n",
       "      <td>1665.999</td>\n",
       "      <td>2011.840</td>\n",
       "      <td>134.484</td>\n",
       "      <td>0.00</td>\n",
       "      <td>3812.323</td>\n",
       "      <td>1</td>\n",
       "    </tr>\n",
       "    <tr>\n",
       "      <th>417</th>\n",
       "      <td>10418</td>\n",
       "      <td>2399.258</td>\n",
       "      <td>6595.340</td>\n",
       "      <td>110.660</td>\n",
       "      <td>0.00</td>\n",
       "      <td>9105.258</td>\n",
       "      <td>1</td>\n",
       "    </tr>\n",
       "  </tbody>\n",
       "</table>\n",
       "</div>"
      ],
      "text/plain": [
       "     CUSTOMERID   APPAREL  ELECTRONICS     FOOD  HEALTH & BEAUTY  TOTAL SPENT  \\\n",
       "498       10499     0.000        0.000    0.000            20.01       20.010   \n",
       "127       10128  2259.716     3708.368   86.264             0.00     6054.348   \n",
       "131       10132  2112.790     3002.547  154.140             0.00     5269.477   \n",
       "146       10147  1665.999     2011.840  134.484             0.00     3812.323   \n",
       "417       10418  2399.258     6595.340  110.660             0.00     9105.258   \n",
       "\n",
       "     EXPERIENCE SCORE  \n",
       "498                 1  \n",
       "127                 1  \n",
       "131                 1  \n",
       "146                 1  \n",
       "417                 1  "
      ]
     },
     "execution_count": 24,
     "metadata": {},
     "output_type": "execute_result"
    }
   ],
   "source": [
    "low_customer_experience = customer_experience[customer_experience['EXPERIENCE SCORE']<5].sort_values('EXPERIENCE SCORE', ascending = True)\n",
    "low_customer_experience.head()"
   ]
  },
  {
   "cell_type": "code",
   "execution_count": 25,
   "metadata": {},
   "outputs": [
    {
     "data": {
      "text/html": [
       "<div>\n",
       "<style scoped>\n",
       "    .dataframe tbody tr th:only-of-type {\n",
       "        vertical-align: middle;\n",
       "    }\n",
       "\n",
       "    .dataframe tbody tr th {\n",
       "        vertical-align: top;\n",
       "    }\n",
       "\n",
       "    .dataframe thead th {\n",
       "        text-align: right;\n",
       "    }\n",
       "</style>\n",
       "<table border=\"1\" class=\"dataframe\">\n",
       "  <thead>\n",
       "    <tr style=\"text-align: right;\">\n",
       "      <th></th>\n",
       "      <th>QUANTITY PURCHASED</th>\n",
       "      <th>TOTAL BOUGHT</th>\n",
       "    </tr>\n",
       "    <tr>\n",
       "      <th>PRODUCT CATEGORY</th>\n",
       "      <th></th>\n",
       "      <th></th>\n",
       "    </tr>\n",
       "  </thead>\n",
       "  <tbody>\n",
       "    <tr>\n",
       "      <th>APPAREL</th>\n",
       "      <td>36568</td>\n",
       "      <td>936757.914</td>\n",
       "    </tr>\n",
       "    <tr>\n",
       "      <th>ELECTRONICS</th>\n",
       "      <td>32814</td>\n",
       "      <td>1607192.422</td>\n",
       "    </tr>\n",
       "    <tr>\n",
       "      <th>FOOD</th>\n",
       "      <td>20144</td>\n",
       "      <td>96044.610</td>\n",
       "    </tr>\n",
       "    <tr>\n",
       "      <th>HEALTH &amp; BEAUTY</th>\n",
       "      <td>8872</td>\n",
       "      <td>54776.312</td>\n",
       "    </tr>\n",
       "  </tbody>\n",
       "</table>\n",
       "</div>"
      ],
      "text/plain": [
       "                  QUANTITY PURCHASED  TOTAL BOUGHT\n",
       "PRODUCT CATEGORY                                  \n",
       "APPAREL                        36568    936757.914\n",
       "ELECTRONICS                    32814   1607192.422\n",
       "FOOD                           20144     96044.610\n",
       "HEALTH & BEAUTY                 8872     54776.312"
      ]
     },
     "execution_count": 25,
     "metadata": {},
     "output_type": "execute_result"
    }
   ],
   "source": [
    "most_bought = trans_products.groupby('PRODUCT CATEGORY').agg({'QUANTITY PURCHASED': 'sum', 'TOTAL BOUGHT': 'sum'})\n",
    "most_bought"
   ]
  },
  {
   "cell_type": "markdown",
   "metadata": {},
   "source": [
    "ELectronics might be the best seller because of the price compared to other products, however from the table above we see that Apparel is bought in the largest amount and should therefore be well stocked."
   ]
  },
  {
   "cell_type": "code",
   "execution_count": 26,
   "metadata": {},
   "outputs": [
    {
     "data": {
      "text/html": [
       "<div>\n",
       "<style scoped>\n",
       "    .dataframe tbody tr th:only-of-type {\n",
       "        vertical-align: middle;\n",
       "    }\n",
       "\n",
       "    .dataframe tbody tr th {\n",
       "        vertical-align: top;\n",
       "    }\n",
       "\n",
       "    .dataframe thead th {\n",
       "        text-align: right;\n",
       "    }\n",
       "</style>\n",
       "<table border=\"1\" class=\"dataframe\">\n",
       "  <thead>\n",
       "    <tr style=\"text-align: right;\">\n",
       "      <th>PRODUCT CATEGORY</th>\n",
       "      <th>APPAREL</th>\n",
       "      <th>ELECTRONICS</th>\n",
       "      <th>FOOD</th>\n",
       "      <th>HEALTH &amp; BEAUTY</th>\n",
       "      <th>TOTAL SPENT</th>\n",
       "    </tr>\n",
       "    <tr>\n",
       "      <th>CUSTOMER NUM</th>\n",
       "      <th></th>\n",
       "      <th></th>\n",
       "      <th></th>\n",
       "      <th></th>\n",
       "      <th></th>\n",
       "    </tr>\n",
       "  </thead>\n",
       "  <tbody>\n",
       "    <tr>\n",
       "      <th>10001</th>\n",
       "      <td>4022.430</td>\n",
       "      <td>1601.315</td>\n",
       "      <td>68.688</td>\n",
       "      <td>1134.337</td>\n",
       "      <td>6826.770</td>\n",
       "    </tr>\n",
       "    <tr>\n",
       "      <th>10002</th>\n",
       "      <td>2312.509</td>\n",
       "      <td>2473.163</td>\n",
       "      <td>276.779</td>\n",
       "      <td>0.000</td>\n",
       "      <td>5062.451</td>\n",
       "    </tr>\n",
       "    <tr>\n",
       "      <th>10003</th>\n",
       "      <td>2887.382</td>\n",
       "      <td>5414.418</td>\n",
       "      <td>260.640</td>\n",
       "      <td>0.000</td>\n",
       "      <td>8562.440</td>\n",
       "    </tr>\n",
       "    <tr>\n",
       "      <th>10004</th>\n",
       "      <td>3637.213</td>\n",
       "      <td>1840.211</td>\n",
       "      <td>45.270</td>\n",
       "      <td>0.000</td>\n",
       "      <td>5522.694</td>\n",
       "    </tr>\n",
       "    <tr>\n",
       "      <th>10005</th>\n",
       "      <td>213.512</td>\n",
       "      <td>0.000</td>\n",
       "      <td>0.000</td>\n",
       "      <td>0.000</td>\n",
       "      <td>213.512</td>\n",
       "    </tr>\n",
       "  </tbody>\n",
       "</table>\n",
       "</div>"
      ],
      "text/plain": [
       "PRODUCT CATEGORY   APPAREL  ELECTRONICS     FOOD  HEALTH & BEAUTY  TOTAL SPENT\n",
       "CUSTOMER NUM                                                                  \n",
       "10001             4022.430     1601.315   68.688         1134.337     6826.770\n",
       "10002             2312.509     2473.163  276.779            0.000     5062.451\n",
       "10003             2887.382     5414.418  260.640            0.000     8562.440\n",
       "10004             3637.213     1840.211   45.270            0.000     5522.694\n",
       "10005              213.512        0.000    0.000            0.000      213.512"
      ]
     },
     "execution_count": 26,
     "metadata": {},
     "output_type": "execute_result"
    }
   ],
   "source": [
    "customer_transactions = customer_pivot\n",
    "customer_transactions.head()"
   ]
  },
  {
   "cell_type": "code",
   "execution_count": 27,
   "metadata": {},
   "outputs": [
    {
     "data": {
      "text/html": [
       "<div>\n",
       "<style scoped>\n",
       "    .dataframe tbody tr th:only-of-type {\n",
       "        vertical-align: middle;\n",
       "    }\n",
       "\n",
       "    .dataframe tbody tr th {\n",
       "        vertical-align: top;\n",
       "    }\n",
       "\n",
       "    .dataframe thead th {\n",
       "        text-align: right;\n",
       "    }\n",
       "</style>\n",
       "<table border=\"1\" class=\"dataframe\">\n",
       "  <thead>\n",
       "    <tr style=\"text-align: right;\">\n",
       "      <th></th>\n",
       "      <th>CUSTOMERID</th>\n",
       "      <th>GENDER</th>\n",
       "      <th>AGE</th>\n",
       "      <th>INCOME</th>\n",
       "      <th>EXPERIENCE SCORE</th>\n",
       "      <th>LOYALTY GROUP</th>\n",
       "      <th>ENROLLMENT DATE</th>\n",
       "      <th>HOUSEHOLD SIZE</th>\n",
       "      <th>MARITAL STATUS</th>\n",
       "      <th>APPAREL</th>\n",
       "      <th>ELECTRONICS</th>\n",
       "      <th>FOOD</th>\n",
       "      <th>HEALTH &amp; BEAUTY</th>\n",
       "      <th>TOTAL SPENT</th>\n",
       "    </tr>\n",
       "  </thead>\n",
       "  <tbody>\n",
       "    <tr>\n",
       "      <th>0</th>\n",
       "      <td>10001</td>\n",
       "      <td>0</td>\n",
       "      <td>64</td>\n",
       "      <td>133498</td>\n",
       "      <td>5</td>\n",
       "      <td>enrolled</td>\n",
       "      <td>06-03-2013</td>\n",
       "      <td>4</td>\n",
       "      <td>Single</td>\n",
       "      <td>4022.430</td>\n",
       "      <td>1601.315</td>\n",
       "      <td>68.688</td>\n",
       "      <td>1134.337</td>\n",
       "      <td>6826.770</td>\n",
       "    </tr>\n",
       "    <tr>\n",
       "      <th>1</th>\n",
       "      <td>10002</td>\n",
       "      <td>0</td>\n",
       "      <td>42</td>\n",
       "      <td>94475</td>\n",
       "      <td>9</td>\n",
       "      <td>notenrolled</td>\n",
       "      <td>0</td>\n",
       "      <td>6</td>\n",
       "      <td>Married</td>\n",
       "      <td>2312.509</td>\n",
       "      <td>2473.163</td>\n",
       "      <td>276.779</td>\n",
       "      <td>0.000</td>\n",
       "      <td>5062.451</td>\n",
       "    </tr>\n",
       "    <tr>\n",
       "      <th>2</th>\n",
       "      <td>10003</td>\n",
       "      <td>0</td>\n",
       "      <td>40</td>\n",
       "      <td>88610</td>\n",
       "      <td>9</td>\n",
       "      <td>enrolled</td>\n",
       "      <td>02-09-2010</td>\n",
       "      <td>5</td>\n",
       "      <td>Married</td>\n",
       "      <td>2887.382</td>\n",
       "      <td>5414.418</td>\n",
       "      <td>260.640</td>\n",
       "      <td>0.000</td>\n",
       "      <td>8562.440</td>\n",
       "    </tr>\n",
       "    <tr>\n",
       "      <th>3</th>\n",
       "      <td>10004</td>\n",
       "      <td>0</td>\n",
       "      <td>38</td>\n",
       "      <td>84313</td>\n",
       "      <td>8</td>\n",
       "      <td>enrolled</td>\n",
       "      <td>06-04-2015</td>\n",
       "      <td>1</td>\n",
       "      <td>Single</td>\n",
       "      <td>3637.213</td>\n",
       "      <td>1840.211</td>\n",
       "      <td>45.270</td>\n",
       "      <td>0.000</td>\n",
       "      <td>5522.694</td>\n",
       "    </tr>\n",
       "    <tr>\n",
       "      <th>4</th>\n",
       "      <td>10005</td>\n",
       "      <td>0</td>\n",
       "      <td>30</td>\n",
       "      <td>51498</td>\n",
       "      <td>3</td>\n",
       "      <td>notenrolled</td>\n",
       "      <td>0</td>\n",
       "      <td>1</td>\n",
       "      <td>Single</td>\n",
       "      <td>213.512</td>\n",
       "      <td>0.000</td>\n",
       "      <td>0.000</td>\n",
       "      <td>0.000</td>\n",
       "      <td>213.512</td>\n",
       "    </tr>\n",
       "  </tbody>\n",
       "</table>\n",
       "</div>"
      ],
      "text/plain": [
       "   CUSTOMERID  GENDER  AGE  INCOME  EXPERIENCE SCORE LOYALTY GROUP  \\\n",
       "0       10001       0   64  133498                 5      enrolled   \n",
       "1       10002       0   42   94475                 9   notenrolled   \n",
       "2       10003       0   40   88610                 9      enrolled   \n",
       "3       10004       0   38   84313                 8      enrolled   \n",
       "4       10005       0   30   51498                 3   notenrolled   \n",
       "\n",
       "  ENROLLMENT DATE  HOUSEHOLD SIZE MARITAL STATUS   APPAREL  ELECTRONICS  \\\n",
       "0      06-03-2013               4         Single  4022.430     1601.315   \n",
       "1               0               6        Married  2312.509     2473.163   \n",
       "2      02-09-2010               5        Married  2887.382     5414.418   \n",
       "3      06-04-2015               1         Single  3637.213     1840.211   \n",
       "4               0               1         Single   213.512        0.000   \n",
       "\n",
       "      FOOD  HEALTH & BEAUTY  TOTAL SPENT  \n",
       "0   68.688         1134.337     6826.770  \n",
       "1  276.779            0.000     5062.451  \n",
       "2  260.640            0.000     8562.440  \n",
       "3   45.270            0.000     5522.694  \n",
       "4    0.000            0.000      213.512  "
      ]
     },
     "execution_count": 27,
     "metadata": {},
     "output_type": "execute_result"
    }
   ],
   "source": [
    "# combine customer data table with customer transactions to get a wider view.\n",
    "customer_all_view = customer_data.merge(customer_transactions, left_on='CUSTOMERID', right_index = True)\n",
    "customer_all_view.head()"
   ]
  },
  {
   "cell_type": "markdown",
   "metadata": {},
   "source": [
    "Now proceed to explore what causes loyalty and increased spending in retailer X's store.\n",
    "\n",
    "\n",
    "### Loyalty analysis"
   ]
  },
  {
   "cell_type": "code",
   "execution_count": 28,
   "metadata": {},
   "outputs": [
    {
     "data": {
      "text/html": [
       "<div>\n",
       "<style scoped>\n",
       "    .dataframe tbody tr th:only-of-type {\n",
       "        vertical-align: middle;\n",
       "    }\n",
       "\n",
       "    .dataframe tbody tr th {\n",
       "        vertical-align: top;\n",
       "    }\n",
       "\n",
       "    .dataframe thead th {\n",
       "        text-align: right;\n",
       "    }\n",
       "</style>\n",
       "<table border=\"1\" class=\"dataframe\">\n",
       "  <thead>\n",
       "    <tr style=\"text-align: right;\">\n",
       "      <th>LOYALTY GROUP</th>\n",
       "      <th>enrolled</th>\n",
       "      <th>notenrolled</th>\n",
       "    </tr>\n",
       "    <tr>\n",
       "      <th>GENDER</th>\n",
       "      <th></th>\n",
       "      <th></th>\n",
       "    </tr>\n",
       "  </thead>\n",
       "  <tbody>\n",
       "    <tr>\n",
       "      <th>0</th>\n",
       "      <td>131</td>\n",
       "      <td>120</td>\n",
       "    </tr>\n",
       "    <tr>\n",
       "      <th>1</th>\n",
       "      <td>133</td>\n",
       "      <td>116</td>\n",
       "    </tr>\n",
       "  </tbody>\n",
       "</table>\n",
       "</div>"
      ],
      "text/plain": [
       "LOYALTY GROUP  enrolled  notenrolled\n",
       "GENDER                              \n",
       "0                   131          120\n",
       "1                   133          116"
      ]
     },
     "execution_count": 28,
     "metadata": {},
     "output_type": "execute_result"
    }
   ],
   "source": [
    "loyalty_table = pd.crosstab(customer_all_view['GENDER'], customer_all_view['LOYALTY GROUP'])\n",
    "loyalty_table"
   ]
  },
  {
   "cell_type": "code",
   "execution_count": 29,
   "metadata": {},
   "outputs": [],
   "source": [
    "import matplotlib.pyplot as plt"
   ]
  },
  {
   "cell_type": "code",
   "execution_count": 30,
   "metadata": {},
   "outputs": [
    {
     "data": {
      "text/plain": [
       "Text(0.5, 1.0, 'Loyalty group vs Gender')"
      ]
     },
     "execution_count": 30,
     "metadata": {},
     "output_type": "execute_result"
    },
    {
     "data": {
      "image/png": "[encoded data removed]",
      "text/plain": [
       "<Figure size 504x360 with 1 Axes>"
      ]
     },
     "metadata": {
      "needs_background": "light"
     },
     "output_type": "display_data"
    }
   ],
   "source": [
    "loyalty_table.plot(kind = 'bar', figsize = (7,5))\n",
    "plt.title(\"Loyalty group vs Gender\")"
   ]
  },
  {
   "cell_type": "markdown",
   "metadata": {},
   "source": [
    "Gender doesn't seem to affect loyalty at all, we have almost as many people enrolled as not enrolled in both genders."
   ]
  },
  {
   "cell_type": "code",
   "execution_count": 31,
   "metadata": {},
   "outputs": [
    {
     "name": "stdout",
     "output_type": "stream",
     "text": [
      "Eldest 90\n",
      "Youngest 18\n"
     ]
    }
   ],
   "source": [
    "print(\"Eldest\",customer_all_view['AGE'].max())\n",
    "print(\"Youngest\", customer_all_view['AGE'].min())"
   ]
  },
  {
   "cell_type": "code",
   "execution_count": 32,
   "metadata": {},
   "outputs": [
    {
     "data": {
      "text/plain": [
       "Text(0.5, 1.0, 'Loyalty group vs age')"
      ]
     },
     "execution_count": 32,
     "metadata": {},
     "output_type": "execute_result"
    },
    {
     "data": {
      "image/png": "[encoded data removed]",
      "text/plain": [
       "<Figure size 504x360 with 1 Axes>"
      ]
     },
     "metadata": {
      "needs_background": "light"
     },
     "output_type": "display_data"
    }
   ],
   "source": [
    "# Age vs Loyalty\n",
    "# since age is a continuous variable, put them in bins/categories.\n",
    "customer_all_view['AGE BINNED'] = pd.cut(customer_all_view['AGE'], 5)\n",
    "loyalty_table = pd.crosstab(customer_all_view['AGE BINNED'], customer_all_view['LOYALTY GROUP'])\n",
    "loyalty_table.plot(kind = 'bar', figsize = (7,5))\n",
    "plt.grid(linestyle='-',axis = 'y', alpha = 0.7)\n",
    "plt.ylabel('number of customers')\n",
    "plt.title(\"Loyalty group vs age\")"
   ]
  },
  {
   "cell_type": "markdown",
   "metadata": {},
   "source": [
    "Customers between the ages of 32.4 to 46.8 seem not to be interested in the loyalty program. This is seen from the higher number or 'not enrolled' people compared to those 'enrolled' in that age group. Those between ages 17.9 - 32.4 are indifferent, there are as many people enrolled as there are not enrolled. People above the age of 46.8 are more likely to enroll for the program. Age is therefore a factor that affects loyalty."
   ]
  },
  {
   "cell_type": "code",
   "execution_count": 33,
   "metadata": {},
   "outputs": [
    {
     "data": {
      "text/plain": [
       "Text(0.5, 1.0, 'Income vs Age')"
      ]
     },
     "execution_count": 33,
     "metadata": {},
     "output_type": "execute_result"
    },
    {
     "data": {
      "image/png": "[encoded data removed]",
      "text/plain": [
       "<Figure size 432x288 with 1 Axes>"
      ]
     },
     "metadata": {
      "needs_background": "light"
     },
     "output_type": "display_data"
    }
   ],
   "source": [
    "plt.scatter(customer_all_view['AGE'], customer_all_view['INCOME'])\n",
    "plt.xlabel(\"Age\")\n",
    "plt.ylabel(\"Income\")\n",
    "plt.title(\"Income vs Age\")"
   ]
  },
  {
   "cell_type": "markdown",
   "metadata": {},
   "source": [
    "Income and age are positively correlated, almost one and the same. Can we assume that income and age will have the same relationship with loyalty?"
   ]
  },
  {
   "cell_type": "code",
   "execution_count": 34,
   "metadata": {},
   "outputs": [
    {
     "data": {
      "text/plain": [
       "Text(0.5, 1.0, 'LOYALTY VS INCOME')"
      ]
     },
     "execution_count": 34,
     "metadata": {},
     "output_type": "execute_result"
    },
    {
     "data": {
      "image/png": "[encoded data removed]",
      "text/plain": [
       "<Figure size 432x288 with 1 Axes>"
      ]
     },
     "metadata": {
      "needs_background": "light"
     },
     "output_type": "display_data"
    }
   ],
   "source": [
    "customer_all_view['INCOME BINNED'] = pd.cut(customer_all_view['INCOME'], 5)\n",
    "loyalty_table = pd.crosstab(customer_all_view['INCOME BINNED'], customer_all_view['LOYALTY GROUP'])\n",
    "loyalty_table.plot(kind='bar')\n",
    "plt.title(\"LOYALTY VS INCOME\")"
   ]
  },
  {
   "cell_type": "markdown",
   "metadata": {},
   "source": [
    "Age and income almost have the same relationship with loyalty. In income's case though, Those who earn the least and those who earn above average(average being the 3rd bin) are more likely to enroll in the loyalty program compared to those whose income bracket is 46,204 - 98,101. If we were to use just income to target customers to enroll we would target bin 1,4 and 5 because they have higher chances of success."
   ]
  },
  {
   "cell_type": "code",
   "execution_count": 35,
   "metadata": {},
   "outputs": [
    {
     "data": {
      "image/png": "[encoded data removed]",
      "text/plain": [
       "<Figure size 576x360 with 1 Axes>"
      ]
     },
     "metadata": {
      "needs_background": "light"
     },
     "output_type": "display_data"
    }
   ],
   "source": [
    "# Experience score vs loyalty\n",
    "loyalty_table = pd.crosstab(customer_all_view['EXPERIENCE SCORE'], customer_all_view['LOYALTY GROUP'])\n",
    "loyalty_table.plot(kind = 'bar', figsize = (8,5))\n",
    "plt.title(\"Loyalty Group vs Experience score\")\n",
    "plt.grid(linestyle = '-', axis = 'y')"
   ]
  },
  {
   "cell_type": "markdown",
   "metadata": {},
   "source": [
    "Experience affects loyalty. The better the experience in the store, i.e. 5 and above, the more the likelihood to be enrolled to the loyalty program"
   ]
  },
  {
   "cell_type": "code",
   "execution_count": 36,
   "metadata": {},
   "outputs": [
    {
     "data": {
      "image/png": "[encoded data removed]",
      "text/plain": [
       "<Figure size 504x288 with 1 Axes>"
      ]
     },
     "metadata": {
      "needs_background": "light"
     },
     "output_type": "display_data"
    }
   ],
   "source": [
    "# household size vs loyalty \n",
    "loyalty_table = pd.crosstab(customer_all_view['HOUSEHOLD SIZE'], customer_all_view['LOYALTY GROUP'])\n",
    "loyalty_table.plot(kind = 'bar', figsize = (7,4))\n",
    "plt.title(\"Loyalty group vs Household size\")\n",
    "plt.grid(linestyle = '-', axis = 'y', alpha = 0.5)"
   ]
  },
  {
   "cell_type": "markdown",
   "metadata": {},
   "source": [
    "customers whose household size is between 2 and 4 appear to be more interested in the loyalty program compared to other household sizes(1,5,6) who are indifferent."
   ]
  },
  {
   "cell_type": "code",
   "execution_count": 37,
   "metadata": {},
   "outputs": [
    {
     "data": {
      "text/plain": [
       "Text(0.5, 1.0, 'Loyalty group vs Marital status')"
      ]
     },
     "execution_count": 37,
     "metadata": {},
     "output_type": "execute_result"
    },
    {
     "data": {
      "image/png": "[encoded data removed]",
      "text/plain": [
       "<Figure size 432x288 with 1 Axes>"
      ]
     },
     "metadata": {
      "needs_background": "light"
     },
     "output_type": "display_data"
    }
   ],
   "source": [
    "# marital status vs loyalty \n",
    "loyalty_table = pd.crosstab(customer_all_view['MARITAL STATUS'], customer_all_view['LOYALTY GROUP'])\n",
    "loyalty_table.plot(kind = 'bar')\n",
    "plt.title(\"Loyalty group vs Marital status\")"
   ]
  },
  {
   "cell_type": "markdown",
   "metadata": {},
   "source": [
    "There's a small realtionship, small to mean almost indifferent. Customer who are married, single and widowed are more likely to enroll in the loyalty program. Divorced customers are more likely to not enroll in the loyalty program."
   ]
  },
  {
   "cell_type": "code",
   "execution_count": 38,
   "metadata": {},
   "outputs": [
    {
     "data": {
      "text/plain": [
       "Text(0.5, 1.0, 'Loyalty group vs Total spent')"
      ]
     },
     "execution_count": 38,
     "metadata": {},
     "output_type": "execute_result"
    },
    {
     "data": {
      "image/png": "[encoded data removed]",
      "text/plain": [
       "<Figure size 432x288 with 1 Axes>"
      ]
     },
     "metadata": {
      "needs_background": "light"
     },
     "output_type": "display_data"
    }
   ],
   "source": [
    "# total spent vs loyalty\n",
    "customer_all_view['TOTAL SPENT BINNED'] = pd.cut(customer_all_view['TOTAL SPENT'],5)\n",
    "loyalty_table = pd.crosstab(customer_all_view['TOTAL SPENT BINNED'], customer_all_view['LOYALTY GROUP'])\n",
    "loyalty_table.plot(kind = 'bar')\n",
    "plt.ylabel(\"Number of customers\")\n",
    "plt.title(\"Loyalty group vs Total spent\")"
   ]
  },
  {
   "cell_type": "markdown",
   "metadata": {},
   "source": [
    "Those who spend more enroll more. This is supported by the observation that those who spend $6117.46 and above are more likely to enroll for the program compared to those who spend less."
   ]
  },
  {
   "cell_type": "markdown",
   "metadata": {},
   "source": [
    "## Spending Analysis"
   ]
  },
  {
   "cell_type": "code",
   "execution_count": 39,
   "metadata": {},
   "outputs": [
    {
     "data": {
      "image/png": "[encoded data removed]",
      "text/plain": [
       "<Figure size 432x288 with 1 Axes>"
      ]
     },
     "metadata": {
      "needs_background": "light"
     },
     "output_type": "display_data"
    }
   ],
   "source": [
    "# gender vs total spent\n",
    "spending_table = pd.crosstab(customer_all_view['TOTAL SPENT BINNED'], customer_all_view['GENDER'])\n",
    "spending_table.plot(kind = 'bar')\n",
    "plt.title(\"Relationship of gender and expenditure\")\n",
    "plt.grid(linestyle = '-', axis = 'y', alpha = 0.5)"
   ]
  },
  {
   "cell_type": "markdown",
   "metadata": {},
   "source": [
    "Gender shows no clear relationship with spending, it is almost indifferent for every spending bin/group. However it is worth noting that gender 0 spends more in groups 1-3 and gender 1 spends more in groups 4 and 5."
   ]
  },
  {
   "cell_type": "code",
   "execution_count": 40,
   "metadata": {},
   "outputs": [
    {
     "data": {
      "text/plain": [
       "Text(0.5, 1.0, 'Total spent vs Income')"
      ]
     },
     "execution_count": 40,
     "metadata": {},
     "output_type": "execute_result"
    },
    {
     "data": {
      "image/png": "[encoded data removed]",
      "text/plain": [
       "<Figure size 432x288 with 1 Axes>"
      ]
     },
     "metadata": {
      "needs_background": "light"
     },
     "output_type": "display_data"
    }
   ],
   "source": [
    "# income vs Total spent. Income is continuous hence we use a scatterplot\n",
    "plt.scatter(customer_all_view['INCOME'], customer_all_view['TOTAL SPENT'])\n",
    "plt.xlabel(\"Income\")\n",
    "plt.ylabel(\"Total spent\")\n",
    "plt.title(\"Total spent vs Income\")"
   ]
  },
  {
   "cell_type": "code",
   "execution_count": 41,
   "metadata": {},
   "outputs": [
    {
     "data": {
      "text/plain": [
       "(0.6880311084625119, 2.3226326963806005e-71)"
      ]
     },
     "execution_count": 41,
     "metadata": {},
     "output_type": "execute_result"
    }
   ],
   "source": [
    "# measure correlation using pearson correlation.\n",
    "from scipy.stats import pearsonr\n",
    "pearsonr(customer_all_view['INCOME'], customer_all_view['TOTAL SPENT'])"
   ]
  },
  {
   "cell_type": "markdown",
   "metadata": {},
   "source": [
    "0.688 is an indication of a strong positive correlation; which then means as income increases so does spending. Income is a factor that affects spending."
   ]
  },
  {
   "cell_type": "code",
   "execution_count": 42,
   "metadata": {},
   "outputs": [
    {
     "data": {
      "text/plain": [
       "(0.9417989049786017, 6.452902105194393e-238)"
      ]
     },
     "execution_count": 42,
     "metadata": {},
     "output_type": "execute_result"
    }
   ],
   "source": [
    "pearsonr(customer_all_view['AGE'], customer_all_view['INCOME'])"
   ]
  },
  {
   "cell_type": "markdown",
   "metadata": {},
   "source": [
    "The relationship between age and income is very strong as proven by the pearson correlation."
   ]
  },
  {
   "cell_type": "code",
   "execution_count": 43,
   "metadata": {},
   "outputs": [
    {
     "data": {
      "text/plain": [
       "Text(0.5, 1.0, 'Total Spent vs Age')"
      ]
     },
     "execution_count": 43,
     "metadata": {},
     "output_type": "execute_result"
    },
    {
     "data": {
      "image/png": "[encoded data removed]",
      "text/plain": [
       "<Figure size 432x288 with 1 Axes>"
      ]
     },
     "metadata": {
      "needs_background": "light"
     },
     "output_type": "display_data"
    }
   ],
   "source": [
    "# age vs total spent. Age is continuous hence scatterplot\n",
    "plt.scatter(customer_all_view['AGE'], customer_all_view['TOTAL SPENT'])\n",
    "plt.xlabel(\"Age\")\n",
    "plt.ylabel(\"Total spent\")\n",
    "plt.title(\"Total Spent vs Age\")"
   ]
  },
  {
   "cell_type": "code",
   "execution_count": 44,
   "metadata": {},
   "outputs": [
    {
     "data": {
      "text/plain": [
       "(0.5760170677259266, 1.5608217502780056e-45)"
      ]
     },
     "execution_count": 44,
     "metadata": {},
     "output_type": "execute_result"
    }
   ],
   "source": [
    "pearsonr(customer_all_view['AGE'], customer_all_view['TOTAL SPENT'])"
   ]
  },
  {
   "cell_type": "markdown",
   "metadata": {},
   "source": [
    "0.576 indicates a moderately strong relationship. It indicates that as customers grow older they tend to spend more, which is quite normal in every society. As seen before age is highly correlated to income and therefore makes sense to see as age increases so does spending."
   ]
  },
  {
   "cell_type": "code",
   "execution_count": 45,
   "metadata": {},
   "outputs": [
    {
     "data": {
      "text/plain": [
       "Text(0.5, 1.0, 'Total spent vs Experience score')"
      ]
     },
     "execution_count": 45,
     "metadata": {},
     "output_type": "execute_result"
    },
    {
     "data": {
      "image/png": "[encoded data removed]",
      "text/plain": [
       "<Figure size 432x288 with 1 Axes>"
      ]
     },
     "metadata": {
      "needs_background": "light"
     },
     "output_type": "display_data"
    }
   ],
   "source": [
    "'''\n",
    "experience score vs total spent. The data would be too messy to plot since we have 500 customers all with  \n",
    "different experience scores therefore we sum up all that was spent by people who shared an experience score.\n",
    "'''\n",
    "spending_table = customer_all_view.groupby('EXPERIENCE SCORE').agg({'TOTAL SPENT': 'sum'})\n",
    "spending_table.plot(kind = 'bar')\n",
    "plt.ylabel(\"TOTAL SPENT\")\n",
    "plt.title(\"Total spent vs Experience score\")"
   ]
  },
  {
   "cell_type": "markdown",
   "metadata": {},
   "source": [
    "It is very clear that customers who had a good experience at the store spent more at the store. This is shown by the steep hike at the 5th score."
   ]
  },
  {
   "cell_type": "code",
   "execution_count": 46,
   "metadata": {},
   "outputs": [
    {
     "data": {
      "image/png": "[encoded data removed]",
      "text/plain": [
       "<Figure size 576x288 with 1 Axes>"
      ]
     },
     "metadata": {
      "needs_background": "light"
     },
     "output_type": "display_data"
    }
   ],
   "source": [
    "# marital status vs total spent\n",
    "spending_table = pd.crosstab(customer_all_view['TOTAL SPENT BINNED'], customer_all_view['MARITAL STATUS'])\n",
    "spending_table.plot(kind = 'bar', figsize = (8,4))\n",
    "plt.ylabel(\"Number of customers\")\n",
    "plt.title(\"Relationship between marital status and total expenditure\")\n",
    "plt.grid(linestyle = '-', axis = 'y', alpha = 0.6)"
   ]
  },
  {
   "cell_type": "code",
   "execution_count": 47,
   "metadata": {},
   "outputs": [
    {
     "name": "stdout",
     "output_type": "stream",
     "text": [
      "Divorced = 37 Widowed = 16 Married = 267 Single = 180\n"
     ]
    }
   ],
   "source": [
    "print(\"Divorced =\", spending_table['Divorced'].sum(), \"Widowed =\", spending_table['Widow/Widower'].sum(), \"Married =\", spending_table['Married'].sum(), \"Single =\", spending_table['Single'].sum())"
   ]
  },
  {
   "cell_type": "markdown",
   "metadata": {},
   "source": [
    "Customers who spend between 4 dollars and 3068 dollars are mostly single. Those who spend between \\\\$3068.73 and $12214.9 majority are married. Widowed customers are average spenders, they spend between 3068 and 12214.9. Divorced customers can spend from 4 dollars to 12214.9. It is not clear to me whether married people appear to spend more just because they're the majority. I will analyse according to their income which group spends more in the store."
   ]
  },
  {
   "cell_type": "code",
   "execution_count": 160,
   "metadata": {},
   "outputs": [
    {
     "data": {
      "text/html": [
       "<div>\n",
       "<style scoped>\n",
       "    .dataframe tbody tr th:only-of-type {\n",
       "        vertical-align: middle;\n",
       "    }\n",
       "\n",
       "    .dataframe tbody tr th {\n",
       "        vertical-align: top;\n",
       "    }\n",
       "\n",
       "    .dataframe thead th {\n",
       "        text-align: right;\n",
       "    }\n",
       "</style>\n",
       "<table border=\"1\" class=\"dataframe\">\n",
       "  <thead>\n",
       "    <tr style=\"text-align: right;\">\n",
       "      <th></th>\n",
       "      <th>INCOME</th>\n",
       "      <th>TOTAL SPENT</th>\n",
       "    </tr>\n",
       "    <tr>\n",
       "      <th>MARITAL STATUS</th>\n",
       "      <th></th>\n",
       "      <th></th>\n",
       "    </tr>\n",
       "  </thead>\n",
       "  <tbody>\n",
       "    <tr>\n",
       "      <th>Divorced</th>\n",
       "      <td>3410483</td>\n",
       "      <td>213653.861</td>\n",
       "    </tr>\n",
       "    <tr>\n",
       "      <th>Married</th>\n",
       "      <td>23306238</td>\n",
       "      <td>1530041.284</td>\n",
       "    </tr>\n",
       "    <tr>\n",
       "      <th>Single</th>\n",
       "      <td>14133528</td>\n",
       "      <td>842979.672</td>\n",
       "    </tr>\n",
       "    <tr>\n",
       "      <th>Widow/Widower</th>\n",
       "      <td>2045992</td>\n",
       "      <td>108096.441</td>\n",
       "    </tr>\n",
       "  </tbody>\n",
       "</table>\n",
       "</div>"
      ],
      "text/plain": [
       "                  INCOME  TOTAL SPENT\n",
       "MARITAL STATUS                       \n",
       "Divorced         3410483   213653.861\n",
       "Married         23306238  1530041.284\n",
       "Single          14133528   842979.672\n",
       "Widow/Widower    2045992   108096.441"
      ]
     },
     "execution_count": 160,
     "metadata": {},
     "output_type": "execute_result"
    }
   ],
   "source": [
    "# income vs marital status, who spends the most out of their income?\n",
    "customer_all_view.groupby('MARITAL STATUS').agg({\"INCOME\":'sum',\"TOTAL SPENT\": 'sum'})"
   ]
  },
  {
   "cell_type": "code",
   "execution_count": 165,
   "metadata": {},
   "outputs": [
    {
     "name": "stdout",
     "output_type": "stream",
     "text": [
      "Divorced people spend approximately  6.26 % of their income in the store\n",
      "Married people spend approximately  6.56 % of their income in the store\n",
      "Single people spend approximately  5.96 % of their income in the store\n",
      "Widowed people spend approximately  5.28 % of their income in the store\n"
     ]
    }
   ],
   "source": [
    "print(\"Divorced people spend approximately \", round((213653.861/3410483)*100,2),\"% of their income in the store\")\n",
    "print(\"Married people spend approximately \", round((1530041.284/23306238)*100,2),\"% of their income in the store\")\n",
    "print(\"Single people spend approximately \", round((842979.672/14133528)*100,2),\"% of their income in the store\")\n",
    "print(\"Widowed people spend approximately \", round((108096.441/2045992)*100,2),\"% of their income in the store\")"
   ]
  },
  {
   "cell_type": "markdown",
   "metadata": {},
   "source": [
    "There's a 1.28% difference between the group that spends the most and the group that spends the least of their income in the store, with this regard, there is no relationship between marital status and expenditure."
   ]
  },
  {
   "cell_type": "code",
   "execution_count": 168,
   "metadata": {},
   "outputs": [
    {
     "data": {
      "image/png": "[encoded data removed]",
      "text/plain": [
       "<Figure size 432x288 with 1 Axes>"
      ]
     },
     "metadata": {
      "needs_background": "light"
     },
     "output_type": "display_data"
    }
   ],
   "source": [
    "# household size vs total spent\n",
    "spending_table = customer_all_view.groupby(\"HOUSEHOLD SIZE\").agg({'TOTAL SPENT': 'sum'})\n",
    "spending_table.plot(kind = 'line')\n",
    "plt.ylabel(\"TOTAL SPENT\")\n",
    "plt.title(\"Total spent vs Household size\")\n",
    "plt.grid(linestyle='-')"
   ]
  },
  {
   "cell_type": "markdown",
   "metadata": {},
   "source": [
    "Amount spent decreases with number of people in a household. Customers who come from households with 5 people spend the least, and customers from households with 3 people spend the most.\n",
    "\n",
    "### CONCLUSION\n",
    "\n",
    "**Factors affecting spending are:**\n",
    "1. Household size - 1-4 people in a household spend more.\n",
    "2. Experience score - Scores above 5 spent more.\n",
    "3. Age - Older people spend more.\n",
    "4. Income - People with high inome spend more.\n",
    "\n",
    "\n",
    "**Factors affecting loyalty are**\n",
    "1. Total spent - Those who spent more are more likely to enroll to the loyalty program.\n",
    "2. Household size -  household size is between 2 and 4 appear to be more interested in the loyalty program.\n",
    "3. Marital status - Customer who are married, single and widowed are more likely to enroll in the loyalty program.\n",
    "4. Experience score - The better the experience in the store, the more the likelihood to enroll to the loyalty program\n",
    "5. Age - 32.4 to 46.8 seem not to be interested. Those between ages 17.9 - 32.4 are indifferent. People above the age of 46.8 are more likely to enroll for the program. \n",
    "6. Income - Those who earn above average are more likely to enroll in the loyalty program."
   ]
  },
  {
   "cell_type": "markdown",
   "metadata": {},
   "source": [
    "## Next we find the best model\n",
    "### CLUSTERING\n",
    "##### K-MEANS CLUSTERING"
   ]
  },
  {
   "cell_type": "code",
   "execution_count": 169,
   "metadata": {},
   "outputs": [],
   "source": [
    "from sklearn.cluster import KMeans"
   ]
  },
  {
   "cell_type": "code",
   "execution_count": 170,
   "metadata": {},
   "outputs": [
    {
     "data": {
      "text/html": [
       "<div>\n",
       "<style scoped>\n",
       "    .dataframe tbody tr th:only-of-type {\n",
       "        vertical-align: middle;\n",
       "    }\n",
       "\n",
       "    .dataframe tbody tr th {\n",
       "        vertical-align: top;\n",
       "    }\n",
       "\n",
       "    .dataframe thead th {\n",
       "        text-align: right;\n",
       "    }\n",
       "</style>\n",
       "<table border=\"1\" class=\"dataframe\">\n",
       "  <thead>\n",
       "    <tr style=\"text-align: right;\">\n",
       "      <th></th>\n",
       "      <th>INCOME</th>\n",
       "      <th>TOTAL SPENT</th>\n",
       "    </tr>\n",
       "  </thead>\n",
       "  <tbody>\n",
       "    <tr>\n",
       "      <th>0</th>\n",
       "      <td>133498</td>\n",
       "      <td>6826.770</td>\n",
       "    </tr>\n",
       "    <tr>\n",
       "      <th>1</th>\n",
       "      <td>94475</td>\n",
       "      <td>5062.451</td>\n",
       "    </tr>\n",
       "    <tr>\n",
       "      <th>2</th>\n",
       "      <td>88610</td>\n",
       "      <td>8562.440</td>\n",
       "    </tr>\n",
       "    <tr>\n",
       "      <th>3</th>\n",
       "      <td>84313</td>\n",
       "      <td>5522.694</td>\n",
       "    </tr>\n",
       "    <tr>\n",
       "      <th>4</th>\n",
       "      <td>51498</td>\n",
       "      <td>213.512</td>\n",
       "    </tr>\n",
       "  </tbody>\n",
       "</table>\n",
       "</div>"
      ],
      "text/plain": [
       "   INCOME  TOTAL SPENT\n",
       "0  133498     6826.770\n",
       "1   94475     5062.451\n",
       "2   88610     8562.440\n",
       "3   84313     5522.694\n",
       "4   51498      213.512"
      ]
     },
     "execution_count": 170,
     "metadata": {},
     "output_type": "execute_result"
    }
   ],
   "source": [
    "# 1st grouping is according to income and total spent\n",
    "cluster_input = customer_all_view[['INCOME', 'TOTAL SPENT']]\n",
    "cluster_input.head()"
   ]
  },
  {
   "cell_type": "code",
   "execution_count": 171,
   "metadata": {},
   "outputs": [],
   "source": [
    "# The retailer insists on 4 groups of customers so divide into 4 clusters.\n",
    "kmeans_model = KMeans(n_clusters = 4)"
   ]
  },
  {
   "cell_type": "code",
   "execution_count": 172,
   "metadata": {},
   "outputs": [
    {
     "data": {
      "text/plain": [
       "array([2, 3, 3, 3, 1, 2, 3, 0, 0, 3, 1, 0, 3, 3, 1, 3, 3, 0, 2, 3, 0, 0,\n",
       "       0, 1, 0, 0, 3, 1, 1, 2, 3, 1, 1, 0, 1, 1, 1, 0, 0, 1, 1, 3, 3, 3,\n",
       "       2, 1, 1, 3, 2, 1, 0, 1, 1, 1, 0, 1, 0, 0, 0, 1, 3, 0, 2, 0, 2, 3,\n",
       "       3, 0, 1, 3, 3, 1, 3, 3, 2, 1, 3, 1, 3, 2, 3, 0, 2, 0, 1, 0, 2, 1,\n",
       "       3, 1, 0, 2, 0, 0, 0, 3, 0, 1, 2, 0, 1, 1, 1, 1, 3, 0, 0, 1, 3, 1,\n",
       "       1, 1, 3, 1, 0, 1, 2, 2, 3, 3, 1, 0, 0, 1, 3, 3, 0, 3, 1, 2, 3, 3,\n",
       "       1, 3, 2, 0, 2, 2, 0, 3, 3, 1, 1, 1, 3, 0, 0, 1, 0, 3, 3, 0, 0, 0,\n",
       "       3, 0, 1, 1, 0, 1, 2, 1, 2, 0, 1, 3, 1, 2, 3, 1, 2, 1, 0, 0, 2, 1,\n",
       "       2, 2, 0, 1, 2, 1, 3, 1, 0, 2, 0, 0, 1, 2, 1, 0, 0, 2, 0, 2, 0, 2,\n",
       "       0, 3, 0, 1, 2, 2, 0, 1, 3, 2, 2, 2, 2, 1, 0, 3, 2, 0, 1, 0, 3, 1,\n",
       "       3, 1, 0, 1, 1, 1, 0, 1, 1, 3, 0, 3, 0, 3, 3, 1, 0, 2, 1, 1, 1, 3,\n",
       "       3, 3, 3, 1, 0, 0, 2, 1, 3, 0, 1, 0, 1, 3, 1, 2, 0, 0, 1, 2, 1, 3,\n",
       "       3, 2, 0, 3, 3, 0, 2, 1, 2, 1, 1, 1, 2, 3, 0, 0, 0, 3, 3, 3, 2, 3,\n",
       "       0, 3, 0, 2, 2, 1, 1, 2, 1, 1, 1, 1, 3, 3, 1, 3, 3, 2, 1, 2, 1, 1,\n",
       "       2, 1, 1, 0, 3, 3, 3, 3, 1, 2, 0, 1, 0, 3, 1, 3, 1, 1, 3, 1, 0, 1,\n",
       "       1, 0, 1, 3, 3, 1, 1, 0, 0, 0, 0, 2, 0, 3, 0, 0, 3, 2, 0, 3, 1, 3,\n",
       "       1, 0, 2, 2, 0, 3, 1, 3, 2, 3, 1, 0, 3, 1, 3, 0, 0, 3, 0, 3, 3, 2,\n",
       "       3, 2, 0, 3, 1, 0, 3, 1, 1, 1, 2, 3, 1, 3, 2, 1, 2, 1, 3, 2, 1, 0,\n",
       "       2, 3, 2, 3, 0, 2, 1, 3, 2, 3, 1, 2, 3, 3, 2, 0, 1, 3, 2, 1, 0, 0,\n",
       "       2, 1, 1, 3, 3, 3, 0, 3, 2, 0, 3, 1, 0, 3, 3, 1, 2, 3, 0, 0, 3, 0,\n",
       "       0, 1, 3, 2, 1, 3, 2, 1, 1, 3, 1, 1, 1, 1, 2, 3, 0, 0, 3, 1, 2, 3,\n",
       "       0, 3, 2, 0, 3, 1, 1, 0, 2, 3, 2, 0, 0, 3, 3, 3, 1, 1, 1, 0, 0, 2,\n",
       "       3, 1, 3, 1, 0, 2, 3, 3, 2, 3, 1, 0, 0, 0, 1, 3], dtype=int32)"
      ]
     },
     "execution_count": 172,
     "metadata": {},
     "output_type": "execute_result"
    }
   ],
   "source": [
    "# run the kmeans clustering algorithm on the clusters input:\n",
    "cluster_output = kmeans_model.fit_predict(cluster_input)\n",
    "cluster_output"
   ]
  },
  {
   "cell_type": "code",
   "execution_count": 53,
   "metadata": {},
   "outputs": [
    {
     "data": {
      "text/html": [
       "<div>\n",
       "<style scoped>\n",
       "    .dataframe tbody tr th:only-of-type {\n",
       "        vertical-align: middle;\n",
       "    }\n",
       "\n",
       "    .dataframe tbody tr th {\n",
       "        vertical-align: top;\n",
       "    }\n",
       "\n",
       "    .dataframe thead th {\n",
       "        text-align: right;\n",
       "    }\n",
       "</style>\n",
       "<table border=\"1\" class=\"dataframe\">\n",
       "  <thead>\n",
       "    <tr style=\"text-align: right;\">\n",
       "      <th></th>\n",
       "      <th>CLUSTER</th>\n",
       "    </tr>\n",
       "  </thead>\n",
       "  <tbody>\n",
       "    <tr>\n",
       "      <th>495</th>\n",
       "      <td>3</td>\n",
       "    </tr>\n",
       "    <tr>\n",
       "      <th>496</th>\n",
       "      <td>3</td>\n",
       "    </tr>\n",
       "    <tr>\n",
       "      <th>497</th>\n",
       "      <td>3</td>\n",
       "    </tr>\n",
       "    <tr>\n",
       "      <th>498</th>\n",
       "      <td>0</td>\n",
       "    </tr>\n",
       "    <tr>\n",
       "      <th>499</th>\n",
       "      <td>2</td>\n",
       "    </tr>\n",
       "  </tbody>\n",
       "</table>\n",
       "</div>"
      ],
      "text/plain": [
       "     CLUSTER\n",
       "495        3\n",
       "496        3\n",
       "497        3\n",
       "498        0\n",
       "499        2"
      ]
     },
     "execution_count": 53,
     "metadata": {},
     "output_type": "execute_result"
    }
   ],
   "source": [
    "cluster_output = pd.DataFrame(cluster_output, columns = ['CLUSTER'])\n",
    "cluster_output.tail()"
   ]
  },
  {
   "cell_type": "code",
   "execution_count": 54,
   "metadata": {},
   "outputs": [
    {
     "data": {
      "text/html": [
       "<div>\n",
       "<style scoped>\n",
       "    .dataframe tbody tr th:only-of-type {\n",
       "        vertical-align: middle;\n",
       "    }\n",
       "\n",
       "    .dataframe tbody tr th {\n",
       "        vertical-align: top;\n",
       "    }\n",
       "\n",
       "    .dataframe thead th {\n",
       "        text-align: right;\n",
       "    }\n",
       "</style>\n",
       "<table border=\"1\" class=\"dataframe\">\n",
       "  <thead>\n",
       "    <tr style=\"text-align: right;\">\n",
       "      <th></th>\n",
       "      <th>INCOME</th>\n",
       "      <th>TOTAL SPENT</th>\n",
       "      <th>CLUSTER</th>\n",
       "    </tr>\n",
       "  </thead>\n",
       "  <tbody>\n",
       "    <tr>\n",
       "      <th>495</th>\n",
       "      <td>113125</td>\n",
       "      <td>8501.464</td>\n",
       "      <td>3</td>\n",
       "    </tr>\n",
       "    <tr>\n",
       "      <th>496</th>\n",
       "      <td>118108</td>\n",
       "      <td>9903.658</td>\n",
       "      <td>3</td>\n",
       "    </tr>\n",
       "    <tr>\n",
       "      <th>497</th>\n",
       "      <td>97353</td>\n",
       "      <td>6251.466</td>\n",
       "      <td>3</td>\n",
       "    </tr>\n",
       "    <tr>\n",
       "      <th>498</th>\n",
       "      <td>34424</td>\n",
       "      <td>20.010</td>\n",
       "      <td>0</td>\n",
       "    </tr>\n",
       "    <tr>\n",
       "      <th>499</th>\n",
       "      <td>75114</td>\n",
       "      <td>4182.032</td>\n",
       "      <td>2</td>\n",
       "    </tr>\n",
       "  </tbody>\n",
       "</table>\n",
       "</div>"
      ],
      "text/plain": [
       "     INCOME  TOTAL SPENT  CLUSTER\n",
       "495  113125     8501.464        3\n",
       "496  118108     9903.658        3\n",
       "497   97353     6251.466        3\n",
       "498   34424       20.010        0\n",
       "499   75114     4182.032        2"
      ]
     },
     "execution_count": 54,
     "metadata": {},
     "output_type": "execute_result"
    }
   ],
   "source": [
    "# Now merge the first grouping with the segment:\n",
    "cluster_in_out = pd.concat([cluster_input, cluster_output], axis =1)\n",
    "cluster_in_out.tail()"
   ]
  },
  {
   "cell_type": "code",
   "execution_count": 55,
   "metadata": {},
   "outputs": [
    {
     "data": {
      "text/plain": [
       "array([[ 39991.43624161,   2424.81889933],\n",
       "       [138471.625     ,   6972.91513636],\n",
       "       [ 78670.37681159,   5394.79263043],\n",
       "       [111164.016     ,   7803.002616  ]])"
      ]
     },
     "execution_count": 55,
     "metadata": {},
     "output_type": "execute_result"
    }
   ],
   "source": [
    "# centroids\n",
    "kmeans_model.cluster_centers_"
   ]
  },
  {
   "cell_type": "code",
   "execution_count": 56,
   "metadata": {},
   "outputs": [
    {
     "data": {
      "text/plain": [
       "<matplotlib.legend.Legend at 0x7efeff265890>"
      ]
     },
     "execution_count": 56,
     "metadata": {},
     "output_type": "execute_result"
    },
    {
     "data": {
      "image/png": "[encoded data removed]",
      "text/plain": [
       "<Figure size 432x288 with 1 Axes>"
      ]
     },
     "metadata": {
      "needs_background": "light"
     },
     "output_type": "display_data"
    }
   ],
   "source": [
    "# plot the cluster results\n",
    "plt.scatter(cluster_in_out[cluster_in_out.CLUSTER == 0]['INCOME'], cluster_in_out[cluster_in_out.CLUSTER == 0]['TOTAL SPENT'], label = 'Cluster 1')\n",
    "plt.scatter(cluster_in_out[cluster_in_out.CLUSTER == 1]['INCOME'], cluster_in_out[cluster_in_out.CLUSTER == 1]['TOTAL SPENT'], label = 'Cluster 2')\n",
    "plt.scatter(cluster_in_out[cluster_in_out.CLUSTER == 2]['INCOME'], cluster_in_out[cluster_in_out.CLUSTER == 2]['TOTAL SPENT'], label = 'Cluster 3')\n",
    "plt.scatter(cluster_in_out[cluster_in_out.CLUSTER == 3]['INCOME'], cluster_in_out[cluster_in_out.CLUSTER == 3]['TOTAL SPENT'], label = 'Cluster 4')\n",
    "# plot the centroids\n",
    "plt.scatter(kmeans_model.cluster_centers_[:,0], kmeans_model.cluster_centers_[:,1], s = 200, c = 'black', alpha = 0.8, label = \"centroids\")\n",
    "\n",
    "plt.title(\"Customer segmentation using K-MEANS (k = 4)\")\n",
    "plt.xlabel(\"Income\")\n",
    "plt.ylabel(\"Total Spent\")\n",
    "plt.legend()"
   ]
  },
  {
   "cell_type": "markdown",
   "metadata": {},
   "source": [
    "Explore demographics of each cluster i.e. other factors that can give insight such as household size, martial status etc."
   ]
  },
  {
   "cell_type": "code",
   "execution_count": 57,
   "metadata": {},
   "outputs": [
    {
     "data": {
      "text/html": [
       "<div>\n",
       "<style scoped>\n",
       "    .dataframe tbody tr th:only-of-type {\n",
       "        vertical-align: middle;\n",
       "    }\n",
       "\n",
       "    .dataframe tbody tr th {\n",
       "        vertical-align: top;\n",
       "    }\n",
       "\n",
       "    .dataframe thead th {\n",
       "        text-align: right;\n",
       "    }\n",
       "</style>\n",
       "<table border=\"1\" class=\"dataframe\">\n",
       "  <thead>\n",
       "    <tr style=\"text-align: right;\">\n",
       "      <th></th>\n",
       "      <th>CUSTOMERID</th>\n",
       "      <th>GENDER</th>\n",
       "      <th>AGE</th>\n",
       "      <th>INCOME</th>\n",
       "      <th>EXPERIENCE SCORE</th>\n",
       "      <th>LOYALTY GROUP</th>\n",
       "      <th>ENROLLMENT DATE</th>\n",
       "      <th>HOUSEHOLD SIZE</th>\n",
       "      <th>MARITAL STATUS</th>\n",
       "      <th>APPAREL</th>\n",
       "      <th>ELECTRONICS</th>\n",
       "      <th>FOOD</th>\n",
       "      <th>HEALTH &amp; BEAUTY</th>\n",
       "      <th>TOTAL SPENT</th>\n",
       "      <th>AGE BINNED</th>\n",
       "      <th>INCOME BINNED</th>\n",
       "      <th>TOTAL SPENT BINNED</th>\n",
       "      <th>CLUSTER</th>\n",
       "    </tr>\n",
       "  </thead>\n",
       "  <tbody>\n",
       "    <tr>\n",
       "      <th>0</th>\n",
       "      <td>10001</td>\n",
       "      <td>0</td>\n",
       "      <td>64</td>\n",
       "      <td>133498</td>\n",
       "      <td>5</td>\n",
       "      <td>enrolled</td>\n",
       "      <td>06-03-2013</td>\n",
       "      <td>4</td>\n",
       "      <td>Single</td>\n",
       "      <td>4022.430</td>\n",
       "      <td>1601.315</td>\n",
       "      <td>68.688</td>\n",
       "      <td>1134.337</td>\n",
       "      <td>6826.770</td>\n",
       "      <td>(61.2, 75.6]</td>\n",
       "      <td>(124050.4, 149999.0]</td>\n",
       "      <td>(6117.455, 9166.178]</td>\n",
       "      <td>1</td>\n",
       "    </tr>\n",
       "    <tr>\n",
       "      <th>1</th>\n",
       "      <td>10002</td>\n",
       "      <td>0</td>\n",
       "      <td>42</td>\n",
       "      <td>94475</td>\n",
       "      <td>9</td>\n",
       "      <td>notenrolled</td>\n",
       "      <td>0</td>\n",
       "      <td>6</td>\n",
       "      <td>Married</td>\n",
       "      <td>2312.509</td>\n",
       "      <td>2473.163</td>\n",
       "      <td>276.779</td>\n",
       "      <td>0.000</td>\n",
       "      <td>5062.451</td>\n",
       "      <td>(32.4, 46.8]</td>\n",
       "      <td>(72153.2, 98101.8]</td>\n",
       "      <td>(3068.733, 6117.455]</td>\n",
       "      <td>2</td>\n",
       "    </tr>\n",
       "    <tr>\n",
       "      <th>2</th>\n",
       "      <td>10003</td>\n",
       "      <td>0</td>\n",
       "      <td>40</td>\n",
       "      <td>88610</td>\n",
       "      <td>9</td>\n",
       "      <td>enrolled</td>\n",
       "      <td>02-09-2010</td>\n",
       "      <td>5</td>\n",
       "      <td>Married</td>\n",
       "      <td>2887.382</td>\n",
       "      <td>5414.418</td>\n",
       "      <td>260.640</td>\n",
       "      <td>0.000</td>\n",
       "      <td>8562.440</td>\n",
       "      <td>(32.4, 46.8]</td>\n",
       "      <td>(72153.2, 98101.8]</td>\n",
       "      <td>(6117.455, 9166.178]</td>\n",
       "      <td>2</td>\n",
       "    </tr>\n",
       "    <tr>\n",
       "      <th>3</th>\n",
       "      <td>10004</td>\n",
       "      <td>0</td>\n",
       "      <td>38</td>\n",
       "      <td>84313</td>\n",
       "      <td>8</td>\n",
       "      <td>enrolled</td>\n",
       "      <td>06-04-2015</td>\n",
       "      <td>1</td>\n",
       "      <td>Single</td>\n",
       "      <td>3637.213</td>\n",
       "      <td>1840.211</td>\n",
       "      <td>45.270</td>\n",
       "      <td>0.000</td>\n",
       "      <td>5522.694</td>\n",
       "      <td>(32.4, 46.8]</td>\n",
       "      <td>(72153.2, 98101.8]</td>\n",
       "      <td>(3068.733, 6117.455]</td>\n",
       "      <td>2</td>\n",
       "    </tr>\n",
       "    <tr>\n",
       "      <th>4</th>\n",
       "      <td>10005</td>\n",
       "      <td>0</td>\n",
       "      <td>30</td>\n",
       "      <td>51498</td>\n",
       "      <td>3</td>\n",
       "      <td>notenrolled</td>\n",
       "      <td>0</td>\n",
       "      <td>1</td>\n",
       "      <td>Single</td>\n",
       "      <td>213.512</td>\n",
       "      <td>0.000</td>\n",
       "      <td>0.000</td>\n",
       "      <td>0.000</td>\n",
       "      <td>213.512</td>\n",
       "      <td>(17.928, 32.4]</td>\n",
       "      <td>(46204.6, 72153.2]</td>\n",
       "      <td>(4.766, 3068.733]</td>\n",
       "      <td>0</td>\n",
       "    </tr>\n",
       "  </tbody>\n",
       "</table>\n",
       "</div>"
      ],
      "text/plain": [
       "   CUSTOMERID  GENDER  AGE  INCOME  EXPERIENCE SCORE LOYALTY GROUP  \\\n",
       "0       10001       0   64  133498                 5      enrolled   \n",
       "1       10002       0   42   94475                 9   notenrolled   \n",
       "2       10003       0   40   88610                 9      enrolled   \n",
       "3       10004       0   38   84313                 8      enrolled   \n",
       "4       10005       0   30   51498                 3   notenrolled   \n",
       "\n",
       "  ENROLLMENT DATE  HOUSEHOLD SIZE MARITAL STATUS   APPAREL  ELECTRONICS  \\\n",
       "0      06-03-2013               4         Single  4022.430     1601.315   \n",
       "1               0               6        Married  2312.509     2473.163   \n",
       "2      02-09-2010               5        Married  2887.382     5414.418   \n",
       "3      06-04-2015               1         Single  3637.213     1840.211   \n",
       "4               0               1         Single   213.512        0.000   \n",
       "\n",
       "      FOOD  HEALTH & BEAUTY  TOTAL SPENT      AGE BINNED  \\\n",
       "0   68.688         1134.337     6826.770    (61.2, 75.6]   \n",
       "1  276.779            0.000     5062.451    (32.4, 46.8]   \n",
       "2  260.640            0.000     8562.440    (32.4, 46.8]   \n",
       "3   45.270            0.000     5522.694    (32.4, 46.8]   \n",
       "4    0.000            0.000      213.512  (17.928, 32.4]   \n",
       "\n",
       "          INCOME BINNED    TOTAL SPENT BINNED  CLUSTER  \n",
       "0  (124050.4, 149999.0]  (6117.455, 9166.178]        1  \n",
       "1    (72153.2, 98101.8]  (3068.733, 6117.455]        2  \n",
       "2    (72153.2, 98101.8]  (6117.455, 9166.178]        2  \n",
       "3    (72153.2, 98101.8]  (3068.733, 6117.455]        2  \n",
       "4    (46204.6, 72153.2]     (4.766, 3068.733]        0  "
      ]
     },
     "execution_count": 57,
     "metadata": {},
     "output_type": "execute_result"
    }
   ],
   "source": [
    "customer_demographics = pd.concat([customer_all_view, cluster_output], axis = 1)\n",
    "customer_demographics.head()"
   ]
  },
  {
   "cell_type": "code",
   "execution_count": 173,
   "metadata": {},
   "outputs": [
    {
     "data": {
      "text/html": [
       "<div>\n",
       "<style scoped>\n",
       "    .dataframe tbody tr th:only-of-type {\n",
       "        vertical-align: middle;\n",
       "    }\n",
       "\n",
       "    .dataframe tbody tr th {\n",
       "        vertical-align: top;\n",
       "    }\n",
       "\n",
       "    .dataframe thead th {\n",
       "        text-align: right;\n",
       "    }\n",
       "</style>\n",
       "<table border=\"1\" class=\"dataframe\">\n",
       "  <thead>\n",
       "    <tr style=\"text-align: right;\">\n",
       "      <th></th>\n",
       "      <th>AGE</th>\n",
       "      <th>HOUSEHOLD SIZE</th>\n",
       "    </tr>\n",
       "    <tr>\n",
       "      <th>CLUSTER</th>\n",
       "      <th></th>\n",
       "      <th></th>\n",
       "    </tr>\n",
       "  </thead>\n",
       "  <tbody>\n",
       "    <tr>\n",
       "      <th>0</th>\n",
       "      <td>24.932886</td>\n",
       "      <td>2.261745</td>\n",
       "    </tr>\n",
       "    <tr>\n",
       "      <th>1</th>\n",
       "      <td>73.420455</td>\n",
       "      <td>2.454545</td>\n",
       "    </tr>\n",
       "    <tr>\n",
       "      <th>2</th>\n",
       "      <td>36.311594</td>\n",
       "      <td>3.413043</td>\n",
       "    </tr>\n",
       "    <tr>\n",
       "      <th>3</th>\n",
       "      <td>47.768000</td>\n",
       "      <td>3.384000</td>\n",
       "    </tr>\n",
       "  </tbody>\n",
       "</table>\n",
       "</div>"
      ],
      "text/plain": [
       "               AGE  HOUSEHOLD SIZE\n",
       "CLUSTER                           \n",
       "0        24.932886        2.261745\n",
       "1        73.420455        2.454545\n",
       "2        36.311594        3.413043\n",
       "3        47.768000        3.384000"
      ]
     },
     "execution_count": 173,
     "metadata": {},
     "output_type": "execute_result"
    }
   ],
   "source": [
    "# Find the average age and household size of each cluster.\n",
    "customer_demographics.groupby('CLUSTER').agg({'AGE':'mean', 'HOUSEHOLD SIZE': 'mean'})"
   ]
  },
  {
   "cell_type": "code",
   "execution_count": 59,
   "metadata": {},
   "outputs": [],
   "source": [
    "# check rate of enrollment per cluster:\n",
    "def percent_loyalty(series):\n",
    "    percent = ((series.value_counts()['enrolled']/series.count())*100).round(2)\n",
    "    return percent"
   ]
  },
  {
   "cell_type": "code",
   "execution_count": 174,
   "metadata": {},
   "outputs": [
    {
     "data": {
      "text/html": [
       "<div>\n",
       "<style scoped>\n",
       "    .dataframe tbody tr th:only-of-type {\n",
       "        vertical-align: middle;\n",
       "    }\n",
       "\n",
       "    .dataframe tbody tr th {\n",
       "        vertical-align: top;\n",
       "    }\n",
       "\n",
       "    .dataframe thead th {\n",
       "        text-align: right;\n",
       "    }\n",
       "</style>\n",
       "<table border=\"1\" class=\"dataframe\">\n",
       "  <thead>\n",
       "    <tr style=\"text-align: right;\">\n",
       "      <th></th>\n",
       "      <th>AGE</th>\n",
       "      <th>INCOME</th>\n",
       "      <th>HOUSEHOLD SIZE</th>\n",
       "      <th>LOYALTY GROUP</th>\n",
       "    </tr>\n",
       "    <tr>\n",
       "      <th>CLUSTER</th>\n",
       "      <th></th>\n",
       "      <th></th>\n",
       "      <th></th>\n",
       "      <th></th>\n",
       "    </tr>\n",
       "  </thead>\n",
       "  <tbody>\n",
       "    <tr>\n",
       "      <th>0</th>\n",
       "      <td>24.932886</td>\n",
       "      <td>39991.436242</td>\n",
       "      <td>2.261745</td>\n",
       "      <td>50.34</td>\n",
       "    </tr>\n",
       "    <tr>\n",
       "      <th>1</th>\n",
       "      <td>73.420455</td>\n",
       "      <td>138471.625000</td>\n",
       "      <td>2.454545</td>\n",
       "      <td>65.91</td>\n",
       "    </tr>\n",
       "    <tr>\n",
       "      <th>2</th>\n",
       "      <td>36.311594</td>\n",
       "      <td>78670.376812</td>\n",
       "      <td>3.413043</td>\n",
       "      <td>34.06</td>\n",
       "    </tr>\n",
       "    <tr>\n",
       "      <th>3</th>\n",
       "      <td>47.768000</td>\n",
       "      <td>111164.016000</td>\n",
       "      <td>3.384000</td>\n",
       "      <td>67.20</td>\n",
       "    </tr>\n",
       "  </tbody>\n",
       "</table>\n",
       "</div>"
      ],
      "text/plain": [
       "               AGE         INCOME  HOUSEHOLD SIZE  LOYALTY GROUP\n",
       "CLUSTER                                                         \n",
       "0        24.932886   39991.436242        2.261745          50.34\n",
       "1        73.420455  138471.625000        2.454545          65.91\n",
       "2        36.311594   78670.376812        3.413043          34.06\n",
       "3        47.768000  111164.016000        3.384000          67.20"
      ]
     },
     "execution_count": 174,
     "metadata": {},
     "output_type": "execute_result"
    }
   ],
   "source": [
    "cluster_chars = customer_demographics.groupby(\"CLUSTER\").agg({'AGE':'mean','INCOME': 'mean', 'HOUSEHOLD SIZE': 'mean','LOYALTY GROUP': percent_loyalty})\n",
    "cluster_chars"
   ]
  },
  {
   "cell_type": "code",
   "execution_count": 61,
   "metadata": {},
   "outputs": [
    {
     "name": "stdout",
     "output_type": "stream",
     "text": [
      "Cluster 0: made up of people averagely aged 24.93 years old,live in a household of approximately 2 people. 50.34% of people in this cluster are are interested in the loyalty program.\n",
      "\n",
      "\n",
      "Cluster 1: made up of people averagely aged 73.42 years old,live in a household of approximately 2 people. 65.91% of people in this cluster are are interested in the loyalty program.\n",
      "\n",
      "\n",
      "Cluster 2: made up of people averagely aged 36.31 years old,live in a household of approximately 3 people. 34.06% of people in this cluster are are interested in the loyalty program.\n",
      "\n",
      "\n",
      "Cluster 3: made up of people averagely aged 47.77 years old,live in a household of approximately 3 people. 67.2% of people in this cluster are are interested in the loyalty program.\n"
     ]
    }
   ],
   "source": [
    "print(\"Cluster 0: made up of people averagely aged \"+str(cluster_chars.iloc[0]['AGE'].round(2)) + \" years old,\\\n",
    "live in a household of approximately \"+str(int(cluster_chars.iloc[0]['HOUSEHOLD SIZE'])) + \" people. \" \\\n",
    "+str(cluster_chars.iloc[0]['LOYALTY GROUP'])+ \"% of people in this cluster are are interested in the loyalty program.\")\n",
    "print(\"\\n\")\n",
    "print(\"Cluster 1: made up of people averagely aged \"+str(cluster_chars.iloc[1]['AGE'].round(2)) + \" years old,\\\n",
    "live in a household of approximately \"+str(int(cluster_chars.iloc[1]['HOUSEHOLD SIZE'])) + \" people. \" \\\n",
    "+str(cluster_chars.iloc[1]['LOYALTY GROUP'])+ \"% of people in this cluster are are interested in the loyalty program.\")\n",
    "print(\"\\n\")\n",
    "print(\"Cluster 2: made up of people averagely aged \"+str(cluster_chars.iloc[2]['AGE'].round(2)) + \" years old,\\\n",
    "live in a household of approximately \"+str(int(cluster_chars.iloc[2]['HOUSEHOLD SIZE'])) + \" people. \" \\\n",
    "+str(cluster_chars.iloc[2]['LOYALTY GROUP'])+ \"% of people in this cluster are are interested in the loyalty program.\")\n",
    "print(\"\\n\")\n",
    "print(\"Cluster 3: made up of people averagely aged \"+str(cluster_chars.iloc[3]['AGE'].round(2)) + \" years old,\\\n",
    "live in a household of approximately \"+str(int(cluster_chars.iloc[3]['HOUSEHOLD SIZE'])) + \" people. \" \\\n",
    "+str(cluster_chars.iloc[3]['LOYALTY GROUP'])+ \"% of people in this cluster are are interested in the loyalty program.\")\n",
    "\n"
   ]
  },
  {
   "cell_type": "markdown",
   "metadata": {},
   "source": [
    "**Retailer X should lighlty market to clusters 3 and 1(ages 47.84 and 73.61) to increase the number of customers in the loyalty group. They should however look for better ways to market the loyalty program better to the clusters clusters 0 and 2(ages 34.31 and 24.93).** It can also be observed that the groups with a higher income are more interested in the loyalty program compared to those with a lower income.\n",
    "\n",
    "Experience in the store does not give any meaningful insight.\n",
    "\n",
    "\n",
    "\n",
    "## Hierarchical Clustering"
   ]
  },
  {
   "cell_type": "code",
   "execution_count": 62,
   "metadata": {},
   "outputs": [],
   "source": [
    "from sklearn.cluster import AgglomerativeClustering"
   ]
  },
  {
   "cell_type": "code",
   "execution_count": 63,
   "metadata": {},
   "outputs": [
    {
     "data": {
      "text/plain": [
       "AgglomerativeClustering(affinity='euclidean', compute_full_tree='auto',\n",
       "                        connectivity=None, distance_threshold=None,\n",
       "                        linkage='ward', memory=None, n_clusters=4)"
      ]
     },
     "execution_count": 63,
     "metadata": {},
     "output_type": "execute_result"
    }
   ],
   "source": [
    "agglomerative_model = AgglomerativeClustering(n_clusters = 4)\n",
    "agglomerative_model"
   ]
  },
  {
   "cell_type": "code",
   "execution_count": 64,
   "metadata": {},
   "outputs": [
    {
     "data": {
      "text/plain": [
       "array([0, 3, 3, 3, 1, 0, 1, 0, 3, 1, 2, 3, 3, 3, 1, 3, 3, 0, 0, 1, 0, 0,\n",
       "       0, 1, 0, 0, 1, 2, 2, 0, 1, 2, 2, 3, 2, 2, 1, 0, 0, 1, 2, 1, 1, 1,\n",
       "       0, 2, 2, 1, 0, 1, 0, 2, 1, 1, 3, 2, 0, 0, 0, 2, 3, 0, 0, 0, 0, 1,\n",
       "       3, 0, 2, 1, 1, 2, 1, 1, 0, 2, 3, 2, 1, 0, 1, 0, 0, 0, 1, 3, 0, 1,\n",
       "       3, 2, 0, 0, 0, 0, 0, 1, 3, 1, 0, 0, 2, 2, 1, 2, 1, 3, 0, 2, 1, 1,\n",
       "       2, 2, 1, 2, 3, 1, 0, 0, 1, 1, 2, 3, 0, 2, 3, 1, 0, 1, 2, 0, 1, 3,\n",
       "       1, 3, 0, 3, 0, 0, 0, 1, 1, 2, 1, 2, 1, 0, 3, 2, 3, 1, 3, 0, 0, 0,\n",
       "       3, 3, 1, 1, 0, 2, 0, 2, 0, 0, 1, 1, 2, 0, 1, 2, 0, 2, 0, 3, 0, 1,\n",
       "       0, 0, 3, 2, 0, 1, 1, 2, 0, 0, 0, 0, 2, 0, 2, 0, 0, 0, 3, 0, 0, 0,\n",
       "       0, 3, 3, 2, 0, 0, 3, 2, 3, 0, 0, 0, 0, 2, 0, 1, 0, 0, 1, 3, 1, 1,\n",
       "       1, 2, 0, 1, 1, 1, 0, 2, 2, 3, 3, 1, 0, 3, 3, 2, 0, 0, 1, 1, 2, 1,\n",
       "       3, 3, 1, 2, 0, 0, 0, 2, 1, 0, 1, 0, 2, 1, 2, 0, 0, 3, 2, 0, 1, 3,\n",
       "       3, 0, 3, 1, 1, 0, 0, 1, 0, 1, 2, 1, 0, 1, 0, 0, 3, 3, 1, 3, 0, 1,\n",
       "       0, 3, 0, 0, 0, 2, 2, 0, 2, 1, 2, 2, 1, 3, 2, 1, 3, 0, 1, 0, 2, 2,\n",
       "       0, 2, 1, 3, 1, 3, 3, 1, 2, 0, 3, 1, 3, 1, 2, 1, 2, 1, 1, 2, 0, 1,\n",
       "       2, 3, 2, 1, 3, 2, 2, 0, 3, 3, 3, 0, 0, 1, 3, 0, 1, 0, 0, 1, 2, 3,\n",
       "       1, 0, 0, 0, 0, 1, 1, 3, 0, 3, 2, 0, 3, 2, 1, 0, 0, 3, 0, 1, 1, 0,\n",
       "       1, 0, 0, 1, 1, 3, 3, 2, 2, 2, 0, 1, 2, 3, 0, 2, 0, 1, 3, 0, 2, 0,\n",
       "       0, 3, 0, 1, 0, 0, 1, 1, 0, 1, 1, 0, 3, 3, 0, 3, 2, 1, 0, 2, 0, 0,\n",
       "       0, 1, 2, 3, 1, 3, 0, 1, 0, 0, 1, 2, 0, 1, 1, 2, 0, 3, 0, 0, 3, 3,\n",
       "       0, 2, 1, 0, 2, 1, 0, 2, 1, 3, 1, 2, 2, 2, 0, 3, 0, 0, 3, 2, 0, 3,\n",
       "       0, 1, 0, 0, 1, 2, 2, 0, 0, 1, 0, 0, 0, 3, 3, 1, 2, 2, 2, 0, 0, 0,\n",
       "       3, 2, 3, 2, 0, 0, 3, 1, 0, 1, 1, 0, 0, 3, 2, 1])"
      ]
     },
     "execution_count": 64,
     "metadata": {},
     "output_type": "execute_result"
    }
   ],
   "source": [
    "# same cluster input as before: income and total spent\n",
    "h_cluster_output = agglomerative_model.fit_predict(cluster_input)\n",
    "h_cluster_output"
   ]
  },
  {
   "cell_type": "code",
   "execution_count": 65,
   "metadata": {},
   "outputs": [
    {
     "data": {
      "text/html": [
       "<div>\n",
       "<style scoped>\n",
       "    .dataframe tbody tr th:only-of-type {\n",
       "        vertical-align: middle;\n",
       "    }\n",
       "\n",
       "    .dataframe tbody tr th {\n",
       "        vertical-align: top;\n",
       "    }\n",
       "\n",
       "    .dataframe thead th {\n",
       "        text-align: right;\n",
       "    }\n",
       "</style>\n",
       "<table border=\"1\" class=\"dataframe\">\n",
       "  <thead>\n",
       "    <tr style=\"text-align: right;\">\n",
       "      <th></th>\n",
       "      <th>CLUSTER</th>\n",
       "    </tr>\n",
       "  </thead>\n",
       "  <tbody>\n",
       "    <tr>\n",
       "      <th>0</th>\n",
       "      <td>0</td>\n",
       "    </tr>\n",
       "    <tr>\n",
       "      <th>1</th>\n",
       "      <td>3</td>\n",
       "    </tr>\n",
       "    <tr>\n",
       "      <th>2</th>\n",
       "      <td>3</td>\n",
       "    </tr>\n",
       "    <tr>\n",
       "      <th>3</th>\n",
       "      <td>3</td>\n",
       "    </tr>\n",
       "    <tr>\n",
       "      <th>4</th>\n",
       "      <td>1</td>\n",
       "    </tr>\n",
       "  </tbody>\n",
       "</table>\n",
       "</div>"
      ],
      "text/plain": [
       "   CLUSTER\n",
       "0        0\n",
       "1        3\n",
       "2        3\n",
       "3        3\n",
       "4        1"
      ]
     },
     "execution_count": 65,
     "metadata": {},
     "output_type": "execute_result"
    }
   ],
   "source": [
    "h_cluster_output = pd.DataFrame(h_cluster_output, columns = ['CLUSTER'])\n",
    "h_cluster_output.head()"
   ]
  },
  {
   "cell_type": "code",
   "execution_count": 66,
   "metadata": {},
   "outputs": [
    {
     "data": {
      "text/html": [
       "<div>\n",
       "<style scoped>\n",
       "    .dataframe tbody tr th:only-of-type {\n",
       "        vertical-align: middle;\n",
       "    }\n",
       "\n",
       "    .dataframe tbody tr th {\n",
       "        vertical-align: top;\n",
       "    }\n",
       "\n",
       "    .dataframe thead th {\n",
       "        text-align: right;\n",
       "    }\n",
       "</style>\n",
       "<table border=\"1\" class=\"dataframe\">\n",
       "  <thead>\n",
       "    <tr style=\"text-align: right;\">\n",
       "      <th></th>\n",
       "      <th>INCOME</th>\n",
       "      <th>TOTAL SPENT</th>\n",
       "      <th>CLUSTER</th>\n",
       "    </tr>\n",
       "  </thead>\n",
       "  <tbody>\n",
       "    <tr>\n",
       "      <th>0</th>\n",
       "      <td>133498</td>\n",
       "      <td>6826.770</td>\n",
       "      <td>0</td>\n",
       "    </tr>\n",
       "    <tr>\n",
       "      <th>1</th>\n",
       "      <td>94475</td>\n",
       "      <td>5062.451</td>\n",
       "      <td>3</td>\n",
       "    </tr>\n",
       "    <tr>\n",
       "      <th>2</th>\n",
       "      <td>88610</td>\n",
       "      <td>8562.440</td>\n",
       "      <td>3</td>\n",
       "    </tr>\n",
       "    <tr>\n",
       "      <th>3</th>\n",
       "      <td>84313</td>\n",
       "      <td>5522.694</td>\n",
       "      <td>3</td>\n",
       "    </tr>\n",
       "    <tr>\n",
       "      <th>4</th>\n",
       "      <td>51498</td>\n",
       "      <td>213.512</td>\n",
       "      <td>1</td>\n",
       "    </tr>\n",
       "  </tbody>\n",
       "</table>\n",
       "</div>"
      ],
      "text/plain": [
       "   INCOME  TOTAL SPENT  CLUSTER\n",
       "0  133498     6826.770        0\n",
       "1   94475     5062.451        3\n",
       "2   88610     8562.440        3\n",
       "3   84313     5522.694        3\n",
       "4   51498      213.512        1"
      ]
     },
     "execution_count": 66,
     "metadata": {},
     "output_type": "execute_result"
    }
   ],
   "source": [
    "h_cluster_in_out = pd.concat([cluster_input, h_cluster_output], axis =1)\n",
    "h_cluster_in_out.head()"
   ]
  },
  {
   "cell_type": "code",
   "execution_count": 67,
   "metadata": {},
   "outputs": [
    {
     "data": {
      "text/html": [
       "<div>\n",
       "<style scoped>\n",
       "    .dataframe tbody tr th:only-of-type {\n",
       "        vertical-align: middle;\n",
       "    }\n",
       "\n",
       "    .dataframe tbody tr th {\n",
       "        vertical-align: top;\n",
       "    }\n",
       "\n",
       "    .dataframe thead th {\n",
       "        text-align: right;\n",
       "    }\n",
       "</style>\n",
       "<table border=\"1\" class=\"dataframe\">\n",
       "  <thead>\n",
       "    <tr style=\"text-align: right;\">\n",
       "      <th></th>\n",
       "      <th>CUSTOMERID</th>\n",
       "      <th>GENDER</th>\n",
       "      <th>AGE</th>\n",
       "      <th>INCOME</th>\n",
       "      <th>EXPERIENCE SCORE</th>\n",
       "      <th>LOYALTY GROUP</th>\n",
       "      <th>ENROLLMENT DATE</th>\n",
       "      <th>HOUSEHOLD SIZE</th>\n",
       "      <th>MARITAL STATUS</th>\n",
       "      <th>APPAREL</th>\n",
       "      <th>ELECTRONICS</th>\n",
       "      <th>FOOD</th>\n",
       "      <th>HEALTH &amp; BEAUTY</th>\n",
       "      <th>TOTAL SPENT</th>\n",
       "      <th>AGE BINNED</th>\n",
       "      <th>INCOME BINNED</th>\n",
       "      <th>TOTAL SPENT BINNED</th>\n",
       "      <th>CLUSTER</th>\n",
       "    </tr>\n",
       "  </thead>\n",
       "  <tbody>\n",
       "    <tr>\n",
       "      <th>0</th>\n",
       "      <td>10001</td>\n",
       "      <td>0</td>\n",
       "      <td>64</td>\n",
       "      <td>133498</td>\n",
       "      <td>5</td>\n",
       "      <td>enrolled</td>\n",
       "      <td>06-03-2013</td>\n",
       "      <td>4</td>\n",
       "      <td>Single</td>\n",
       "      <td>4022.430</td>\n",
       "      <td>1601.315</td>\n",
       "      <td>68.688</td>\n",
       "      <td>1134.337</td>\n",
       "      <td>6826.770</td>\n",
       "      <td>(61.2, 75.6]</td>\n",
       "      <td>(124050.4, 149999.0]</td>\n",
       "      <td>(6117.455, 9166.178]</td>\n",
       "      <td>0</td>\n",
       "    </tr>\n",
       "    <tr>\n",
       "      <th>1</th>\n",
       "      <td>10002</td>\n",
       "      <td>0</td>\n",
       "      <td>42</td>\n",
       "      <td>94475</td>\n",
       "      <td>9</td>\n",
       "      <td>notenrolled</td>\n",
       "      <td>0</td>\n",
       "      <td>6</td>\n",
       "      <td>Married</td>\n",
       "      <td>2312.509</td>\n",
       "      <td>2473.163</td>\n",
       "      <td>276.779</td>\n",
       "      <td>0.000</td>\n",
       "      <td>5062.451</td>\n",
       "      <td>(32.4, 46.8]</td>\n",
       "      <td>(72153.2, 98101.8]</td>\n",
       "      <td>(3068.733, 6117.455]</td>\n",
       "      <td>3</td>\n",
       "    </tr>\n",
       "    <tr>\n",
       "      <th>2</th>\n",
       "      <td>10003</td>\n",
       "      <td>0</td>\n",
       "      <td>40</td>\n",
       "      <td>88610</td>\n",
       "      <td>9</td>\n",
       "      <td>enrolled</td>\n",
       "      <td>02-09-2010</td>\n",
       "      <td>5</td>\n",
       "      <td>Married</td>\n",
       "      <td>2887.382</td>\n",
       "      <td>5414.418</td>\n",
       "      <td>260.640</td>\n",
       "      <td>0.000</td>\n",
       "      <td>8562.440</td>\n",
       "      <td>(32.4, 46.8]</td>\n",
       "      <td>(72153.2, 98101.8]</td>\n",
       "      <td>(6117.455, 9166.178]</td>\n",
       "      <td>3</td>\n",
       "    </tr>\n",
       "    <tr>\n",
       "      <th>3</th>\n",
       "      <td>10004</td>\n",
       "      <td>0</td>\n",
       "      <td>38</td>\n",
       "      <td>84313</td>\n",
       "      <td>8</td>\n",
       "      <td>enrolled</td>\n",
       "      <td>06-04-2015</td>\n",
       "      <td>1</td>\n",
       "      <td>Single</td>\n",
       "      <td>3637.213</td>\n",
       "      <td>1840.211</td>\n",
       "      <td>45.270</td>\n",
       "      <td>0.000</td>\n",
       "      <td>5522.694</td>\n",
       "      <td>(32.4, 46.8]</td>\n",
       "      <td>(72153.2, 98101.8]</td>\n",
       "      <td>(3068.733, 6117.455]</td>\n",
       "      <td>3</td>\n",
       "    </tr>\n",
       "    <tr>\n",
       "      <th>4</th>\n",
       "      <td>10005</td>\n",
       "      <td>0</td>\n",
       "      <td>30</td>\n",
       "      <td>51498</td>\n",
       "      <td>3</td>\n",
       "      <td>notenrolled</td>\n",
       "      <td>0</td>\n",
       "      <td>1</td>\n",
       "      <td>Single</td>\n",
       "      <td>213.512</td>\n",
       "      <td>0.000</td>\n",
       "      <td>0.000</td>\n",
       "      <td>0.000</td>\n",
       "      <td>213.512</td>\n",
       "      <td>(17.928, 32.4]</td>\n",
       "      <td>(46204.6, 72153.2]</td>\n",
       "      <td>(4.766, 3068.733]</td>\n",
       "      <td>1</td>\n",
       "    </tr>\n",
       "  </tbody>\n",
       "</table>\n",
       "</div>"
      ],
      "text/plain": [
       "   CUSTOMERID  GENDER  AGE  INCOME  EXPERIENCE SCORE LOYALTY GROUP  \\\n",
       "0       10001       0   64  133498                 5      enrolled   \n",
       "1       10002       0   42   94475                 9   notenrolled   \n",
       "2       10003       0   40   88610                 9      enrolled   \n",
       "3       10004       0   38   84313                 8      enrolled   \n",
       "4       10005       0   30   51498                 3   notenrolled   \n",
       "\n",
       "  ENROLLMENT DATE  HOUSEHOLD SIZE MARITAL STATUS   APPAREL  ELECTRONICS  \\\n",
       "0      06-03-2013               4         Single  4022.430     1601.315   \n",
       "1               0               6        Married  2312.509     2473.163   \n",
       "2      02-09-2010               5        Married  2887.382     5414.418   \n",
       "3      06-04-2015               1         Single  3637.213     1840.211   \n",
       "4               0               1         Single   213.512        0.000   \n",
       "\n",
       "      FOOD  HEALTH & BEAUTY  TOTAL SPENT      AGE BINNED  \\\n",
       "0   68.688         1134.337     6826.770    (61.2, 75.6]   \n",
       "1  276.779            0.000     5062.451    (32.4, 46.8]   \n",
       "2  260.640            0.000     8562.440    (32.4, 46.8]   \n",
       "3   45.270            0.000     5522.694    (32.4, 46.8]   \n",
       "4    0.000            0.000      213.512  (17.928, 32.4]   \n",
       "\n",
       "          INCOME BINNED    TOTAL SPENT BINNED  CLUSTER  \n",
       "0  (124050.4, 149999.0]  (6117.455, 9166.178]        0  \n",
       "1    (72153.2, 98101.8]  (3068.733, 6117.455]        3  \n",
       "2    (72153.2, 98101.8]  (6117.455, 9166.178]        3  \n",
       "3    (72153.2, 98101.8]  (3068.733, 6117.455]        3  \n",
       "4    (46204.6, 72153.2]     (4.766, 3068.733]        1  "
      ]
     },
     "execution_count": 67,
     "metadata": {},
     "output_type": "execute_result"
    }
   ],
   "source": [
    "# explore relationships per cluster\n",
    "h_customer_demographics = pd.concat([customer_all_view, h_cluster_output], axis = 1)\n",
    "h_customer_demographics.head()"
   ]
  },
  {
   "cell_type": "code",
   "execution_count": 176,
   "metadata": {},
   "outputs": [
    {
     "data": {
      "text/html": [
       "<div>\n",
       "<style scoped>\n",
       "    .dataframe tbody tr th:only-of-type {\n",
       "        vertical-align: middle;\n",
       "    }\n",
       "\n",
       "    .dataframe tbody tr th {\n",
       "        vertical-align: top;\n",
       "    }\n",
       "\n",
       "    .dataframe thead th {\n",
       "        text-align: right;\n",
       "    }\n",
       "</style>\n",
       "<table border=\"1\" class=\"dataframe\">\n",
       "  <thead>\n",
       "    <tr style=\"text-align: right;\">\n",
       "      <th></th>\n",
       "      <th>AGE</th>\n",
       "      <th>HOUSEHOLD SIZE</th>\n",
       "    </tr>\n",
       "    <tr>\n",
       "      <th>CLUSTER</th>\n",
       "      <th></th>\n",
       "      <th></th>\n",
       "    </tr>\n",
       "  </thead>\n",
       "  <tbody>\n",
       "    <tr>\n",
       "      <th>0</th>\n",
       "      <td>61.382022</td>\n",
       "      <td>3</td>\n",
       "    </tr>\n",
       "    <tr>\n",
       "      <th>1</th>\n",
       "      <td>32.430769</td>\n",
       "      <td>3</td>\n",
       "    </tr>\n",
       "    <tr>\n",
       "      <th>2</th>\n",
       "      <td>22.620000</td>\n",
       "      <td>2</td>\n",
       "    </tr>\n",
       "    <tr>\n",
       "      <th>3</th>\n",
       "      <td>40.804348</td>\n",
       "      <td>4</td>\n",
       "    </tr>\n",
       "  </tbody>\n",
       "</table>\n",
       "</div>"
      ],
      "text/plain": [
       "               AGE  HOUSEHOLD SIZE\n",
       "CLUSTER                           \n",
       "0        61.382022               3\n",
       "1        32.430769               3\n",
       "2        22.620000               2\n",
       "3        40.804348               4"
      ]
     },
     "execution_count": 176,
     "metadata": {},
     "output_type": "execute_result"
    }
   ],
   "source": [
    "h_customer_demographics.groupby('CLUSTER').agg({'AGE':'mean', 'HOUSEHOLD SIZE': 'median'})"
   ]
  },
  {
   "cell_type": "code",
   "execution_count": 177,
   "metadata": {},
   "outputs": [
    {
     "data": {
      "text/html": [
       "<div>\n",
       "<style scoped>\n",
       "    .dataframe tbody tr th:only-of-type {\n",
       "        vertical-align: middle;\n",
       "    }\n",
       "\n",
       "    .dataframe tbody tr th {\n",
       "        vertical-align: top;\n",
       "    }\n",
       "\n",
       "    .dataframe thead th {\n",
       "        text-align: right;\n",
       "    }\n",
       "</style>\n",
       "<table border=\"1\" class=\"dataframe\">\n",
       "  <thead>\n",
       "    <tr style=\"text-align: right;\">\n",
       "      <th></th>\n",
       "      <th>AGE</th>\n",
       "      <th>HOUSEHOLD SIZE</th>\n",
       "      <th>LOYALTY GROUP</th>\n",
       "    </tr>\n",
       "    <tr>\n",
       "      <th>CLUSTER</th>\n",
       "      <th></th>\n",
       "      <th></th>\n",
       "      <th></th>\n",
       "    </tr>\n",
       "  </thead>\n",
       "  <tbody>\n",
       "    <tr>\n",
       "      <th>0</th>\n",
       "      <td>61.382022</td>\n",
       "      <td>3</td>\n",
       "      <td>70.22</td>\n",
       "    </tr>\n",
       "    <tr>\n",
       "      <th>1</th>\n",
       "      <td>32.430769</td>\n",
       "      <td>3</td>\n",
       "      <td>33.85</td>\n",
       "    </tr>\n",
       "    <tr>\n",
       "      <th>2</th>\n",
       "      <td>22.620000</td>\n",
       "      <td>2</td>\n",
       "      <td>58.00</td>\n",
       "    </tr>\n",
       "    <tr>\n",
       "      <th>3</th>\n",
       "      <td>40.804348</td>\n",
       "      <td>4</td>\n",
       "      <td>40.22</td>\n",
       "    </tr>\n",
       "  </tbody>\n",
       "</table>\n",
       "</div>"
      ],
      "text/plain": [
       "               AGE  HOUSEHOLD SIZE  LOYALTY GROUP\n",
       "CLUSTER                                          \n",
       "0        61.382022               3          70.22\n",
       "1        32.430769               3          33.85\n",
       "2        22.620000               2          58.00\n",
       "3        40.804348               4          40.22"
      ]
     },
     "execution_count": 177,
     "metadata": {},
     "output_type": "execute_result"
    }
   ],
   "source": [
    "h_customer_demographics.groupby('CLUSTER').agg({'AGE':'mean', 'HOUSEHOLD SIZE': 'median', 'LOYALTY GROUP': percent_loyalty})"
   ]
  },
  {
   "cell_type": "markdown",
   "metadata": {},
   "source": [
    "**Cluster 0:** made up of people averagely aged 61.38 years, have the highest income among the 4 clusters and live in a household with approximately 3 people. 70.22% of customers in this cluster are enrolled in the loyalty program.\n",
    "\n",
    "**Cluster 1:** made up of customers averagely aged 32.43, live in a household with approximately 3 people and only 33.85% of customers in this cluster have enrolled in the loyalty program.\n",
    "\n",
    "**Cluster 2:** made up customers averagely aged 22.62, have the least income among the 4 clusters and live in a household with approximately 2 people. 58% of people in this group are enrolled in the loyalty program.\n",
    "\n",
    "**Cluster 3:** made up of people averagely aged 40.80, live in a household with approximately 4 people. 40.22% of customers in this cluster have enrolled in the loyalty program.\n",
    "\n",
    "**From Hierarchical clustering, the results indicate that the loyalty program should be lightly marketed to clusters 0 and 2(ages 61.38 and 22.62), to increase their numbers because they are more receptive to the program. More should be invested in marketing to people in clusters 1 and 3(ages 32.43 and 40.80).**\n",
    "\n",
    "\n",
    "The other factors affecting loyalty don't seem to give any meaningful insight, i.e. Marital status, total spent and experience score."
   ]
  },
  {
   "cell_type": "markdown",
   "metadata": {},
   "source": [
    "## Classification\n",
    "\n",
    "After exploring various relationships and how they might affect loyalty and increased spending, create a model that can predict who is more likely to enroll into the loyalty program."
   ]
  },
  {
   "cell_type": "code",
   "execution_count": 70,
   "metadata": {},
   "outputs": [
    {
     "data": {
      "text/html": [
       "<div>\n",
       "<style scoped>\n",
       "    .dataframe tbody tr th:only-of-type {\n",
       "        vertical-align: middle;\n",
       "    }\n",
       "\n",
       "    .dataframe tbody tr th {\n",
       "        vertical-align: top;\n",
       "    }\n",
       "\n",
       "    .dataframe thead th {\n",
       "        text-align: right;\n",
       "    }\n",
       "</style>\n",
       "<table border=\"1\" class=\"dataframe\">\n",
       "  <thead>\n",
       "    <tr style=\"text-align: right;\">\n",
       "      <th></th>\n",
       "      <th>AGE</th>\n",
       "      <th>INCOME</th>\n",
       "      <th>TOTAL SPENT</th>\n",
       "      <th>EXPERIENCE SCORE</th>\n",
       "      <th>MARITAL STATUS</th>\n",
       "      <th>LOYALTY GROUP</th>\n",
       "    </tr>\n",
       "  </thead>\n",
       "  <tbody>\n",
       "    <tr>\n",
       "      <th>0</th>\n",
       "      <td>64</td>\n",
       "      <td>133498</td>\n",
       "      <td>6826.770</td>\n",
       "      <td>5</td>\n",
       "      <td>Single</td>\n",
       "      <td>enrolled</td>\n",
       "    </tr>\n",
       "    <tr>\n",
       "      <th>1</th>\n",
       "      <td>42</td>\n",
       "      <td>94475</td>\n",
       "      <td>5062.451</td>\n",
       "      <td>9</td>\n",
       "      <td>Married</td>\n",
       "      <td>notenrolled</td>\n",
       "    </tr>\n",
       "    <tr>\n",
       "      <th>2</th>\n",
       "      <td>40</td>\n",
       "      <td>88610</td>\n",
       "      <td>8562.440</td>\n",
       "      <td>9</td>\n",
       "      <td>Married</td>\n",
       "      <td>enrolled</td>\n",
       "    </tr>\n",
       "    <tr>\n",
       "      <th>3</th>\n",
       "      <td>38</td>\n",
       "      <td>84313</td>\n",
       "      <td>5522.694</td>\n",
       "      <td>8</td>\n",
       "      <td>Single</td>\n",
       "      <td>enrolled</td>\n",
       "    </tr>\n",
       "    <tr>\n",
       "      <th>4</th>\n",
       "      <td>30</td>\n",
       "      <td>51498</td>\n",
       "      <td>213.512</td>\n",
       "      <td>3</td>\n",
       "      <td>Single</td>\n",
       "      <td>notenrolled</td>\n",
       "    </tr>\n",
       "  </tbody>\n",
       "</table>\n",
       "</div>"
      ],
      "text/plain": [
       "   AGE  INCOME  TOTAL SPENT  EXPERIENCE SCORE MARITAL STATUS LOYALTY GROUP\n",
       "0   64  133498     6826.770                 5         Single      enrolled\n",
       "1   42   94475     5062.451                 9        Married   notenrolled\n",
       "2   40   88610     8562.440                 9        Married      enrolled\n",
       "3   38   84313     5522.694                 8         Single      enrolled\n",
       "4   30   51498      213.512                 3         Single   notenrolled"
      ]
     },
     "execution_count": 70,
     "metadata": {},
     "output_type": "execute_result"
    }
   ],
   "source": [
    "# Create a dataframe with the most relevant features:\n",
    "classification_df = customer_all_view[['AGE', 'INCOME', 'TOTAL SPENT', 'EXPERIENCE SCORE', 'MARITAL STATUS', 'LOYALTY GROUP']]\n",
    "classification_df.head()"
   ]
  },
  {
   "cell_type": "code",
   "execution_count": 71,
   "metadata": {},
   "outputs": [
    {
     "data": {
      "text/html": [
       "<div>\n",
       "<style scoped>\n",
       "    .dataframe tbody tr th:only-of-type {\n",
       "        vertical-align: middle;\n",
       "    }\n",
       "\n",
       "    .dataframe tbody tr th {\n",
       "        vertical-align: top;\n",
       "    }\n",
       "\n",
       "    .dataframe thead th {\n",
       "        text-align: right;\n",
       "    }\n",
       "</style>\n",
       "<table border=\"1\" class=\"dataframe\">\n",
       "  <thead>\n",
       "    <tr style=\"text-align: right;\">\n",
       "      <th></th>\n",
       "      <th>LOYALTY GROUP</th>\n",
       "    </tr>\n",
       "  </thead>\n",
       "  <tbody>\n",
       "    <tr>\n",
       "      <th>0</th>\n",
       "      <td>enrolled</td>\n",
       "    </tr>\n",
       "    <tr>\n",
       "      <th>1</th>\n",
       "      <td>notenrolled</td>\n",
       "    </tr>\n",
       "    <tr>\n",
       "      <th>2</th>\n",
       "      <td>enrolled</td>\n",
       "    </tr>\n",
       "    <tr>\n",
       "      <th>3</th>\n",
       "      <td>enrolled</td>\n",
       "    </tr>\n",
       "    <tr>\n",
       "      <th>4</th>\n",
       "      <td>notenrolled</td>\n",
       "    </tr>\n",
       "  </tbody>\n",
       "</table>\n",
       "</div>"
      ],
      "text/plain": [
       "  LOYALTY GROUP\n",
       "0      enrolled\n",
       "1   notenrolled\n",
       "2      enrolled\n",
       "3      enrolled\n",
       "4   notenrolled"
      ]
     },
     "execution_count": 71,
     "metadata": {},
     "output_type": "execute_result"
    }
   ],
   "source": [
    "# separate input variables from target variable:\n",
    "target_var = pd.DataFrame(classification_df['LOYALTY GROUP'])\n",
    "target_var.head()"
   ]
  },
  {
   "cell_type": "code",
   "execution_count": 72,
   "metadata": {},
   "outputs": [
    {
     "data": {
      "text/html": [
       "<div>\n",
       "<style scoped>\n",
       "    .dataframe tbody tr th:only-of-type {\n",
       "        vertical-align: middle;\n",
       "    }\n",
       "\n",
       "    .dataframe tbody tr th {\n",
       "        vertical-align: top;\n",
       "    }\n",
       "\n",
       "    .dataframe thead th {\n",
       "        text-align: right;\n",
       "    }\n",
       "</style>\n",
       "<table border=\"1\" class=\"dataframe\">\n",
       "  <thead>\n",
       "    <tr style=\"text-align: right;\">\n",
       "      <th></th>\n",
       "      <th>AGE</th>\n",
       "      <th>INCOME</th>\n",
       "      <th>TOTAL SPENT</th>\n",
       "      <th>EXPERIENCE SCORE</th>\n",
       "      <th>MARITAL STATUS</th>\n",
       "    </tr>\n",
       "  </thead>\n",
       "  <tbody>\n",
       "    <tr>\n",
       "      <th>0</th>\n",
       "      <td>64</td>\n",
       "      <td>133498</td>\n",
       "      <td>6826.770</td>\n",
       "      <td>5</td>\n",
       "      <td>Single</td>\n",
       "    </tr>\n",
       "    <tr>\n",
       "      <th>1</th>\n",
       "      <td>42</td>\n",
       "      <td>94475</td>\n",
       "      <td>5062.451</td>\n",
       "      <td>9</td>\n",
       "      <td>Married</td>\n",
       "    </tr>\n",
       "    <tr>\n",
       "      <th>2</th>\n",
       "      <td>40</td>\n",
       "      <td>88610</td>\n",
       "      <td>8562.440</td>\n",
       "      <td>9</td>\n",
       "      <td>Married</td>\n",
       "    </tr>\n",
       "    <tr>\n",
       "      <th>3</th>\n",
       "      <td>38</td>\n",
       "      <td>84313</td>\n",
       "      <td>5522.694</td>\n",
       "      <td>8</td>\n",
       "      <td>Single</td>\n",
       "    </tr>\n",
       "    <tr>\n",
       "      <th>4</th>\n",
       "      <td>30</td>\n",
       "      <td>51498</td>\n",
       "      <td>213.512</td>\n",
       "      <td>3</td>\n",
       "      <td>Single</td>\n",
       "    </tr>\n",
       "  </tbody>\n",
       "</table>\n",
       "</div>"
      ],
      "text/plain": [
       "   AGE  INCOME  TOTAL SPENT  EXPERIENCE SCORE MARITAL STATUS\n",
       "0   64  133498     6826.770                 5         Single\n",
       "1   42   94475     5062.451                 9        Married\n",
       "2   40   88610     8562.440                 9        Married\n",
       "3   38   84313     5522.694                 8         Single\n",
       "4   30   51498      213.512                 3         Single"
      ]
     },
     "execution_count": 72,
     "metadata": {},
     "output_type": "execute_result"
    }
   ],
   "source": [
    "classification_df = classification_df.drop(['LOYALTY GROUP'], axis = 1)\n",
    "classification_df.head()"
   ]
  },
  {
   "cell_type": "code",
   "execution_count": 73,
   "metadata": {},
   "outputs": [
    {
     "data": {
      "text/plain": [
       "151    1\n",
       "152    1\n",
       "153    1\n",
       "154    0\n",
       "155    3\n",
       "156    2\n",
       "157    1\n",
       "158    1\n",
       "159    0\n",
       "Name: MARITAL STATUS, dtype: object"
      ]
     },
     "execution_count": 73,
     "metadata": {},
     "output_type": "execute_result"
    }
   ],
   "source": [
    "# single = 0, married = 1, divorced = 2, widow/widower = 3\n",
    "\n",
    "classification_df['MARITAL STATUS'] = classification_df['MARITAL STATUS'].map(lambda x: x.replace('Single', '0'))\n",
    "classification_df['MARITAL STATUS'] = classification_df['MARITAL STATUS'].map(lambda x: x.replace('Married', '1'))\n",
    "classification_df['MARITAL STATUS'] = classification_df['MARITAL STATUS'].map(lambda x: x.replace('Divorced', '2'))\n",
    "classification_df['MARITAL STATUS'] = classification_df['MARITAL STATUS'].map(lambda x: x.replace('Widow/Widower', '3'))\n",
    "classification_df['MARITAL STATUS'][151:160]"
   ]
  },
  {
   "cell_type": "code",
   "execution_count": 74,
   "metadata": {},
   "outputs": [
    {
     "data": {
      "text/html": [
       "<div>\n",
       "<style scoped>\n",
       "    .dataframe tbody tr th:only-of-type {\n",
       "        vertical-align: middle;\n",
       "    }\n",
       "\n",
       "    .dataframe tbody tr th {\n",
       "        vertical-align: top;\n",
       "    }\n",
       "\n",
       "    .dataframe thead th {\n",
       "        text-align: right;\n",
       "    }\n",
       "</style>\n",
       "<table border=\"1\" class=\"dataframe\">\n",
       "  <thead>\n",
       "    <tr style=\"text-align: right;\">\n",
       "      <th></th>\n",
       "      <th>AGE</th>\n",
       "      <th>INCOME</th>\n",
       "      <th>TOTAL SPENT</th>\n",
       "      <th>EXPERIENCE SCORE</th>\n",
       "      <th>MARITAL STATUS</th>\n",
       "    </tr>\n",
       "  </thead>\n",
       "  <tbody>\n",
       "    <tr>\n",
       "      <th>0</th>\n",
       "      <td>64</td>\n",
       "      <td>133498</td>\n",
       "      <td>6826.770</td>\n",
       "      <td>5</td>\n",
       "      <td>0</td>\n",
       "    </tr>\n",
       "    <tr>\n",
       "      <th>1</th>\n",
       "      <td>42</td>\n",
       "      <td>94475</td>\n",
       "      <td>5062.451</td>\n",
       "      <td>9</td>\n",
       "      <td>1</td>\n",
       "    </tr>\n",
       "    <tr>\n",
       "      <th>2</th>\n",
       "      <td>40</td>\n",
       "      <td>88610</td>\n",
       "      <td>8562.440</td>\n",
       "      <td>9</td>\n",
       "      <td>1</td>\n",
       "    </tr>\n",
       "    <tr>\n",
       "      <th>3</th>\n",
       "      <td>38</td>\n",
       "      <td>84313</td>\n",
       "      <td>5522.694</td>\n",
       "      <td>8</td>\n",
       "      <td>0</td>\n",
       "    </tr>\n",
       "    <tr>\n",
       "      <th>4</th>\n",
       "      <td>30</td>\n",
       "      <td>51498</td>\n",
       "      <td>213.512</td>\n",
       "      <td>3</td>\n",
       "      <td>0</td>\n",
       "    </tr>\n",
       "  </tbody>\n",
       "</table>\n",
       "</div>"
      ],
      "text/plain": [
       "   AGE  INCOME  TOTAL SPENT  EXPERIENCE SCORE MARITAL STATUS\n",
       "0   64  133498     6826.770                 5              0\n",
       "1   42   94475     5062.451                 9              1\n",
       "2   40   88610     8562.440                 9              1\n",
       "3   38   84313     5522.694                 8              0\n",
       "4   30   51498      213.512                 3              0"
      ]
     },
     "execution_count": 74,
     "metadata": {},
     "output_type": "execute_result"
    }
   ],
   "source": [
    "classification_df.head()"
   ]
  },
  {
   "cell_type": "code",
   "execution_count": 75,
   "metadata": {},
   "outputs": [],
   "source": [
    "# classification df has to be scaled because of the ranges between income, total spent, age and the rest.\n",
    "from sklearn import preprocessing"
   ]
  },
  {
   "cell_type": "code",
   "execution_count": 76,
   "metadata": {},
   "outputs": [
    {
     "data": {
      "text/plain": [
       "array(['AGE', 'INCOME', 'TOTAL SPENT', 'EXPERIENCE SCORE',\n",
       "       'MARITAL STATUS'], dtype=object)"
      ]
     },
     "execution_count": 76,
     "metadata": {},
     "output_type": "execute_result"
    }
   ],
   "source": [
    "classification_df_column_names = classification_df.columns.values\n",
    "classification_df_column_names"
   ]
  },
  {
   "cell_type": "code",
   "execution_count": 77,
   "metadata": {},
   "outputs": [
    {
     "data": {
      "text/plain": [
       "array([[0.63888889, 0.8728178 , 0.44653193, 0.44444444, 0.        ],\n",
       "       [0.33333333, 0.57204628, 0.33079041, 0.88888889, 0.33333333],\n",
       "       [0.30555556, 0.52684153, 0.56039405, 0.88888889, 0.33333333],\n",
       "       ...,\n",
       "       [0.33333333, 0.59422859, 0.40879128, 0.77777778, 0.33333333],\n",
       "       [0.05555556, 0.1092005 , 0.        , 0.        , 0.        ],\n",
       "       [0.22222222, 0.4228205 , 0.27303383, 0.88888889, 0.66666667]])"
      ]
     },
     "execution_count": 77,
     "metadata": {},
     "output_type": "execute_result"
    }
   ],
   "source": [
    "classification_df = preprocessing.minmax_scale(classification_df)\n",
    "classification_df"
   ]
  },
  {
   "cell_type": "code",
   "execution_count": 78,
   "metadata": {},
   "outputs": [
    {
     "data": {
      "text/html": [
       "<div>\n",
       "<style scoped>\n",
       "    .dataframe tbody tr th:only-of-type {\n",
       "        vertical-align: middle;\n",
       "    }\n",
       "\n",
       "    .dataframe tbody tr th {\n",
       "        vertical-align: top;\n",
       "    }\n",
       "\n",
       "    .dataframe thead th {\n",
       "        text-align: right;\n",
       "    }\n",
       "</style>\n",
       "<table border=\"1\" class=\"dataframe\">\n",
       "  <thead>\n",
       "    <tr style=\"text-align: right;\">\n",
       "      <th></th>\n",
       "      <th>AGE</th>\n",
       "      <th>INCOME</th>\n",
       "      <th>TOTAL SPENT</th>\n",
       "      <th>EXPERIENCE SCORE</th>\n",
       "      <th>MARITAL STATUS</th>\n",
       "    </tr>\n",
       "  </thead>\n",
       "  <tbody>\n",
       "    <tr>\n",
       "      <th>0</th>\n",
       "      <td>0.638889</td>\n",
       "      <td>0.872818</td>\n",
       "      <td>0.446532</td>\n",
       "      <td>0.444444</td>\n",
       "      <td>0.000000</td>\n",
       "    </tr>\n",
       "    <tr>\n",
       "      <th>1</th>\n",
       "      <td>0.333333</td>\n",
       "      <td>0.572046</td>\n",
       "      <td>0.330790</td>\n",
       "      <td>0.888889</td>\n",
       "      <td>0.333333</td>\n",
       "    </tr>\n",
       "    <tr>\n",
       "      <th>2</th>\n",
       "      <td>0.305556</td>\n",
       "      <td>0.526842</td>\n",
       "      <td>0.560394</td>\n",
       "      <td>0.888889</td>\n",
       "      <td>0.333333</td>\n",
       "    </tr>\n",
       "    <tr>\n",
       "      <th>3</th>\n",
       "      <td>0.277778</td>\n",
       "      <td>0.493722</td>\n",
       "      <td>0.360983</td>\n",
       "      <td>0.777778</td>\n",
       "      <td>0.000000</td>\n",
       "    </tr>\n",
       "    <tr>\n",
       "      <th>4</th>\n",
       "      <td>0.166667</td>\n",
       "      <td>0.240799</td>\n",
       "      <td>0.012694</td>\n",
       "      <td>0.222222</td>\n",
       "      <td>0.000000</td>\n",
       "    </tr>\n",
       "  </tbody>\n",
       "</table>\n",
       "</div>"
      ],
      "text/plain": [
       "        AGE    INCOME  TOTAL SPENT  EXPERIENCE SCORE  MARITAL STATUS\n",
       "0  0.638889  0.872818     0.446532          0.444444        0.000000\n",
       "1  0.333333  0.572046     0.330790          0.888889        0.333333\n",
       "2  0.305556  0.526842     0.560394          0.888889        0.333333\n",
       "3  0.277778  0.493722     0.360983          0.777778        0.000000\n",
       "4  0.166667  0.240799     0.012694          0.222222        0.000000"
      ]
     },
     "execution_count": 78,
     "metadata": {},
     "output_type": "execute_result"
    }
   ],
   "source": [
    "classification_df = pd.DataFrame(classification_df, columns = classification_df_column_names)\n",
    "classification_df.head()"
   ]
  },
  {
   "cell_type": "code",
   "execution_count": 79,
   "metadata": {},
   "outputs": [
    {
     "data": {
      "text/html": [
       "<div>\n",
       "<style scoped>\n",
       "    .dataframe tbody tr th:only-of-type {\n",
       "        vertical-align: middle;\n",
       "    }\n",
       "\n",
       "    .dataframe tbody tr th {\n",
       "        vertical-align: top;\n",
       "    }\n",
       "\n",
       "    .dataframe thead th {\n",
       "        text-align: right;\n",
       "    }\n",
       "</style>\n",
       "<table border=\"1\" class=\"dataframe\">\n",
       "  <thead>\n",
       "    <tr style=\"text-align: right;\">\n",
       "      <th></th>\n",
       "      <th>AGE</th>\n",
       "      <th>INCOME</th>\n",
       "      <th>TOTAL SPENT</th>\n",
       "      <th>EXPERIENCE SCORE</th>\n",
       "      <th>MARITAL STATUS</th>\n",
       "      <th>LOYALTY GROUP</th>\n",
       "    </tr>\n",
       "  </thead>\n",
       "  <tbody>\n",
       "    <tr>\n",
       "      <th>0</th>\n",
       "      <td>0.638889</td>\n",
       "      <td>0.872818</td>\n",
       "      <td>0.446532</td>\n",
       "      <td>0.444444</td>\n",
       "      <td>0.000000</td>\n",
       "      <td>enrolled</td>\n",
       "    </tr>\n",
       "    <tr>\n",
       "      <th>1</th>\n",
       "      <td>0.333333</td>\n",
       "      <td>0.572046</td>\n",
       "      <td>0.330790</td>\n",
       "      <td>0.888889</td>\n",
       "      <td>0.333333</td>\n",
       "      <td>notenrolled</td>\n",
       "    </tr>\n",
       "    <tr>\n",
       "      <th>2</th>\n",
       "      <td>0.305556</td>\n",
       "      <td>0.526842</td>\n",
       "      <td>0.560394</td>\n",
       "      <td>0.888889</td>\n",
       "      <td>0.333333</td>\n",
       "      <td>enrolled</td>\n",
       "    </tr>\n",
       "    <tr>\n",
       "      <th>3</th>\n",
       "      <td>0.277778</td>\n",
       "      <td>0.493722</td>\n",
       "      <td>0.360983</td>\n",
       "      <td>0.777778</td>\n",
       "      <td>0.000000</td>\n",
       "      <td>enrolled</td>\n",
       "    </tr>\n",
       "    <tr>\n",
       "      <th>4</th>\n",
       "      <td>0.166667</td>\n",
       "      <td>0.240799</td>\n",
       "      <td>0.012694</td>\n",
       "      <td>0.222222</td>\n",
       "      <td>0.000000</td>\n",
       "      <td>notenrolled</td>\n",
       "    </tr>\n",
       "  </tbody>\n",
       "</table>\n",
       "</div>"
      ],
      "text/plain": [
       "        AGE    INCOME  TOTAL SPENT  EXPERIENCE SCORE  MARITAL STATUS  \\\n",
       "0  0.638889  0.872818     0.446532          0.444444        0.000000   \n",
       "1  0.333333  0.572046     0.330790          0.888889        0.333333   \n",
       "2  0.305556  0.526842     0.560394          0.888889        0.333333   \n",
       "3  0.277778  0.493722     0.360983          0.777778        0.000000   \n",
       "4  0.166667  0.240799     0.012694          0.222222        0.000000   \n",
       "\n",
       "  LOYALTY GROUP  \n",
       "0      enrolled  \n",
       "1   notenrolled  \n",
       "2      enrolled  \n",
       "3      enrolled  \n",
       "4   notenrolled  "
      ]
     },
     "execution_count": 79,
     "metadata": {},
     "output_type": "execute_result"
    }
   ],
   "source": [
    "# merge scaled data with the target variable.\n",
    "classification_df = pd.concat([classification_df, target_var], axis = 1)\n",
    "classification_df.head()"
   ]
  },
  {
   "cell_type": "code",
   "execution_count": 80,
   "metadata": {},
   "outputs": [],
   "source": [
    "# divide your data into training and testing splits\n",
    "from sklearn.model_selection import train_test_split"
   ]
  },
  {
   "cell_type": "code",
   "execution_count": 81,
   "metadata": {
    "scrolled": true
   },
   "outputs": [
    {
     "data": {
      "text/plain": [
       "<matplotlib.collections.PathCollection at 0x7efeff099790>"
      ]
     },
     "execution_count": 81,
     "metadata": {},
     "output_type": "execute_result"
    },
    {
     "data": {
      "image/png": "[encoded data removed]",
      "text/plain": [
       "<Figure size 432x288 with 1 Axes>"
      ]
     },
     "metadata": {
      "needs_background": "light"
     },
     "output_type": "display_data"
    }
   ],
   "source": [
    "plt.scatter(classification_df['AGE'], classification_df['INCOME'])"
   ]
  },
  {
   "cell_type": "code",
   "execution_count": 82,
   "metadata": {},
   "outputs": [
    {
     "data": {
      "text/plain": [
       "(0.9417989049786017, 6.452902105194393e-238)"
      ]
     },
     "execution_count": 82,
     "metadata": {},
     "output_type": "execute_result"
    }
   ],
   "source": [
    "pearsonr(classification_df['AGE'], classification_df['INCOME'])"
   ]
  },
  {
   "cell_type": "markdown",
   "metadata": {},
   "source": [
    "Age and Income are highly correlated, therefore we can omit age from the train test split, it wouldn't change the result instead it would increase the speed of the algorithm"
   ]
  },
  {
   "cell_type": "code",
   "execution_count": 83,
   "metadata": {},
   "outputs": [],
   "source": [
    "X_train,X_test,Y_train,Y_test = train_test_split(classification_df[['INCOME','TOTAL SPENT','EXPERIENCE \\\n",
    "SCORE', 'MARITAL STATUS']],classification_df[['LOYALTY GROUP']], test_size = 0.2, random_state = 42)"
   ]
  },
  {
   "cell_type": "markdown",
   "metadata": {},
   "source": [
    "### Training and testing using K Nearest Neighbour."
   ]
  },
  {
   "cell_type": "code",
   "execution_count": 84,
   "metadata": {},
   "outputs": [],
   "source": [
    "from sklearn.neighbors import KNeighborsClassifier"
   ]
  },
  {
   "cell_type": "code",
   "execution_count": 85,
   "metadata": {},
   "outputs": [],
   "source": [
    "# create an instance of the KNN classifier\n",
    "knn_classifier = KNeighborsClassifier(n_neighbors = 8)"
   ]
  },
  {
   "cell_type": "code",
   "execution_count": 86,
   "metadata": {},
   "outputs": [
    {
     "data": {
      "text/plain": [
       "KNeighborsClassifier(algorithm='auto', leaf_size=30, metric='minkowski',\n",
       "                     metric_params=None, n_jobs=None, n_neighbors=8, p=2,\n",
       "                     weights='uniform')"
      ]
     },
     "execution_count": 86,
     "metadata": {},
     "output_type": "execute_result"
    }
   ],
   "source": [
    "import numpy as np\n",
    "knn_classifier.fit(X_train, np.ravel(Y_train))"
   ]
  },
  {
   "cell_type": "code",
   "execution_count": 87,
   "metadata": {},
   "outputs": [],
   "source": [
    "knn_predicted = knn_classifier.predict(X_test)"
   ]
  },
  {
   "cell_type": "code",
   "execution_count": 88,
   "metadata": {},
   "outputs": [
    {
     "name": "stdout",
     "output_type": "stream",
     "text": [
      "Accuracy = 71.0%\n",
      "              precision    recall  f1-score   support\n",
      "\n",
      "    enrolled       0.65      0.94      0.77        51\n",
      " notenrolled       0.88      0.47      0.61        49\n",
      "\n",
      "    accuracy                           0.71       100\n",
      "   macro avg       0.77      0.71      0.69       100\n",
      "weighted avg       0.76      0.71      0.69       100\n",
      "\n"
     ]
    }
   ],
   "source": [
    "# test accuracy of KNN model by comparing to actual values\n",
    "from sklearn import metrics\n",
    "acc = metrics.accuracy_score(Y_test, knn_predicted)\n",
    "print(\"Accuracy = \" + str(acc*100) + \"%\")\n",
    "print(metrics.classification_report(Y_test, knn_predicted))"
   ]
  },
  {
   "cell_type": "markdown",
   "metadata": {},
   "source": [
    "### Training and testing using Decision trees"
   ]
  },
  {
   "cell_type": "code",
   "execution_count": 89,
   "metadata": {},
   "outputs": [],
   "source": [
    "from sklearn.tree import DecisionTreeClassifier "
   ]
  },
  {
   "cell_type": "code",
   "execution_count": 90,
   "metadata": {},
   "outputs": [],
   "source": [
    "# create an instance of the algorithm using \n",
    "dt_classifier = DecisionTreeClassifier(criterion='entropy', random_state = 0)"
   ]
  },
  {
   "cell_type": "code",
   "execution_count": 91,
   "metadata": {},
   "outputs": [
    {
     "name": "stdout",
     "output_type": "stream",
     "text": [
      "Accuracy = 72.0%.\n",
      "              precision    recall  f1-score   support\n",
      "\n",
      "    enrolled       0.74      0.69      0.71        51\n",
      " notenrolled       0.70      0.76      0.73        49\n",
      "\n",
      "    accuracy                           0.72       100\n",
      "   macro avg       0.72      0.72      0.72       100\n",
      "weighted avg       0.72      0.72      0.72       100\n",
      "\n"
     ]
    }
   ],
   "source": [
    "dt_classifier.fit(X_train, Y_train)\n",
    "dt_predicted = dt_classifier.predict(X_test)\n",
    "acc = metrics.accuracy_score(Y_test, dt_predicted)\n",
    "print(\"Accuracy = \"+ str((acc*100).round(2)) + \"%.\")\n",
    "print(metrics.classification_report(Y_test, dt_predicted))"
   ]
  },
  {
   "cell_type": "markdown",
   "metadata": {},
   "source": [
    "The decision tree classifier is more accurate compared to the KNN classifier by 1%. "
   ]
  },
  {
   "cell_type": "code",
   "execution_count": 92,
   "metadata": {},
   "outputs": [
    {
     "data": {
      "text/plain": [
       "array([0.26733614, 0.41834232, 0.25838489, 0.05593664])"
      ]
     },
     "execution_count": 92,
     "metadata": {},
     "output_type": "execute_result"
    }
   ],
   "source": [
    "# the higher the feature importance the more important the value:[income, total spent, experience score, marital status]\n",
    "dt_classifier.feature_importances_"
   ]
  },
  {
   "cell_type": "markdown",
   "metadata": {},
   "source": [
    "total spent is the most important feature and marital status is the least important., do away with marital status observe if model accuracy will improve."
   ]
  },
  {
   "cell_type": "code",
   "execution_count": 93,
   "metadata": {},
   "outputs": [],
   "source": [
    "X_train,X_test,Y_train,Y_test = train_test_split(classification_df[['INCOME','TOTAL SPENT','EXPERIENCE \\\n",
    "SCORE']], classification_df[['LOYALTY GROUP']], test_size = 0.2, random_state =42)"
   ]
  },
  {
   "cell_type": "code",
   "execution_count": 94,
   "metadata": {},
   "outputs": [
    {
     "data": {
      "text/plain": [
       "KNeighborsClassifier(algorithm='auto', leaf_size=30, metric='minkowski',\n",
       "                     metric_params=None, n_jobs=None, n_neighbors=8, p=2,\n",
       "                     weights='uniform')"
      ]
     },
     "execution_count": 94,
     "metadata": {},
     "output_type": "execute_result"
    }
   ],
   "source": [
    "knn_classifier.fit(X_train, np.ravel(Y_train))"
   ]
  },
  {
   "cell_type": "code",
   "execution_count": 95,
   "metadata": {},
   "outputs": [
    {
     "name": "stdout",
     "output_type": "stream",
     "text": [
      "Accuracy = 79.0%\n"
     ]
    }
   ],
   "source": [
    "knn_predicted = knn_classifier.predict(X_test)\n",
    "acc = metrics.accuracy_score(Y_test, knn_predicted)\n",
    "print(\"Accuracy = \"+ str((acc*100).round(2)) + '%')"
   ]
  },
  {
   "cell_type": "code",
   "execution_count": 96,
   "metadata": {},
   "outputs": [
    {
     "name": "stdout",
     "output_type": "stream",
     "text": [
      "Accuracy = 75.0%\n"
     ]
    }
   ],
   "source": [
    "dt_classifier.fit(X_train, Y_train)\n",
    "dt_predicted = dt_classifier.predict(X_test)\n",
    "acc = metrics.accuracy_score(Y_test, dt_predicted)\n",
    "print(\"Accuracy = \" + str(acc*100) + '%')"
   ]
  },
  {
   "cell_type": "markdown",
   "metadata": {},
   "source": [
    "By removing the marital status, the model accuracy has improved! The KNN classifier has improved by 8% and Decision tree classifier by 3%."
   ]
  },
  {
   "cell_type": "code",
   "execution_count": 97,
   "metadata": {},
   "outputs": [
    {
     "data": {
      "text/plain": [
       "array([0.33658323, 0.39545388, 0.26796289])"
      ]
     },
     "execution_count": 97,
     "metadata": {},
     "output_type": "execute_result"
    }
   ],
   "source": [
    "# features: [income, total spent, experience score]. Experience score is now the least important.\n",
    "dt_classifier.feature_importances_"
   ]
  },
  {
   "cell_type": "markdown",
   "metadata": {},
   "source": [
    "### Model evaluation using K-Fold cross validation"
   ]
  },
  {
   "cell_type": "code",
   "execution_count": 98,
   "metadata": {},
   "outputs": [],
   "source": [
    "from sklearn.model_selection import KFold"
   ]
  },
  {
   "cell_type": "code",
   "execution_count": 99,
   "metadata": {},
   "outputs": [],
   "source": [
    "# create a training and testing function\n",
    "def train_test(model, train_data, train_labels, test_data, test_labels):\n",
    "    model.fit(train_data, train_labels)\n",
    "    predicted = model.predict(test_data)\n",
    "    acc = metrics.accuracy_score(test_labels, predicted)\n",
    "    print(\"Accuracy = \" + str(acc*100) + \"%\")\n",
    "    return acc"
   ]
  },
  {
   "cell_type": "code",
   "execution_count": 100,
   "metadata": {},
   "outputs": [],
   "source": [
    "# set iteration to 10 to have 450 training samples and 50 testing.\n",
    "kf = KFold(n_splits = 10)"
   ]
  },
  {
   "cell_type": "code",
   "execution_count": 101,
   "metadata": {},
   "outputs": [],
   "source": [
    "# training and testing the decision tree model\n",
    "dt_classifier = DecisionTreeClassifier(criterion = 'entropy')\n",
    "accuracy_list = []"
   ]
  },
  {
   "cell_type": "code",
   "execution_count": 102,
   "metadata": {},
   "outputs": [
    {
     "name": "stdout",
     "output_type": "stream",
     "text": [
      "Accuracy = 78.0%\n",
      "Accuracy = 76.0%\n",
      "Accuracy = 72.0%\n",
      "Accuracy = 72.0%\n",
      "Accuracy = 70.0%\n",
      "Accuracy = 82.0%\n",
      "Accuracy = 70.0%\n",
      "Accuracy = 74.0%\n",
      "Accuracy = 74.0%\n",
      "Accuracy = 82.0%\n",
      "Overall accuracy = 75.0%\n"
     ]
    }
   ],
   "source": [
    "# test each fold and get average accuracy\n",
    "for train_index, test_index in kf.split(classification_df[['INCOME', 'TOTAL SPENT', 'EXPERIENCE SCORE']]):\n",
    "    X = classification_df[['INCOME', 'TOTAL SPENT', 'EXPERIENCE SCORE']]\n",
    "    Y = classification_df[['LOYALTY GROUP']]\n",
    "    X_train, X_test = X.iloc[train_index], X.iloc[test_index]\n",
    "    Y_train, Y_test = Y.iloc[train_index], Y.iloc[test_index]\n",
    "    accuracy = train_test(dt_classifier, X_train,Y_train,X_test,Y_test)\n",
    "    accuracy_list.append(accuracy)\n",
    "print(\"Overall accuracy = \" + str(((sum(accuracy_list)/len(accuracy_list))*100).round(2)) + \"%\")"
   ]
  },
  {
   "cell_type": "code",
   "execution_count": 103,
   "metadata": {},
   "outputs": [],
   "source": [
    "# training and testing the knn model.\n",
    "kn_accuracy_list = []"
   ]
  },
  {
   "cell_type": "code",
   "execution_count": 104,
   "metadata": {},
   "outputs": [
    {
     "name": "stdout",
     "output_type": "stream",
     "text": [
      "Accuracy = 64.0%\n",
      "Accuracy = 64.0%\n",
      "Accuracy = 66.0%\n",
      "Accuracy = 64.0%\n",
      "Accuracy = 82.0%\n",
      "Accuracy = 68.0%\n",
      "Accuracy = 70.0%\n",
      "Accuracy = 64.0%\n",
      "Accuracy = 76.0%\n",
      "Accuracy = 68.0%\n",
      "Overall accuracy for k_neighbours at position  1  =  68.6 %\n",
      "Accuracy = 74.0%\n",
      "Accuracy = 60.0%\n",
      "Accuracy = 72.0%\n",
      "Accuracy = 74.0%\n",
      "Accuracy = 74.0%\n",
      "Accuracy = 78.0%\n",
      "Accuracy = 70.0%\n",
      "Accuracy = 72.0%\n",
      "Accuracy = 82.0%\n",
      "Accuracy = 76.0%\n",
      "Overall accuracy for k_neighbours at position  2  =  73.2 %\n",
      "Accuracy = 72.0%\n",
      "Accuracy = 64.0%\n",
      "Accuracy = 68.0%\n",
      "Accuracy = 70.0%\n",
      "Accuracy = 78.0%\n",
      "Accuracy = 78.0%\n",
      "Accuracy = 70.0%\n",
      "Accuracy = 70.0%\n",
      "Accuracy = 76.0%\n",
      "Accuracy = 76.0%\n",
      "Overall accuracy for k_neighbours at position  3  =  72.2 %\n",
      "Accuracy = 82.0%\n",
      "Accuracy = 66.0%\n",
      "Accuracy = 72.0%\n",
      "Accuracy = 74.0%\n",
      "Accuracy = 80.0%\n",
      "Accuracy = 82.0%\n",
      "Accuracy = 70.0%\n",
      "Accuracy = 76.0%\n",
      "Accuracy = 78.0%\n",
      "Accuracy = 78.0%\n",
      "Overall accuracy for k_neighbours at position  4  =  75.80000000000001 %\n",
      "Accuracy = 78.0%\n",
      "Accuracy = 64.0%\n",
      "Accuracy = 80.0%\n",
      "Accuracy = 74.0%\n",
      "Accuracy = 80.0%\n",
      "Accuracy = 76.0%\n",
      "Accuracy = 74.0%\n",
      "Accuracy = 72.0%\n",
      "Accuracy = 72.0%\n",
      "Accuracy = 80.0%\n",
      "Overall accuracy for k_neighbours at position  5  =  74.99999999999999 %\n",
      "Accuracy = 76.0%\n",
      "Accuracy = 66.0%\n",
      "Accuracy = 74.0%\n",
      "Accuracy = 72.0%\n",
      "Accuracy = 80.0%\n",
      "Accuracy = 76.0%\n",
      "Accuracy = 74.0%\n",
      "Accuracy = 74.0%\n",
      "Accuracy = 78.0%\n",
      "Accuracy = 84.0%\n",
      "Overall accuracy for k_neighbours at position  6  =  75.4 %\n",
      "Accuracy = 68.0%\n",
      "Accuracy = 66.0%\n",
      "Accuracy = 82.0%\n",
      "Accuracy = 72.0%\n",
      "Accuracy = 84.0%\n",
      "Accuracy = 76.0%\n",
      "Accuracy = 76.0%\n",
      "Accuracy = 74.0%\n",
      "Accuracy = 76.0%\n",
      "Accuracy = 82.0%\n",
      "Overall accuracy for k_neighbours at position  7  =  75.6 %\n",
      "Accuracy = 74.0%\n",
      "Accuracy = 70.0%\n",
      "Accuracy = 84.0%\n",
      "Accuracy = 68.0%\n",
      "Accuracy = 80.0%\n",
      "Accuracy = 76.0%\n",
      "Accuracy = 76.0%\n",
      "Accuracy = 84.0%\n",
      "Accuracy = 76.0%\n",
      "Accuracy = 86.0%\n",
      "Overall accuracy for k_neighbours at position  8  =  77.39999999999999 %\n",
      "Accuracy = 72.0%\n",
      "Accuracy = 68.0%\n",
      "Accuracy = 84.0%\n",
      "Accuracy = 68.0%\n",
      "Accuracy = 84.0%\n",
      "Accuracy = 76.0%\n",
      "Accuracy = 76.0%\n",
      "Accuracy = 80.0%\n",
      "Accuracy = 76.0%\n",
      "Accuracy = 86.0%\n",
      "Overall accuracy for k_neighbours at position  9  =  76.99999999999999 %\n",
      "Accuracy = 76.0%\n",
      "Accuracy = 70.0%\n",
      "Accuracy = 82.0%\n",
      "Accuracy = 68.0%\n",
      "Accuracy = 82.0%\n",
      "Accuracy = 80.0%\n",
      "Accuracy = 78.0%\n",
      "Accuracy = 78.0%\n",
      "Accuracy = 76.0%\n",
      "Accuracy = 86.0%\n",
      "Overall accuracy for k_neighbours at position  10  =  77.60000000000001 %\n",
      "Accuracy = 74.0%\n",
      "Accuracy = 70.0%\n",
      "Accuracy = 84.0%\n",
      "Accuracy = 68.0%\n",
      "Accuracy = 82.0%\n",
      "Accuracy = 76.0%\n",
      "Accuracy = 78.0%\n",
      "Accuracy = 80.0%\n",
      "Accuracy = 76.0%\n",
      "Accuracy = 82.0%\n",
      "Overall accuracy for k_neighbours at position  11  =  77.0 %\n",
      "Accuracy = 76.0%\n",
      "Accuracy = 70.0%\n",
      "Accuracy = 78.0%\n",
      "Accuracy = 68.0%\n",
      "Accuracy = 80.0%\n",
      "Accuracy = 78.0%\n",
      "Accuracy = 80.0%\n",
      "Accuracy = 80.0%\n",
      "Accuracy = 76.0%\n",
      "Accuracy = 84.0%\n",
      "Overall accuracy for k_neighbours at position  12  =  77.0 %\n",
      "Accuracy = 76.0%\n",
      "Accuracy = 72.0%\n",
      "Accuracy = 82.0%\n",
      "Accuracy = 70.0%\n",
      "Accuracy = 82.0%\n",
      "Accuracy = 78.0%\n",
      "Accuracy = 78.0%\n",
      "Accuracy = 80.0%\n",
      "Accuracy = 74.0%\n",
      "Accuracy = 82.0%\n",
      "Overall accuracy for k_neighbours at position  13  =  77.4 %\n",
      "Accuracy = 76.0%\n",
      "Accuracy = 68.0%\n",
      "Accuracy = 80.0%\n",
      "Accuracy = 68.0%\n",
      "Accuracy = 80.0%\n",
      "Accuracy = 78.0%\n",
      "Accuracy = 72.0%\n",
      "Accuracy = 84.0%\n",
      "Accuracy = 74.0%\n",
      "Accuracy = 82.0%\n",
      "Overall accuracy for k_neighbours at position  14  =  76.20000000000002 %\n"
     ]
    }
   ],
   "source": [
    "for k_neighbours in range(1,15):\n",
    "    knn_classifier = KNeighborsClassifier(n_neighbors = k_neighbours)\n",
    "    kfold_accuracy_list = []\n",
    "    for train_index, test_index in kf.split(classification_df[['INCOME', 'TOTAL SPENT', 'EXPERIENCE SCORE']]):\n",
    "        X = classification_df[['INCOME','TOTAL SPENT', 'EXPERIENCE SCORE']]\n",
    "        Y = classification_df[['LOYALTY GROUP']]\n",
    "        X_train,X_test = X.iloc[train_index], X.iloc[test_index]\n",
    "        Y_train,Y_test = Y.iloc[train_index], Y.iloc[test_index]\n",
    "        accuracy = train_test(knn_classifier, X_train,np.ravel(Y_train),X_test,Y_test)\n",
    "        kfold_accuracy_list.append(accuracy)\n",
    "    kn_accuracy_list.append(sum(kfold_accuracy_list)/len(kfold_accuracy_list)*100)\n",
    "    print(\"Overall accuracy for k_neighbours at position \", k_neighbours, \" = \", kn_accuracy_list[k_neighbours - 1],\"%\")"
   ]
  },
  {
   "cell_type": "markdown",
   "metadata": {},
   "source": [
    "**position 10 has the  highest overall accuracy at 77.6%.**"
   ]
  },
  {
   "cell_type": "code",
   "execution_count": 105,
   "metadata": {},
   "outputs": [
    {
     "data": {
      "text/plain": [
       "<matplotlib.legend.Legend at 0x7efefefff390>"
      ]
     },
     "execution_count": 105,
     "metadata": {},
     "output_type": "execute_result"
    },
    {
     "data": {
      "image/png": "[encoded data removed]",
      "text/plain": [
       "<Figure size 432x288 with 1 Axes>"
      ]
     },
     "metadata": {
      "needs_background": "light"
     },
     "output_type": "display_data"
    }
   ],
   "source": [
    "# confirming optimal fold by plotting.\n",
    "plt.plot(range(1,15), kn_accuracy_list)\n",
    "plt.xlabel(\"range(1,15) (positions 1 - 14)\")\n",
    "plt.ylabel(\"Overall accuracies per position\")\n",
    "plt.legend(['Accuracy per K neighbours'], loc = \"upper left\")"
   ]
  },
  {
   "cell_type": "markdown",
   "metadata": {},
   "source": [
    "10 is still the optimal value for k_neighbours i.e. 10_neighbours\n",
    "\n",
    "\n",
    "\n",
    "### Compare accuracies for the two models using different input features\n",
    "\n",
    "\n",
    "**KNN accuracy with income, experience score, total spent and gender as input features**"
   ]
  },
  {
   "cell_type": "code",
   "execution_count": 106,
   "metadata": {},
   "outputs": [],
   "source": [
    "classification_df = customer_all_view[['INCOME', 'EXPERIENCE SCORE', 'TOTAL SPENT', 'GENDER']]"
   ]
  },
  {
   "cell_type": "code",
   "execution_count": 107,
   "metadata": {},
   "outputs": [
    {
     "data": {
      "text/plain": [
       "array(['INCOME', 'EXPERIENCE SCORE', 'TOTAL SPENT', 'GENDER'],\n",
       "      dtype=object)"
      ]
     },
     "execution_count": 107,
     "metadata": {},
     "output_type": "execute_result"
    }
   ],
   "source": [
    "classification_df_column_names = classification_df.columns.values\n",
    "classification_df_column_names"
   ]
  },
  {
   "cell_type": "code",
   "execution_count": 108,
   "metadata": {},
   "outputs": [],
   "source": [
    "classification_df = preprocessing.minmax_scale(classification_df)"
   ]
  },
  {
   "cell_type": "code",
   "execution_count": 109,
   "metadata": {},
   "outputs": [],
   "source": [
    "classification_df = pd.DataFrame(classification_df, columns=classification_df_column_names)"
   ]
  },
  {
   "cell_type": "code",
   "execution_count": 110,
   "metadata": {},
   "outputs": [
    {
     "data": {
      "text/html": [
       "<div>\n",
       "<style scoped>\n",
       "    .dataframe tbody tr th:only-of-type {\n",
       "        vertical-align: middle;\n",
       "    }\n",
       "\n",
       "    .dataframe tbody tr th {\n",
       "        vertical-align: top;\n",
       "    }\n",
       "\n",
       "    .dataframe thead th {\n",
       "        text-align: right;\n",
       "    }\n",
       "</style>\n",
       "<table border=\"1\" class=\"dataframe\">\n",
       "  <thead>\n",
       "    <tr style=\"text-align: right;\">\n",
       "      <th></th>\n",
       "      <th>INCOME</th>\n",
       "      <th>EXPERIENCE SCORE</th>\n",
       "      <th>TOTAL SPENT</th>\n",
       "      <th>GENDER</th>\n",
       "      <th>LOYALTY GROUP</th>\n",
       "    </tr>\n",
       "  </thead>\n",
       "  <tbody>\n",
       "    <tr>\n",
       "      <th>0</th>\n",
       "      <td>0.872818</td>\n",
       "      <td>0.444444</td>\n",
       "      <td>0.446532</td>\n",
       "      <td>0.0</td>\n",
       "      <td>enrolled</td>\n",
       "    </tr>\n",
       "    <tr>\n",
       "      <th>1</th>\n",
       "      <td>0.572046</td>\n",
       "      <td>0.888889</td>\n",
       "      <td>0.330790</td>\n",
       "      <td>0.0</td>\n",
       "      <td>notenrolled</td>\n",
       "    </tr>\n",
       "    <tr>\n",
       "      <th>2</th>\n",
       "      <td>0.526842</td>\n",
       "      <td>0.888889</td>\n",
       "      <td>0.560394</td>\n",
       "      <td>0.0</td>\n",
       "      <td>enrolled</td>\n",
       "    </tr>\n",
       "    <tr>\n",
       "      <th>3</th>\n",
       "      <td>0.493722</td>\n",
       "      <td>0.777778</td>\n",
       "      <td>0.360983</td>\n",
       "      <td>0.0</td>\n",
       "      <td>enrolled</td>\n",
       "    </tr>\n",
       "    <tr>\n",
       "      <th>4</th>\n",
       "      <td>0.240799</td>\n",
       "      <td>0.222222</td>\n",
       "      <td>0.012694</td>\n",
       "      <td>0.0</td>\n",
       "      <td>notenrolled</td>\n",
       "    </tr>\n",
       "  </tbody>\n",
       "</table>\n",
       "</div>"
      ],
      "text/plain": [
       "     INCOME  EXPERIENCE SCORE  TOTAL SPENT  GENDER LOYALTY GROUP\n",
       "0  0.872818          0.444444     0.446532     0.0      enrolled\n",
       "1  0.572046          0.888889     0.330790     0.0   notenrolled\n",
       "2  0.526842          0.888889     0.560394     0.0      enrolled\n",
       "3  0.493722          0.777778     0.360983     0.0      enrolled\n",
       "4  0.240799          0.222222     0.012694     0.0   notenrolled"
      ]
     },
     "execution_count": 110,
     "metadata": {},
     "output_type": "execute_result"
    }
   ],
   "source": [
    "classification_df = pd.concat([classification_df, target_var], axis = 1)\n",
    "classification_df.head()"
   ]
  },
  {
   "cell_type": "code",
   "execution_count": 111,
   "metadata": {},
   "outputs": [],
   "source": [
    "X_train,X_test,Y_train,Y_test = train_test_split(classification_df[['INCOME','EXPERIENCE SCORE', 'TOTAL \\\n",
    "SPENT','GENDER']], classification_df[['LOYALTY GROUP']], test_size = 0.2, random_state = 42)"
   ]
  },
  {
   "cell_type": "code",
   "execution_count": 112,
   "metadata": {},
   "outputs": [],
   "source": [
    "# 10 neighbours since 10 was the optimal value in the validation. \n",
    "knn_classifier = KNeighborsClassifier(n_neighbors=10)"
   ]
  },
  {
   "cell_type": "code",
   "execution_count": 113,
   "metadata": {},
   "outputs": [
    {
     "name": "stdout",
     "output_type": "stream",
     "text": [
      "Accuracy = 73.0%\n"
     ]
    }
   ],
   "source": [
    "knn_classifier.fit(X_train,np.ravel(Y_train))\n",
    "knn_predicted = knn_classifier.predict(X_test)\n",
    "acc = metrics.accuracy_score(Y_test, knn_predicted)\n",
    "print(\"Accuracy = \" + str(acc*100) + \"%\")"
   ]
  },
  {
   "cell_type": "markdown",
   "metadata": {},
   "source": [
    "**Decision Tree accuracy with same input features**"
   ]
  },
  {
   "cell_type": "code",
   "execution_count": 114,
   "metadata": {},
   "outputs": [
    {
     "name": "stdout",
     "output_type": "stream",
     "text": [
      "Accuracy = 74.0%\n"
     ]
    }
   ],
   "source": [
    "dt_classifier = DecisionTreeClassifier(criterion = 'entropy', random_state = 0)\n",
    "dt_classifier.fit(X_train,Y_train)\n",
    "dt_predicted = dt_classifier.predict(X_test)\n",
    "acc = metrics.accuracy_score(Y_test, dt_predicted)\n",
    "print(\"Accuracy = \" +str(acc*100) + \"%\")"
   ]
  },
  {
   "cell_type": "markdown",
   "metadata": {},
   "source": [
    "Adding gender decreases accuracy for both.\n",
    "\n",
    "**new features: experience, age, total spent**"
   ]
  },
  {
   "cell_type": "code",
   "execution_count": 115,
   "metadata": {},
   "outputs": [],
   "source": [
    "classification_df = customer_all_view[['EXPERIENCE SCORE', 'AGE', 'TOTAL SPENT']]\n",
    "classification_df_column_names = classification_df.columns.values"
   ]
  },
  {
   "cell_type": "code",
   "execution_count": 116,
   "metadata": {},
   "outputs": [],
   "source": [
    "classification_df = preprocessing.minmax_scale(classification_df)\n",
    "classification_df = pd.DataFrame(classification_df, columns=classification_df_column_names)"
   ]
  },
  {
   "cell_type": "code",
   "execution_count": 117,
   "metadata": {},
   "outputs": [],
   "source": [
    "classification_df = pd.concat([classification_df, target_var], axis = 1)"
   ]
  },
  {
   "cell_type": "code",
   "execution_count": 118,
   "metadata": {},
   "outputs": [],
   "source": [
    "X_train,X_test,Y_train,Y_test = train_test_split(classification_df[['EXPERIENCE SCORE', 'AGE', 'TOTAL \\\n",
    "SPENT']], classification_df[['LOYALTY GROUP']], test_size = 0.2, random_state = 42)"
   ]
  },
  {
   "cell_type": "code",
   "execution_count": 119,
   "metadata": {},
   "outputs": [
    {
     "data": {
      "text/html": [
       "<div>\n",
       "<style scoped>\n",
       "    .dataframe tbody tr th:only-of-type {\n",
       "        vertical-align: middle;\n",
       "    }\n",
       "\n",
       "    .dataframe tbody tr th {\n",
       "        vertical-align: top;\n",
       "    }\n",
       "\n",
       "    .dataframe thead th {\n",
       "        text-align: right;\n",
       "    }\n",
       "</style>\n",
       "<table border=\"1\" class=\"dataframe\">\n",
       "  <thead>\n",
       "    <tr style=\"text-align: right;\">\n",
       "      <th></th>\n",
       "      <th>EXPERIENCE SCORE</th>\n",
       "      <th>AGE</th>\n",
       "      <th>TOTAL SPENT</th>\n",
       "      <th>LOYALTY GROUP</th>\n",
       "    </tr>\n",
       "  </thead>\n",
       "  <tbody>\n",
       "    <tr>\n",
       "      <th>0</th>\n",
       "      <td>0.444444</td>\n",
       "      <td>0.638889</td>\n",
       "      <td>0.446532</td>\n",
       "      <td>enrolled</td>\n",
       "    </tr>\n",
       "    <tr>\n",
       "      <th>1</th>\n",
       "      <td>0.888889</td>\n",
       "      <td>0.333333</td>\n",
       "      <td>0.330790</td>\n",
       "      <td>notenrolled</td>\n",
       "    </tr>\n",
       "    <tr>\n",
       "      <th>2</th>\n",
       "      <td>0.888889</td>\n",
       "      <td>0.305556</td>\n",
       "      <td>0.560394</td>\n",
       "      <td>enrolled</td>\n",
       "    </tr>\n",
       "    <tr>\n",
       "      <th>3</th>\n",
       "      <td>0.777778</td>\n",
       "      <td>0.277778</td>\n",
       "      <td>0.360983</td>\n",
       "      <td>enrolled</td>\n",
       "    </tr>\n",
       "    <tr>\n",
       "      <th>4</th>\n",
       "      <td>0.222222</td>\n",
       "      <td>0.166667</td>\n",
       "      <td>0.012694</td>\n",
       "      <td>notenrolled</td>\n",
       "    </tr>\n",
       "  </tbody>\n",
       "</table>\n",
       "</div>"
      ],
      "text/plain": [
       "   EXPERIENCE SCORE       AGE  TOTAL SPENT LOYALTY GROUP\n",
       "0          0.444444  0.638889     0.446532      enrolled\n",
       "1          0.888889  0.333333     0.330790   notenrolled\n",
       "2          0.888889  0.305556     0.560394      enrolled\n",
       "3          0.777778  0.277778     0.360983      enrolled\n",
       "4          0.222222  0.166667     0.012694   notenrolled"
      ]
     },
     "execution_count": 119,
     "metadata": {},
     "output_type": "execute_result"
    }
   ],
   "source": [
    "classification_df.head()"
   ]
  },
  {
   "cell_type": "code",
   "execution_count": 120,
   "metadata": {},
   "outputs": [
    {
     "name": "stdout",
     "output_type": "stream",
     "text": [
      "Accuracy = 77.0%\n"
     ]
    }
   ],
   "source": [
    "knn_classifier = KNeighborsClassifier(n_neighbors=10)\n",
    "knn_classifier.fit(X_train,np.ravel(Y_train))\n",
    "knn_predicted = knn_classifier.predict(X_test)\n",
    "acc = metrics.accuracy_score(Y_test, knn_predicted)\n",
    "print(\"Accuracy = \" + str(acc*100) + \"%\")"
   ]
  },
  {
   "cell_type": "code",
   "execution_count": 121,
   "metadata": {},
   "outputs": [
    {
     "name": "stdout",
     "output_type": "stream",
     "text": [
      "Accuracy =  75.0 %\n"
     ]
    }
   ],
   "source": [
    "# Decision Tree\n",
    "dt_classifier = DecisionTreeClassifier(criterion = 'entropy', random_state=0)\n",
    "dt_classifier.fit(X_train,Y_train)\n",
    "dt_predicted = dt_classifier.predict(X_test)\n",
    "acc = metrics.accuracy_score(Y_test, dt_predicted)\n",
    "print(\"Accuracy = \", str(acc*100), \"%\")"
   ]
  },
  {
   "cell_type": "markdown",
   "metadata": {},
   "source": [
    "**New features: income and total spent**"
   ]
  },
  {
   "cell_type": "code",
   "execution_count": 122,
   "metadata": {},
   "outputs": [
    {
     "data": {
      "text/html": [
       "<div>\n",
       "<style scoped>\n",
       "    .dataframe tbody tr th:only-of-type {\n",
       "        vertical-align: middle;\n",
       "    }\n",
       "\n",
       "    .dataframe tbody tr th {\n",
       "        vertical-align: top;\n",
       "    }\n",
       "\n",
       "    .dataframe thead th {\n",
       "        text-align: right;\n",
       "    }\n",
       "</style>\n",
       "<table border=\"1\" class=\"dataframe\">\n",
       "  <thead>\n",
       "    <tr style=\"text-align: right;\">\n",
       "      <th></th>\n",
       "      <th>INCOME</th>\n",
       "      <th>TOTAL SPENT</th>\n",
       "      <th>LOYALTY GROUP</th>\n",
       "    </tr>\n",
       "  </thead>\n",
       "  <tbody>\n",
       "    <tr>\n",
       "      <th>0</th>\n",
       "      <td>0.872818</td>\n",
       "      <td>0.446532</td>\n",
       "      <td>enrolled</td>\n",
       "    </tr>\n",
       "    <tr>\n",
       "      <th>1</th>\n",
       "      <td>0.572046</td>\n",
       "      <td>0.330790</td>\n",
       "      <td>notenrolled</td>\n",
       "    </tr>\n",
       "    <tr>\n",
       "      <th>2</th>\n",
       "      <td>0.526842</td>\n",
       "      <td>0.560394</td>\n",
       "      <td>enrolled</td>\n",
       "    </tr>\n",
       "    <tr>\n",
       "      <th>3</th>\n",
       "      <td>0.493722</td>\n",
       "      <td>0.360983</td>\n",
       "      <td>enrolled</td>\n",
       "    </tr>\n",
       "    <tr>\n",
       "      <th>4</th>\n",
       "      <td>0.240799</td>\n",
       "      <td>0.012694</td>\n",
       "      <td>notenrolled</td>\n",
       "    </tr>\n",
       "  </tbody>\n",
       "</table>\n",
       "</div>"
      ],
      "text/plain": [
       "     INCOME  TOTAL SPENT LOYALTY GROUP\n",
       "0  0.872818     0.446532      enrolled\n",
       "1  0.572046     0.330790   notenrolled\n",
       "2  0.526842     0.560394      enrolled\n",
       "3  0.493722     0.360983      enrolled\n",
       "4  0.240799     0.012694   notenrolled"
      ]
     },
     "execution_count": 122,
     "metadata": {},
     "output_type": "execute_result"
    }
   ],
   "source": [
    "classification_df = customer_all_view[['INCOME', 'TOTAL SPENT']]\n",
    "classification_df_column_names = classification_df.columns.values\n",
    "classification_df = preprocessing.minmax_scale(classification_df)\n",
    "classification_df = pd.DataFrame(classification_df, columns=classification_df_column_names)\n",
    "classification_df = pd.concat([classification_df, target_var], axis = 1)\n",
    "classification_df.head()"
   ]
  },
  {
   "cell_type": "code",
   "execution_count": 123,
   "metadata": {},
   "outputs": [],
   "source": [
    "X_train,X_test,Y_train,Y_test = train_test_split(classification_df[['INCOME', 'TOTAL SPENT']],\\\n",
    "classification_df['LOYALTY GROUP'], test_size = 0.2, random_state = 42)"
   ]
  },
  {
   "cell_type": "code",
   "execution_count": 124,
   "metadata": {},
   "outputs": [
    {
     "name": "stdout",
     "output_type": "stream",
     "text": [
      "Accuracy_score =  78.0 %\n"
     ]
    }
   ],
   "source": [
    "knn_classifier = KNeighborsClassifier(n_neighbors=10)\n",
    "knn_classifier.fit(X_train,Y_train)\n",
    "knn_predicted = knn_classifier.predict(X_test)\n",
    "acc = metrics.accuracy_score(Y_test, knn_predicted)\n",
    "print(\"Accuracy_score = \", str(acc*100), \"%\")"
   ]
  },
  {
   "cell_type": "code",
   "execution_count": 125,
   "metadata": {},
   "outputs": [
    {
     "name": "stdout",
     "output_type": "stream",
     "text": [
      "Accuracy =  65.0 %\n"
     ]
    }
   ],
   "source": [
    "dt_classifier = DecisionTreeClassifier(criterion = 'entropy', random_state = 0)\n",
    "dt_classifier.fit(X_train,Y_train)\n",
    "dt_predicted = dt_classifier.predict(X_test)\n",
    "acc = metrics.accuracy_score(Y_test, dt_predicted)\n",
    "print(\"Accuracy = \", str(acc*100), '%')"
   ]
  },
  {
   "cell_type": "markdown",
   "metadata": {},
   "source": [
    "**New features: experience score, income, total spent**\n",
    "\n",
    "These are the original features but now test with k= 10"
   ]
  },
  {
   "cell_type": "code",
   "execution_count": 126,
   "metadata": {},
   "outputs": [],
   "source": [
    "classification_df = customer_all_view[['INCOME', 'EXPERIENCE SCORE', 'TOTAL SPENT']]\n",
    "classification_df_column_names = classification_df.columns.values\n",
    "classification_df = preprocessing.minmax_scale(classification_df)\n",
    "classification_df = pd.DataFrame(classification_df, columns=classification_df_column_names)\n",
    "classification_df = pd.concat([classification_df, target_var], axis = 1)"
   ]
  },
  {
   "cell_type": "code",
   "execution_count": 127,
   "metadata": {},
   "outputs": [],
   "source": [
    "X_train,X_test,Y_train,Y_test = train_test_split(classification_df[['INCOME', 'EXPERIENCE SCORE', 'TOTAL \\\n",
    "SPENT']], classification_df[['LOYALTY GROUP']], test_size = 0.2, random_state = 42)"
   ]
  },
  {
   "cell_type": "code",
   "execution_count": 128,
   "metadata": {},
   "outputs": [
    {
     "name": "stdout",
     "output_type": "stream",
     "text": [
      "Accuracy =  78.0 %\n"
     ]
    }
   ],
   "source": [
    "knn_classifier = KNeighborsClassifier(n_neighbors= 10)\n",
    "knn_classifier.fit(X_train,np.ravel(Y_train))\n",
    "knn_predicted = knn_classifier.predict(X_test)\n",
    "acc = metrics.accuracy_score(Y_test, knn_predicted)\n",
    "print(\"Accuracy = \", str(acc*100), \"%\")"
   ]
  },
  {
   "cell_type": "code",
   "execution_count": 129,
   "metadata": {},
   "outputs": [
    {
     "name": "stdout",
     "output_type": "stream",
     "text": [
      "Accuracy =  75.0 %\n"
     ]
    }
   ],
   "source": [
    "dt_classifier = DecisionTreeClassifier(criterion='entropy', random_state=0)\n",
    "dt_classifier.fit(X_train, Y_train)\n",
    "dt_predicted = dt_classifier.predict(X_test)\n",
    "acc = metrics.accuracy_score(Y_test, dt_predicted)\n",
    "print(\"Accuracy = \", str(100*acc), \"%\")"
   ]
  },
  {
   "cell_type": "markdown",
   "metadata": {},
   "source": [
    "Using KNN and DecisionTrees as my models, the summary of their behaviours are as follows:\n",
    "\n",
    "| Input Features | KNN Accuracy | Decision Tree Accuracy |\n",
    "| -------------- | ------------ | ---------------------- |\n",
    "| Income, Experience score, Total spent, Gender | 73% | 74% |\n",
    "| Income, Total spent, Experience score | 78% | 75% |\n",
    "| Experience score, Age, Total spent | 77% | 75% |\n",
    "| Income, Total spent | 78% | 65% |\n",
    "| Average accuracy | 76.5% | 72.25% |\n",
    "\n",
    "\n",
    "\n",
    "KNN, between the two tested models is the preferred model since it is always more accurate compared to Decision Tree. The best features to use are [Income, Total spent] and [Income, Total spent, Experience score] using KNN; they both are of 78% accuracy which is the highest score. It is worth noting, however, that when using n_neighbors = 8, for the same input features,  accuracy for KNN = 79% and Decision Tree = 75%\n",
    "\n",
    "\n",
    "\n",
    "### Using Linear Regression and total spent as target variable"
   ]
  },
  {
   "cell_type": "code",
   "execution_count": 130,
   "metadata": {},
   "outputs": [
    {
     "data": {
      "text/html": [
       "<div>\n",
       "<style scoped>\n",
       "    .dataframe tbody tr th:only-of-type {\n",
       "        vertical-align: middle;\n",
       "    }\n",
       "\n",
       "    .dataframe tbody tr th {\n",
       "        vertical-align: top;\n",
       "    }\n",
       "\n",
       "    .dataframe thead th {\n",
       "        text-align: right;\n",
       "    }\n",
       "</style>\n",
       "<table border=\"1\" class=\"dataframe\">\n",
       "  <thead>\n",
       "    <tr style=\"text-align: right;\">\n",
       "      <th></th>\n",
       "      <th>GENDER</th>\n",
       "      <th>AGE</th>\n",
       "      <th>INCOME</th>\n",
       "      <th>EXPERIENCE SCORE</th>\n",
       "      <th>LOYALTY GROUP</th>\n",
       "      <th>HOUSEHOLD SIZE</th>\n",
       "      <th>MARITAL STATUS</th>\n",
       "    </tr>\n",
       "  </thead>\n",
       "  <tbody>\n",
       "    <tr>\n",
       "      <th>0</th>\n",
       "      <td>0</td>\n",
       "      <td>64</td>\n",
       "      <td>133498</td>\n",
       "      <td>5</td>\n",
       "      <td>enrolled</td>\n",
       "      <td>4</td>\n",
       "      <td>Single</td>\n",
       "    </tr>\n",
       "    <tr>\n",
       "      <th>1</th>\n",
       "      <td>0</td>\n",
       "      <td>42</td>\n",
       "      <td>94475</td>\n",
       "      <td>9</td>\n",
       "      <td>notenrolled</td>\n",
       "      <td>6</td>\n",
       "      <td>Married</td>\n",
       "    </tr>\n",
       "    <tr>\n",
       "      <th>2</th>\n",
       "      <td>0</td>\n",
       "      <td>40</td>\n",
       "      <td>88610</td>\n",
       "      <td>9</td>\n",
       "      <td>enrolled</td>\n",
       "      <td>5</td>\n",
       "      <td>Married</td>\n",
       "    </tr>\n",
       "    <tr>\n",
       "      <th>3</th>\n",
       "      <td>0</td>\n",
       "      <td>38</td>\n",
       "      <td>84313</td>\n",
       "      <td>8</td>\n",
       "      <td>enrolled</td>\n",
       "      <td>1</td>\n",
       "      <td>Single</td>\n",
       "    </tr>\n",
       "    <tr>\n",
       "      <th>4</th>\n",
       "      <td>0</td>\n",
       "      <td>30</td>\n",
       "      <td>51498</td>\n",
       "      <td>3</td>\n",
       "      <td>notenrolled</td>\n",
       "      <td>1</td>\n",
       "      <td>Single</td>\n",
       "    </tr>\n",
       "  </tbody>\n",
       "</table>\n",
       "</div>"
      ],
      "text/plain": [
       "   GENDER  AGE  INCOME  EXPERIENCE SCORE LOYALTY GROUP  HOUSEHOLD SIZE  \\\n",
       "0       0   64  133498                 5      enrolled               4   \n",
       "1       0   42   94475                 9   notenrolled               6   \n",
       "2       0   40   88610                 9      enrolled               5   \n",
       "3       0   38   84313                 8      enrolled               1   \n",
       "4       0   30   51498                 3   notenrolled               1   \n",
       "\n",
       "  MARITAL STATUS  \n",
       "0         Single  \n",
       "1        Married  \n",
       "2        Married  \n",
       "3         Single  \n",
       "4         Single  "
      ]
     },
     "execution_count": 130,
     "metadata": {},
     "output_type": "execute_result"
    }
   ],
   "source": [
    "features = ['GENDER', 'AGE','INCOME','EXPERIENCE SCORE', 'LOYALTY GROUP', 'HOUSEHOLD SIZE', 'MARITAL STATUS']\n",
    "lr_input = customer_all_view[features]\n",
    "lr_input.head()"
   ]
  },
  {
   "cell_type": "code",
   "execution_count": 131,
   "metadata": {},
   "outputs": [
    {
     "data": {
      "text/html": [
       "<div>\n",
       "<style scoped>\n",
       "    .dataframe tbody tr th:only-of-type {\n",
       "        vertical-align: middle;\n",
       "    }\n",
       "\n",
       "    .dataframe tbody tr th {\n",
       "        vertical-align: top;\n",
       "    }\n",
       "\n",
       "    .dataframe thead th {\n",
       "        text-align: right;\n",
       "    }\n",
       "</style>\n",
       "<table border=\"1\" class=\"dataframe\">\n",
       "  <thead>\n",
       "    <tr style=\"text-align: right;\">\n",
       "      <th></th>\n",
       "      <th>Divorced</th>\n",
       "      <th>Married</th>\n",
       "      <th>Single</th>\n",
       "      <th>Widow/Widower</th>\n",
       "    </tr>\n",
       "  </thead>\n",
       "  <tbody>\n",
       "    <tr>\n",
       "      <th>0</th>\n",
       "      <td>0</td>\n",
       "      <td>0</td>\n",
       "      <td>1</td>\n",
       "      <td>0</td>\n",
       "    </tr>\n",
       "    <tr>\n",
       "      <th>1</th>\n",
       "      <td>0</td>\n",
       "      <td>1</td>\n",
       "      <td>0</td>\n",
       "      <td>0</td>\n",
       "    </tr>\n",
       "    <tr>\n",
       "      <th>2</th>\n",
       "      <td>0</td>\n",
       "      <td>1</td>\n",
       "      <td>0</td>\n",
       "      <td>0</td>\n",
       "    </tr>\n",
       "    <tr>\n",
       "      <th>3</th>\n",
       "      <td>0</td>\n",
       "      <td>0</td>\n",
       "      <td>1</td>\n",
       "      <td>0</td>\n",
       "    </tr>\n",
       "    <tr>\n",
       "      <th>4</th>\n",
       "      <td>0</td>\n",
       "      <td>0</td>\n",
       "      <td>1</td>\n",
       "      <td>0</td>\n",
       "    </tr>\n",
       "  </tbody>\n",
       "</table>\n",
       "</div>"
      ],
      "text/plain": [
       "   Divorced  Married  Single  Widow/Widower\n",
       "0         0        0       1              0\n",
       "1         0        1       0              0\n",
       "2         0        1       0              0\n",
       "3         0        0       1              0\n",
       "4         0        0       1              0"
      ]
     },
     "execution_count": 131,
     "metadata": {},
     "output_type": "execute_result"
    }
   ],
   "source": [
    "pd.get_dummies(lr_input['MARITAL STATUS']).head()"
   ]
  },
  {
   "cell_type": "code",
   "execution_count": 132,
   "metadata": {},
   "outputs": [
    {
     "data": {
      "text/html": [
       "<div>\n",
       "<style scoped>\n",
       "    .dataframe tbody tr th:only-of-type {\n",
       "        vertical-align: middle;\n",
       "    }\n",
       "\n",
       "    .dataframe tbody tr th {\n",
       "        vertical-align: top;\n",
       "    }\n",
       "\n",
       "    .dataframe thead th {\n",
       "        text-align: right;\n",
       "    }\n",
       "</style>\n",
       "<table border=\"1\" class=\"dataframe\">\n",
       "  <thead>\n",
       "    <tr style=\"text-align: right;\">\n",
       "      <th></th>\n",
       "      <th>GENDER</th>\n",
       "      <th>AGE</th>\n",
       "      <th>INCOME</th>\n",
       "      <th>EXPERIENCE SCORE</th>\n",
       "      <th>LOYALTY GROUP</th>\n",
       "      <th>HOUSEHOLD SIZE</th>\n",
       "      <th>MARITAL STATUS_Divorced</th>\n",
       "      <th>MARITAL STATUS_Married</th>\n",
       "      <th>MARITAL STATUS_Single</th>\n",
       "      <th>MARITAL STATUS_Widow/Widower</th>\n",
       "    </tr>\n",
       "  </thead>\n",
       "  <tbody>\n",
       "    <tr>\n",
       "      <th>0</th>\n",
       "      <td>0</td>\n",
       "      <td>64</td>\n",
       "      <td>133498</td>\n",
       "      <td>5</td>\n",
       "      <td>1</td>\n",
       "      <td>4</td>\n",
       "      <td>0</td>\n",
       "      <td>0</td>\n",
       "      <td>1</td>\n",
       "      <td>0</td>\n",
       "    </tr>\n",
       "    <tr>\n",
       "      <th>1</th>\n",
       "      <td>0</td>\n",
       "      <td>42</td>\n",
       "      <td>94475</td>\n",
       "      <td>9</td>\n",
       "      <td>0</td>\n",
       "      <td>6</td>\n",
       "      <td>0</td>\n",
       "      <td>1</td>\n",
       "      <td>0</td>\n",
       "      <td>0</td>\n",
       "    </tr>\n",
       "    <tr>\n",
       "      <th>2</th>\n",
       "      <td>0</td>\n",
       "      <td>40</td>\n",
       "      <td>88610</td>\n",
       "      <td>9</td>\n",
       "      <td>1</td>\n",
       "      <td>5</td>\n",
       "      <td>0</td>\n",
       "      <td>1</td>\n",
       "      <td>0</td>\n",
       "      <td>0</td>\n",
       "    </tr>\n",
       "    <tr>\n",
       "      <th>3</th>\n",
       "      <td>0</td>\n",
       "      <td>38</td>\n",
       "      <td>84313</td>\n",
       "      <td>8</td>\n",
       "      <td>1</td>\n",
       "      <td>1</td>\n",
       "      <td>0</td>\n",
       "      <td>0</td>\n",
       "      <td>1</td>\n",
       "      <td>0</td>\n",
       "    </tr>\n",
       "    <tr>\n",
       "      <th>4</th>\n",
       "      <td>0</td>\n",
       "      <td>30</td>\n",
       "      <td>51498</td>\n",
       "      <td>3</td>\n",
       "      <td>0</td>\n",
       "      <td>1</td>\n",
       "      <td>0</td>\n",
       "      <td>0</td>\n",
       "      <td>1</td>\n",
       "      <td>0</td>\n",
       "    </tr>\n",
       "  </tbody>\n",
       "</table>\n",
       "</div>"
      ],
      "text/plain": [
       "   GENDER  AGE  INCOME  EXPERIENCE SCORE  LOYALTY GROUP  HOUSEHOLD SIZE  \\\n",
       "0       0   64  133498                 5              1               4   \n",
       "1       0   42   94475                 9              0               6   \n",
       "2       0   40   88610                 9              1               5   \n",
       "3       0   38   84313                 8              1               1   \n",
       "4       0   30   51498                 3              0               1   \n",
       "\n",
       "   MARITAL STATUS_Divorced  MARITAL STATUS_Married  MARITAL STATUS_Single  \\\n",
       "0                        0                       0                      1   \n",
       "1                        0                       1                      0   \n",
       "2                        0                       1                      0   \n",
       "3                        0                       0                      1   \n",
       "4                        0                       0                      1   \n",
       "\n",
       "   MARITAL STATUS_Widow/Widower  \n",
       "0                             0  \n",
       "1                             0  \n",
       "2                             0  \n",
       "3                             0  \n",
       "4                             0  "
      ]
     },
     "execution_count": 132,
     "metadata": {},
     "output_type": "execute_result"
    }
   ],
   "source": [
    "pd.options.mode.chained_assignment = None\n",
    "lr_input['LOYALTY GROUP'] = pd.get_dummies(lr_input['LOYALTY GROUP'])\n",
    "lr_input = pd.get_dummies(lr_input)\n",
    "lr_input.head()"
   ]
  },
  {
   "cell_type": "code",
   "execution_count": 133,
   "metadata": {},
   "outputs": [
    {
     "data": {
      "text/html": [
       "<div>\n",
       "<style scoped>\n",
       "    .dataframe tbody tr th:only-of-type {\n",
       "        vertical-align: middle;\n",
       "    }\n",
       "\n",
       "    .dataframe tbody tr th {\n",
       "        vertical-align: top;\n",
       "    }\n",
       "\n",
       "    .dataframe thead th {\n",
       "        text-align: right;\n",
       "    }\n",
       "</style>\n",
       "<table border=\"1\" class=\"dataframe\">\n",
       "  <thead>\n",
       "    <tr style=\"text-align: right;\">\n",
       "      <th></th>\n",
       "      <th>GENDER</th>\n",
       "      <th>AGE</th>\n",
       "      <th>INCOME</th>\n",
       "      <th>EXPERIENCE SCORE</th>\n",
       "      <th>LOYALTY GROUP</th>\n",
       "      <th>HOUSEHOLD SIZE</th>\n",
       "      <th>MARITAL STATUS_Divorced</th>\n",
       "      <th>MARITAL STATUS_Married</th>\n",
       "      <th>MARITAL STATUS_Single</th>\n",
       "      <th>MARITAL STATUS_Widow/Widower</th>\n",
       "    </tr>\n",
       "  </thead>\n",
       "  <tbody>\n",
       "    <tr>\n",
       "      <th>0</th>\n",
       "      <td>0.0</td>\n",
       "      <td>0.638889</td>\n",
       "      <td>0.872818</td>\n",
       "      <td>0.444444</td>\n",
       "      <td>1.0</td>\n",
       "      <td>0.6</td>\n",
       "      <td>0.0</td>\n",
       "      <td>0.0</td>\n",
       "      <td>1.0</td>\n",
       "      <td>0.0</td>\n",
       "    </tr>\n",
       "    <tr>\n",
       "      <th>1</th>\n",
       "      <td>0.0</td>\n",
       "      <td>0.333333</td>\n",
       "      <td>0.572046</td>\n",
       "      <td>0.888889</td>\n",
       "      <td>0.0</td>\n",
       "      <td>1.0</td>\n",
       "      <td>0.0</td>\n",
       "      <td>1.0</td>\n",
       "      <td>0.0</td>\n",
       "      <td>0.0</td>\n",
       "    </tr>\n",
       "    <tr>\n",
       "      <th>2</th>\n",
       "      <td>0.0</td>\n",
       "      <td>0.305556</td>\n",
       "      <td>0.526842</td>\n",
       "      <td>0.888889</td>\n",
       "      <td>1.0</td>\n",
       "      <td>0.8</td>\n",
       "      <td>0.0</td>\n",
       "      <td>1.0</td>\n",
       "      <td>0.0</td>\n",
       "      <td>0.0</td>\n",
       "    </tr>\n",
       "    <tr>\n",
       "      <th>3</th>\n",
       "      <td>0.0</td>\n",
       "      <td>0.277778</td>\n",
       "      <td>0.493722</td>\n",
       "      <td>0.777778</td>\n",
       "      <td>1.0</td>\n",
       "      <td>0.0</td>\n",
       "      <td>0.0</td>\n",
       "      <td>0.0</td>\n",
       "      <td>1.0</td>\n",
       "      <td>0.0</td>\n",
       "    </tr>\n",
       "    <tr>\n",
       "      <th>4</th>\n",
       "      <td>0.0</td>\n",
       "      <td>0.166667</td>\n",
       "      <td>0.240799</td>\n",
       "      <td>0.222222</td>\n",
       "      <td>0.0</td>\n",
       "      <td>0.0</td>\n",
       "      <td>0.0</td>\n",
       "      <td>0.0</td>\n",
       "      <td>1.0</td>\n",
       "      <td>0.0</td>\n",
       "    </tr>\n",
       "  </tbody>\n",
       "</table>\n",
       "</div>"
      ],
      "text/plain": [
       "   GENDER       AGE    INCOME  EXPERIENCE SCORE  LOYALTY GROUP  \\\n",
       "0     0.0  0.638889  0.872818          0.444444            1.0   \n",
       "1     0.0  0.333333  0.572046          0.888889            0.0   \n",
       "2     0.0  0.305556  0.526842          0.888889            1.0   \n",
       "3     0.0  0.277778  0.493722          0.777778            1.0   \n",
       "4     0.0  0.166667  0.240799          0.222222            0.0   \n",
       "\n",
       "   HOUSEHOLD SIZE  MARITAL STATUS_Divorced  MARITAL STATUS_Married  \\\n",
       "0             0.6                      0.0                     0.0   \n",
       "1             1.0                      0.0                     1.0   \n",
       "2             0.8                      0.0                     1.0   \n",
       "3             0.0                      0.0                     0.0   \n",
       "4             0.0                      0.0                     0.0   \n",
       "\n",
       "   MARITAL STATUS_Single  MARITAL STATUS_Widow/Widower  \n",
       "0                    1.0                           0.0  \n",
       "1                    0.0                           0.0  \n",
       "2                    0.0                           0.0  \n",
       "3                    1.0                           0.0  \n",
       "4                    1.0                           0.0  "
      ]
     },
     "execution_count": 133,
     "metadata": {},
     "output_type": "execute_result"
    }
   ],
   "source": [
    "# scale\n",
    "lr_input_column_names = lr_input.columns.values\n",
    "lr_input = preprocessing.minmax_scale(lr_input)\n",
    "lr_input = pd.DataFrame(lr_input, columns = lr_input_column_names)\n",
    "lr_input.head()"
   ]
  },
  {
   "cell_type": "code",
   "execution_count": 134,
   "metadata": {},
   "outputs": [],
   "source": [
    "from sklearn.linear_model import LinearRegression"
   ]
  },
  {
   "cell_type": "code",
   "execution_count": 135,
   "metadata": {},
   "outputs": [],
   "source": [
    "X_train,X_test,Y_train,Y_test = train_test_split(lr_input, customer_all_view['TOTAL SPENT'],\\\n",
    "test_size = 0.2, random_state = 42)"
   ]
  },
  {
   "cell_type": "code",
   "execution_count": 136,
   "metadata": {},
   "outputs": [],
   "source": [
    "# instantiate the model\n",
    "regr = LinearRegression()"
   ]
  },
  {
   "cell_type": "code",
   "execution_count": 137,
   "metadata": {},
   "outputs": [
    {
     "data": {
      "text/plain": [
       "LinearRegression(copy_X=True, fit_intercept=True, n_jobs=None, normalize=False)"
      ]
     },
     "execution_count": 137,
     "metadata": {},
     "output_type": "execute_result"
    }
   ],
   "source": [
    "# train the model:\n",
    "regr.fit(X_train,Y_train)"
   ]
  },
  {
   "cell_type": "code",
   "execution_count": 138,
   "metadata": {},
   "outputs": [],
   "source": [
    "lr_predicted = regr.predict(X_test)"
   ]
  },
  {
   "cell_type": "code",
   "execution_count": 139,
   "metadata": {},
   "outputs": [
    {
     "name": "stdout",
     "output_type": "stream",
     "text": [
      "Coefficients = \n",
      "  [   35.58494877 -7076.18001534 12403.0952701    505.84578936\n",
      "  1566.48092344  1040.19923196   377.33573376   -82.02665324\n",
      "   -34.57620088  -260.73287964]\n"
     ]
    }
   ],
   "source": [
    "# get coefficients, they should be in the order of features.\n",
    "print(\"Coefficients = \\n \", regr.coef_)"
   ]
  },
  {
   "cell_type": "code",
   "execution_count": 140,
   "metadata": {},
   "outputs": [
    {
     "data": {
      "text/html": [
       "<div>\n",
       "<style scoped>\n",
       "    .dataframe tbody tr th:only-of-type {\n",
       "        vertical-align: middle;\n",
       "    }\n",
       "\n",
       "    .dataframe tbody tr th {\n",
       "        vertical-align: top;\n",
       "    }\n",
       "\n",
       "    .dataframe thead th {\n",
       "        text-align: right;\n",
       "    }\n",
       "</style>\n",
       "<table border=\"1\" class=\"dataframe\">\n",
       "  <thead>\n",
       "    <tr style=\"text-align: right;\">\n",
       "      <th></th>\n",
       "      <th>Predictor Variables</th>\n",
       "      <th>Coefficients</th>\n",
       "    </tr>\n",
       "  </thead>\n",
       "  <tbody>\n",
       "    <tr>\n",
       "      <th>0</th>\n",
       "      <td>GENDER</td>\n",
       "      <td>35.584949</td>\n",
       "    </tr>\n",
       "    <tr>\n",
       "      <th>1</th>\n",
       "      <td>AGE</td>\n",
       "      <td>-7076.180015</td>\n",
       "    </tr>\n",
       "    <tr>\n",
       "      <th>2</th>\n",
       "      <td>INCOME</td>\n",
       "      <td>12403.095270</td>\n",
       "    </tr>\n",
       "    <tr>\n",
       "      <th>3</th>\n",
       "      <td>EXPERIENCE SCORE</td>\n",
       "      <td>505.845789</td>\n",
       "    </tr>\n",
       "    <tr>\n",
       "      <th>4</th>\n",
       "      <td>LOYALTY GROUP</td>\n",
       "      <td>1566.480923</td>\n",
       "    </tr>\n",
       "    <tr>\n",
       "      <th>5</th>\n",
       "      <td>HOUSEHOLD SIZE</td>\n",
       "      <td>1040.199232</td>\n",
       "    </tr>\n",
       "    <tr>\n",
       "      <th>6</th>\n",
       "      <td>MARITAL STATUS_Divorced</td>\n",
       "      <td>377.335734</td>\n",
       "    </tr>\n",
       "    <tr>\n",
       "      <th>7</th>\n",
       "      <td>MARITAL STATUS_Married</td>\n",
       "      <td>-82.026653</td>\n",
       "    </tr>\n",
       "    <tr>\n",
       "      <th>8</th>\n",
       "      <td>MARITAL STATUS_Single</td>\n",
       "      <td>-34.576201</td>\n",
       "    </tr>\n",
       "    <tr>\n",
       "      <th>9</th>\n",
       "      <td>MARITAL STATUS_Widow/Widower</td>\n",
       "      <td>-260.732880</td>\n",
       "    </tr>\n",
       "  </tbody>\n",
       "</table>\n",
       "</div>"
      ],
      "text/plain": [
       "            Predictor Variables  Coefficients\n",
       "0                        GENDER     35.584949\n",
       "1                           AGE  -7076.180015\n",
       "2                        INCOME  12403.095270\n",
       "3              EXPERIENCE SCORE    505.845789\n",
       "4                 LOYALTY GROUP   1566.480923\n",
       "5                HOUSEHOLD SIZE   1040.199232\n",
       "6       MARITAL STATUS_Divorced    377.335734\n",
       "7        MARITAL STATUS_Married    -82.026653\n",
       "8         MARITAL STATUS_Single    -34.576201\n",
       "9  MARITAL STATUS_Widow/Widower   -260.732880"
      ]
     },
     "execution_count": 140,
     "metadata": {},
     "output_type": "execute_result"
    }
   ],
   "source": [
    "table1 = pd.DataFrame(lr_input_column_names, columns = ['Predictor Variables'])\n",
    "table2 = pd.DataFrame(regr.coef_, columns = ['Coefficients'])\n",
    "predictor_coeffs = pd.concat([table1, table2], axis = 1)\n",
    "predictor_coeffs"
   ]
  },
  {
   "cell_type": "markdown",
   "metadata": {},
   "source": [
    "positive values indicate a positive correlation with the target variable that is total spent. Negative values indicate the opposite. \n",
    "\n",
    "**The magnitude of a predictor variable is measured by the absolute value of its regression coefficient. High value = high importance.**"
   ]
  },
  {
   "cell_type": "code",
   "execution_count": 141,
   "metadata": {},
   "outputs": [
    {
     "data": {
      "text/plain": [
       "2    12403.095270\n",
       "1     7076.180015\n",
       "4     1566.480923\n",
       "5     1040.199232\n",
       "3      505.845789\n",
       "6      377.335734\n",
       "9      260.732880\n",
       "7       82.026653\n",
       "0       35.584949\n",
       "8       34.576201\n",
       "Name: Coefficients, dtype: float64"
      ]
     },
     "execution_count": 141,
     "metadata": {},
     "output_type": "execute_result"
    }
   ],
   "source": [
    "# measure importance/magnitude\n",
    "abs(predictor_coeffs['Coefficients']).sort_values(ascending = False)"
   ]
  },
  {
   "cell_type": "markdown",
   "metadata": {},
   "source": [
    "Order of importance = **Income** > Age > Loyalty > Household size > Experience > Divorced > Widowed > Married > Gender > Single"
   ]
  },
  {
   "cell_type": "code",
   "execution_count": 142,
   "metadata": {},
   "outputs": [
    {
     "data": {
      "text/plain": [
       "-38.1694752186595"
      ]
     },
     "execution_count": 142,
     "metadata": {},
     "output_type": "execute_result"
    }
   ],
   "source": [
    "# get constant/intercept that satisfies the equation y = mx + c.\n",
    "# c = constant, m = coefficients, x = predictors, y = target variable\n",
    "regr.intercept_"
   ]
  },
  {
   "cell_type": "code",
   "execution_count": 143,
   "metadata": {},
   "outputs": [],
   "source": [
    "# evaluate model using mean squared error\n",
    "from sklearn.metrics import mean_squared_error"
   ]
  },
  {
   "cell_type": "code",
   "execution_count": 144,
   "metadata": {},
   "outputs": [],
   "source": [
    "mse = mean_squared_error(Y_test, lr_predicted)"
   ]
  },
  {
   "cell_type": "code",
   "execution_count": 145,
   "metadata": {},
   "outputs": [
    {
     "data": {
      "text/plain": [
       "1778.79134116975"
      ]
     },
     "execution_count": 145,
     "metadata": {},
     "output_type": "execute_result"
    }
   ],
   "source": [
    "np.sqrt(mse)"
   ]
  },
  {
   "cell_type": "markdown",
   "metadata": {},
   "source": [
    "This means that the linear regression model is able to predict total spending with an average error of 1778.79 dollars."
   ]
  },
  {
   "cell_type": "code",
   "execution_count": 146,
   "metadata": {},
   "outputs": [],
   "source": [
    "# Using linear regression on the factors established affect total spending:Income, experience, household size\n",
    "lr_input = customer_all_view[['INCOME', 'EXPERIENCE SCORE', 'HOUSEHOLD SIZE']]\n",
    "lr_input_column_names = lr_input.columns.values\n",
    "lr_input = preprocessing.minmax_scale(lr_input)\n",
    "lr_input = pd.DataFrame(lr_input, columns = lr_input_column_names)"
   ]
  },
  {
   "cell_type": "code",
   "execution_count": 147,
   "metadata": {},
   "outputs": [],
   "source": [
    "X_train,X_test,Y_train,Y_test = train_test_split(lr_input, customer_all_view['TOTAL SPENT'], test_size = 0.2, random_state = 42)"
   ]
  },
  {
   "cell_type": "code",
   "execution_count": 148,
   "metadata": {},
   "outputs": [
    {
     "data": {
      "text/plain": [
       "array([6974.67976266, 1302.76267423, 1456.38393823])"
      ]
     },
     "execution_count": 148,
     "metadata": {},
     "output_type": "execute_result"
    }
   ],
   "source": [
    "regr.fit(X_train,Y_train)\n",
    "lr_predicted = regr.predict(X_test)\n",
    "regr.coef_"
   ]
  },
  {
   "cell_type": "code",
   "execution_count": 149,
   "metadata": {},
   "outputs": [
    {
     "data": {
      "text/plain": [
       "1910.953755091372"
      ]
     },
     "execution_count": 149,
     "metadata": {},
     "output_type": "execute_result"
    }
   ],
   "source": [
    "mse = mean_squared_error(Y_test, lr_predicted)\n",
    "np.sqrt(mse)"
   ]
  },
  {
   "cell_type": "markdown",
   "metadata": {},
   "source": [
    "Using Income, Experience score and household size has a larger error compared to using all the columns as input features."
   ]
  },
  {
   "cell_type": "code",
   "execution_count": 150,
   "metadata": {},
   "outputs": [],
   "source": [
    "lr_input = customer_all_view[['INCOME','AGE','LOYALTY GROUP', 'HOUSEHOLD SIZE', 'EXPERIENCE SCORE']]\n",
    "lr_input_column_names = lr_input.columns.values\n",
    "lr_input['LOYALTY GROUP'] = pd.get_dummies(lr_input['LOYALTY GROUP'])\n",
    "lr_input = preprocessing.minmax_scale(lr_input)\n",
    "lr_input = pd.DataFrame(lr_input, columns = lr_input_column_names)"
   ]
  },
  {
   "cell_type": "code",
   "execution_count": 151,
   "metadata": {},
   "outputs": [],
   "source": [
    "X_train,X_test,Y_train,Y_test = train_test_split(lr_input, customer_all_view['TOTAL SPENT'], test_size = 0.2, random_state = 42)"
   ]
  },
  {
   "cell_type": "code",
   "execution_count": 152,
   "metadata": {},
   "outputs": [
    {
     "data": {
      "text/plain": [
       "array([12603.96588313, -7303.9974324 ,  1554.3041761 ,   922.7433108 ,\n",
       "         490.22335566])"
      ]
     },
     "execution_count": 152,
     "metadata": {},
     "output_type": "execute_result"
    }
   ],
   "source": [
    "regr.fit(X_train,Y_train)\n",
    "lr_predicted = regr.predict(X_test)\n",
    "regr.coef_"
   ]
  },
  {
   "cell_type": "code",
   "execution_count": 153,
   "metadata": {},
   "outputs": [
    {
     "data": {
      "text/plain": [
       "1777.1751396441973"
      ]
     },
     "execution_count": 153,
     "metadata": {},
     "output_type": "execute_result"
    }
   ],
   "source": [
    "mse = mean_squared_error(Y_test, lr_predicted)\n",
    "np.sqrt(mse)"
   ]
  },
  {
   "cell_type": "code",
   "execution_count": 154,
   "metadata": {},
   "outputs": [
    {
     "data": {
      "text/plain": [
       "1.6099999999999"
      ]
     },
     "execution_count": 154,
     "metadata": {},
     "output_type": "execute_result"
    }
   ],
   "source": [
    "1778.79-1777.18"
   ]
  },
  {
   "cell_type": "code",
   "execution_count": 155,
   "metadata": {},
   "outputs": [],
   "source": [
    "# using income only:\n",
    "lr_input = customer_all_view[['INCOME']]\n",
    "lr_input = preprocessing.minmax_scale(lr_input)\n",
    "lr_input = pd.DataFrame(lr_input, columns = ['INCOME'])"
   ]
  },
  {
   "cell_type": "code",
   "execution_count": 156,
   "metadata": {},
   "outputs": [],
   "source": [
    "X_train,X_test,Y_train,Y_test = train_test_split(lr_input, customer_all_view['TOTAL SPENT'], test_size = 0.2, random_state = 42)"
   ]
  },
  {
   "cell_type": "code",
   "execution_count": 157,
   "metadata": {},
   "outputs": [
    {
     "data": {
      "text/plain": [
       "2033.2035318781275"
      ]
     },
     "execution_count": 157,
     "metadata": {},
     "output_type": "execute_result"
    }
   ],
   "source": [
    "regr.fit(X_train,Y_train)\n",
    "lr_predicted = regr.predict(X_test)\n",
    "mse = mean_squared_error(Y_test, lr_predicted)\n",
    "np.sqrt(mse)"
   ]
  },
  {
   "cell_type": "markdown",
   "metadata": {},
   "source": [
    "The best model is the one whose predictors are [INCOME','AGE','LOYALTY GROUP', 'HOUSEHOLD SIZE', 'EXPERIENCE SCORE]. It is better than the initial one by only **1.61**. It is able to predict with an average error of 1777.18 which is the least squared error."
   ]
  },
  {
   "cell_type": "code",
   "execution_count": null,
   "metadata": {},
   "outputs": [],
   "source": []
  }
 ],
 "metadata": {
  "kernelspec": {
   "display_name": "Python 3",
   "language": "python",
   "name": "python3"
  },
  "language_info": {
   "codemirror_mode": {
    "name": "ipython",
    "version": 3
   },
   "file_extension": ".py",
   "mimetype": "text/x-python",
   "name": "python",
   "nbconvert_exporter": "python",
   "pygments_lexer": "ipython3",
   "version": "3.7.6"
  }
 },
 "nbformat": 4,
 "nbformat_minor": 4
}
