{
 "cells": [
  {
   "cell_type": "markdown",
   "metadata": {},
   "source": [
    "# Report on Retailer X 's Store Performance\n",
    "\n",
    "### Summary\n",
    "\n",
    "### Introduction\n",
    "My goal for this task was to help Retailer X answer some three questions:\n",
    "1. What are the factors associated with increased spending in her store??\n",
    "2. What drives participation in their loyalty programs?\n",
    "3. How do they meet the demand of their customers?\n",
    "She is looking to expand her business however she does not have an expansion strategy and is looking for some direction. She has been marketing only through word of mouth but would now like to use target messaging to reach more people and would like to know who exactly to target.\n",
    "\n",
    "The data she had collected involved Customer data which had information about the customer."
   ]
  },
  {
   "cell_type": "code",
   "execution_count": null,
   "metadata": {},
   "outputs": [],
   "source": []
  }
 ],
 "metadata": {
  "kernelspec": {
   "display_name": "Python 3",
   "language": "python",
   "name": "python3"
  },
  "language_info": {
   "codemirror_mode": {
    "name": "ipython",
    "version": 3
   },
   "file_extension": ".py",
   "mimetype": "text/x-python",
   "name": "python",
   "nbconvert_exporter": "python",
   "pygments_lexer": "ipython3",
   "version": "3.7.6"
  }
 },
 "nbformat": 4,
 "nbformat_minor": 4
}
